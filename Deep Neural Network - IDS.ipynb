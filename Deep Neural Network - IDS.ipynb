{
 "cells": [
  {
   "cell_type": "code",
   "execution_count": 5,
   "id": "35842be3",
   "metadata": {},
   "outputs": [],
   "source": [
    "import pandas as pd\n",
    "import numpy as np\n",
    "import tensorflow as tf\n",
    "from tensorflow.keras.models import Sequential\n",
    "from tensorflow.keras.layers import Dense\n",
    "import matplotlib.pyplot as plt\n",
    "from sklearn.model_selection import train_test_split"
   ]
  },
  {
   "cell_type": "code",
   "execution_count": 6,
   "id": "11b41556",
   "metadata": {},
   "outputs": [],
   "source": [
    "dataset_normalized = pd.read_csv('dataset_normalized.csv' ,header=0)"
   ]
  },
  {
   "cell_type": "code",
   "execution_count": 8,
   "id": "89263a03",
   "metadata": {},
   "outputs": [],
   "source": [
    "X=dataset_normalized.iloc[:,:-1]"
   ]
  },
  {
   "cell_type": "code",
   "execution_count": 9,
   "id": "6fbd0a3b",
   "metadata": {},
   "outputs": [],
   "source": [
    "y=dataset_normalized.iloc[:,-1]"
   ]
  },
  {
   "cell_type": "code",
   "execution_count": 11,
   "id": "f7c795b7",
   "metadata": {},
   "outputs": [],
   "source": [
    "X_train, X_test, y_train, y_test = train_test_split(X, y, test_size=0.33, random_state=42)"
   ]
  },
  {
   "cell_type": "code",
   "execution_count": 13,
   "id": "ab16ce23",
   "metadata": {},
   "outputs": [
    {
     "name": "stdout",
     "output_type": "stream",
     "text": [
      "(1998004, 36)\n"
     ]
    }
   ],
   "source": [
    "print(X.shape)"
   ]
  },
  {
   "cell_type": "code",
   "execution_count": 14,
   "id": "385ec915",
   "metadata": {},
   "outputs": [
    {
     "name": "stdout",
     "output_type": "stream",
     "text": [
      "(1998004,)\n"
     ]
    }
   ],
   "source": [
    "print(y.shape)"
   ]
  },
  {
   "cell_type": "markdown",
   "id": "601d3d0e",
   "metadata": {},
   "source": [
    "# Deep Learning Binary Classifier"
   ]
  },
  {
   "cell_type": "code",
   "execution_count": 12,
   "id": "ed4e2689",
   "metadata": {},
   "outputs": [],
   "source": [
    "model = Sequential()"
   ]
  },
  {
   "cell_type": "code",
   "execution_count": 15,
   "id": "c52f5a48",
   "metadata": {},
   "outputs": [],
   "source": [
    "model.add(Dense(72,input_dim=36,activation='relu'))\n",
    "model.add(Dense(72, activation=\"relu\"))\n",
    "model.add(Dense(1, activation=\"sigmoid\"))"
   ]
  },
  {
   "cell_type": "code",
   "execution_count": 16,
   "id": "faf791ba",
   "metadata": {},
   "outputs": [],
   "source": [
    "model.compile(loss=\"binary_crossentropy\", optimizer=\"adam\", metrics=[\"accuracy\"])"
   ]
  },
  {
   "cell_type": "code",
   "execution_count": 19,
   "id": "ef86adc7",
   "metadata": {},
   "outputs": [
    {
     "name": "stdout",
     "output_type": "stream",
     "text": [
      "Epoch 1/100\n",
      "13387/13387 [==============================] - 14s 1ms/step - loss: 0.1977 - accuracy: 0.9503\n",
      "Epoch 2/100\n",
      "13387/13387 [==============================] - 13s 1ms/step - loss: 0.1978 - accuracy: 0.9503\n",
      "Epoch 3/100\n",
      "13387/13387 [==============================] - 14s 1ms/step - loss: 0.2157 - accuracy: 0.9502\n",
      "Epoch 4/100\n",
      "13387/13387 [==============================] - 13s 1ms/step - loss: 0.2228 - accuracy: 0.9502\n",
      "Epoch 5/100\n",
      "13387/13387 [==============================] - 14s 1ms/step - loss: 0.2268 - accuracy: 0.9503\n",
      "Epoch 6/100\n",
      "13387/13387 [==============================] - 14s 1ms/step - loss: 0.1977 - accuracy: 0.9503\n",
      "Epoch 7/100\n",
      "13387/13387 [==============================] - 13s 991us/step - loss: 0.1977 - accuracy: 0.9503\n",
      "Epoch 8/100\n",
      "13387/13387 [==============================] - 14s 1ms/step - loss: 0.2064 - accuracy: 0.9503\n",
      "Epoch 9/100\n",
      "13387/13387 [==============================] - 14s 1ms/step - loss: 0.1977 - accuracy: 0.9503\n",
      "Epoch 10/100\n",
      "13387/13387 [==============================] - 14s 1ms/step - loss: 0.2315 - accuracy: 0.9503\n",
      "Epoch 11/100\n",
      "13387/13387 [==============================] - 14s 1ms/step - loss: 0.1977 - accuracy: 0.9503\n",
      "Epoch 12/100\n",
      "13387/13387 [==============================] - 14s 1ms/step - loss: 0.2438 - accuracy: 0.9502\n",
      "Epoch 13/100\n",
      "13387/13387 [==============================] - 14s 1ms/step - loss: 0.1977 - accuracy: 0.9503\n",
      "Epoch 14/100\n",
      "13387/13387 [==============================] - 14s 1ms/step - loss: 0.2019 - accuracy: 0.9503\n",
      "Epoch 15/100\n",
      "13387/13387 [==============================] - 14s 1ms/step - loss: 0.2176 - accuracy: 0.9502\n",
      "Epoch 16/100\n",
      "13387/13387 [==============================] - 14s 1ms/step - loss: 0.1977 - accuracy: 0.9503\n",
      "Epoch 17/100\n",
      "13387/13387 [==============================] - 14s 1ms/step - loss: 0.2087 - accuracy: 0.9503\n",
      "Epoch 18/100\n",
      "13387/13387 [==============================] - 14s 1ms/step - loss: 0.1977 - accuracy: 0.9503\n",
      "Epoch 19/100\n",
      "13387/13387 [==============================] - 14s 1ms/step - loss: 0.3019 - accuracy: 0.9502\n",
      "Epoch 20/100\n",
      "13387/13387 [==============================] - 14s 1ms/step - loss: 0.1977 - accuracy: 0.9503 0s - loss: 0.197\n",
      "Epoch 21/100\n",
      "13387/13387 [==============================] - 14s 1ms/step - loss: 0.2077 - accuracy: 0.9502\n",
      "Epoch 22/100\n",
      "13387/13387 [==============================] - 14s 1ms/step - loss: 0.2139 - accuracy: 0.9503\n",
      "Epoch 23/100\n",
      "13387/13387 [==============================] - 14s 1ms/step - loss: 0.2000 - accuracy: 0.9503\n",
      "Epoch 24/100\n",
      "13387/13387 [==============================] - 14s 1ms/step - loss: 0.1977 - accuracy: 0.9503\n",
      "Epoch 25/100\n",
      "13387/13387 [==============================] - 14s 1ms/step - loss: 0.2118 - accuracy: 0.9503\n",
      "Epoch 26/100\n",
      "13387/13387 [==============================] - 14s 1ms/step - loss: 0.1977 - accuracy: 0.9503\n",
      "Epoch 27/100\n",
      "13387/13387 [==============================] - 14s 1ms/step - loss: 0.2016 - accuracy: 0.9503\n",
      "Epoch 28/100\n",
      "13387/13387 [==============================] - 13s 997us/step - loss: 0.2028 - accuracy: 0.9503\n",
      "Epoch 29/100\n",
      "13387/13387 [==============================] - 13s 981us/step - loss: 0.2181 - accuracy: 0.9503\n",
      "Epoch 30/100\n",
      "13387/13387 [==============================] - 13s 1ms/step - loss: 0.2260 - accuracy: 0.9503\n",
      "Epoch 31/100\n",
      "13387/13387 [==============================] - 13s 1ms/step - loss: 0.1977 - accuracy: 0.9503\n",
      "Epoch 32/100\n",
      "13387/13387 [==============================] - 13s 989us/step - loss: 0.1984 - accuracy: 0.9503\n",
      "Epoch 33/100\n",
      "13387/13387 [==============================] - 13s 993us/step - loss: 0.1994 - accuracy: 0.9503\n",
      "Epoch 34/100\n",
      "13387/13387 [==============================] - 14s 1ms/step - loss: 0.2234 - accuracy: 0.9503\n",
      "Epoch 35/100\n",
      "13387/13387 [==============================] - 13s 986us/step - loss: 0.1977 - accuracy: 0.9503\n",
      "Epoch 36/100\n",
      "13387/13387 [==============================] - 14s 1ms/step - loss: 0.1978 - accuracy: 0.9503\n",
      "Epoch 37/100\n",
      "13387/13387 [==============================] - 13s 995us/step - loss: 0.1992 - accuracy: 0.9503s - loss: 0.1991 \n",
      "Epoch 38/100\n",
      "13387/13387 [==============================] - 15s 1ms/step - loss: 0.2073 - accuracy: 0.9503\n",
      "Epoch 39/100\n",
      "13387/13387 [==============================] - 15s 1ms/step - loss: 0.1977 - accuracy: 0.9503\n",
      "Epoch 40/100\n",
      "13387/13387 [==============================] - 14s 1ms/step - loss: 0.2061 - accuracy: 0.9503\n",
      "Epoch 41/100\n",
      "13387/13387 [==============================] - 13s 987us/step - loss: 0.1984 - accuracy: 0.9503\n",
      "Epoch 42/100\n",
      "13387/13387 [==============================] - 13s 972us/step - loss: 0.2076 - accuracy: 0.9502\n",
      "Epoch 43/100\n",
      "13387/13387 [==============================] - 13s 975us/step - loss: 0.1977 - accuracy: 0.9503\n",
      "Epoch 44/100\n",
      "13387/13387 [==============================] - 13s 974us/step - loss: 0.1980 - accuracy: 0.9503\n",
      "Epoch 45/100\n",
      "13387/13387 [==============================] - 13s 970us/step - loss: 0.3256 - accuracy: 0.9502\n",
      "Epoch 46/100\n",
      "13387/13387 [==============================] - 13s 967us/step - loss: 0.1977 - accuracy: 0.9503\n",
      "Epoch 47/100\n",
      "13387/13387 [==============================] - 13s 978us/step - loss: 0.1978 - accuracy: 0.9503\n",
      "Epoch 48/100\n",
      "13387/13387 [==============================] - 13s 962us/step - loss: 0.2082 - accuracy: 0.9503\n",
      "Epoch 49/100\n",
      "13387/13387 [==============================] - 13s 978us/step - loss: 0.1983 - accuracy: 0.9503\n",
      "Epoch 50/100\n",
      "13387/13387 [==============================] - 13s 999us/step - loss: 0.2188 - accuracy: 0.9503\n",
      "Epoch 51/100\n",
      "13387/13387 [==============================] - 13s 985us/step - loss: 0.1983 - accuracy: 0.9502s - loss: 0.1983 - accura - ETA: 0s - loss: 0.1984 - accuracy: 0.95 - ETA: 0s -\n",
      "Epoch 52/100\n",
      "13387/13387 [==============================] - 13s 1ms/step - loss: 0.3036 - accuracy: 0.9502\n",
      "Epoch 53/100\n",
      "13387/13387 [==============================] - 13s 1ms/step - loss: 0.1977 - accuracy: 0.9503\n",
      "Epoch 54/100\n",
      "13387/13387 [==============================] - 13s 1ms/step - loss: 0.1997 - accuracy: 0.9503\n",
      "Epoch 55/100\n",
      "13387/13387 [==============================] - 13s 1ms/step - loss: 0.1977 - accuracy: 0.9503\n",
      "Epoch 56/100\n",
      "13387/13387 [==============================] - 13s 1ms/step - loss: 0.2056 - accuracy: 0.9503A: 10s - loss:  - ETA: 9s - l\n",
      "Epoch 57/100\n",
      "13387/13387 [==============================] - 13s 1ms/step - loss: 0.1977 - accuracy: 0.9503 2s - loss: 0.1981 - ac - E\n",
      "Epoch 58/100\n",
      "13387/13387 [==============================] - 13s 980us/step - loss: 0.2033 - accuracy: 0.9503\n",
      "Epoch 59/100\n",
      "13387/13387 [==============================] - 13s 987us/step - loss: 0.1977 - accuracy: 0.9503\n",
      "Epoch 60/100\n",
      "13387/13387 [==============================] - 13s 979us/step - loss: 0.2015 - accuracy: 0.9503\n",
      "Epoch 61/100\n",
      "13387/13387 [==============================] - 13s 960us/step - loss: 0.2023 - accuracy: 0.9503\n",
      "Epoch 62/100\n",
      "13387/13387 [==============================] - 13s 1ms/step - loss: 0.2082 - accuracy: 0.9502\n",
      "Epoch 63/100\n",
      "13387/13387 [==============================] - 13s 977us/step - loss: 0.1978 - accuracy: 0.9503\n",
      "Epoch 64/100\n",
      "13387/13387 [==============================] - 13s 991us/step - loss: 0.1977 - accuracy: 0.9503\n",
      "Epoch 65/100\n",
      "13387/13387 [==============================] - 13s 982us/step - loss: 0.1977 - accuracy: 0.9503\n",
      "Epoch 66/100\n",
      "13387/13387 [==============================] - 13s 985us/step - loss: 0.2143 - accuracy: 0.9502\n",
      "Epoch 67/100\n",
      "13387/13387 [==============================] - 13s 983us/step - loss: 0.1991 - accuracy: 0.9503\n",
      "Epoch 68/100\n",
      "13387/13387 [==============================] - 13s 984us/step - loss: 0.2026 - accuracy: 0.9503\n",
      "Epoch 69/100\n",
      "13387/13387 [==============================] - 13s 1ms/step - loss: 0.1982 - accuracy: 0.9503\n",
      "Epoch 70/100\n",
      "13387/13387 [==============================] - 13s 991us/step - loss: 0.2029 - accuracy: 0.9503\n",
      "Epoch 71/100\n",
      "13387/13387 [==============================] - 13s 1ms/step - loss: 0.1985 - accuracy: 0.9503\n",
      "Epoch 72/100\n",
      "13387/13387 [==============================] - 13s 991us/step - loss: 0.2473 - accuracy: 0.9502\n",
      "Epoch 73/100\n",
      "13387/13387 [==============================] - 13s 966us/step - loss: 0.1985 - accuracy: 0.9503\n",
      "Epoch 74/100\n",
      "13387/13387 [==============================] - 13s 979us/step - loss: 0.1986 - accuracy: 0.9503\n",
      "Epoch 75/100\n",
      "13387/13387 [==============================] - 13s 971us/step - loss: 0.1990 - accuracy: 0.9503\n",
      "Epoch 76/100\n",
      "13387/13387 [==============================] - 13s 1ms/step - loss: 0.1983 - accuracy: 0.9503\n",
      "Epoch 77/100\n",
      "13387/13387 [==============================] - 13s 967us/step - loss: 0.2001 - accuracy: 0.9503\n",
      "Epoch 78/100\n",
      "13387/13387 [==============================] - 13s 954us/step - loss: 0.1977 - accuracy: 0.9503\n",
      "Epoch 79/100\n",
      "13387/13387 [==============================] - 13s 1ms/step - loss: 0.1977 - accuracy: 0.9503\n",
      "Epoch 80/100\n",
      "13387/13387 [==============================] - 13s 959us/step - loss: 0.1983 - accuracy: 0.9503\n",
      "Epoch 81/100\n",
      "13387/13387 [==============================] - 13s 968us/step - loss: 0.1977 - accuracy: 0.9503\n",
      "Epoch 82/100\n",
      "13387/13387 [==============================] - 13s 1ms/step - loss: 0.2007 - accuracy: 0.9503\n",
      "Epoch 83/100\n",
      "13387/13387 [==============================] - 13s 999us/step - loss: 0.1995 - accuracy: 0.9503\n",
      "Epoch 84/100\n",
      "13387/13387 [==============================] - 13s 991us/step - loss: 0.1977 - accuracy: 0.9503\n",
      "Epoch 85/100\n",
      "13387/13387 [==============================] - 13s 1ms/step - loss: 0.2123 - accuracy: 0.9503\n",
      "Epoch 86/100\n",
      "13387/13387 [==============================] - 12s 924us/step - loss: 0.1977 - accuracy: 0.9503\n",
      "Epoch 87/100\n",
      "13387/13387 [==============================] - 13s 961us/step - loss: 0.1977 - accuracy: 0.9503\n",
      "Epoch 88/100\n",
      "13387/13387 [==============================] - 14s 1ms/step - loss: 0.2000 - accuracy: 0.9503\n",
      "Epoch 89/100\n",
      "13387/13387 [==============================] - 13s 984us/step - loss: 0.1978 - accuracy: 0.9503\n",
      "Epoch 90/100\n",
      "13387/13387 [==============================] - 13s 976us/step - loss: 0.2000 - accuracy: 0.9503\n",
      "Epoch 91/100\n",
      "13387/13387 [==============================] - 13s 953us/step - loss: 0.1977 - accuracy: 0.9503\n",
      "Epoch 92/100\n",
      "13387/13387 [==============================] - 14s 1ms/step - loss: 0.2070 - accuracy: 0.9503\n",
      "Epoch 93/100\n",
      "13387/13387 [==============================] - 13s 961us/step - loss: 0.1995 - accuracy: 0.9503\n",
      "Epoch 94/100\n",
      "13387/13387 [==============================] - 13s 972us/step - loss: 0.2030 - accuracy: 0.9503\n",
      "Epoch 95/100\n",
      "13387/13387 [==============================] - 13s 989us/step - loss: 0.2013 - accuracy: 0.9503\n",
      "Epoch 96/100\n",
      "13387/13387 [==============================] - 13s 990us/step - loss: 0.1976 - accuracy: 0.9503\n",
      "Epoch 97/100\n",
      "13387/13387 [==============================] - 13s 958us/step - loss: 0.2079 - accuracy: 0.9503\n",
      "Epoch 98/100\n",
      "13387/13387 [==============================] - 13s 980us/step - loss: 0.1977 - accuracy: 0.9503\n",
      "Epoch 99/100\n",
      "13387/13387 [==============================] - 13s 945us/step - loss: 0.2013 - accuracy: 0.9503\n",
      "Epoch 100/100\n",
      "13387/13387 [==============================] - 13s 962us/step - loss: 0.1977 - accuracy: 0.9503\n"
     ]
    },
    {
     "data": {
      "text/plain": [
       "<tensorflow.python.keras.callbacks.History at 0x1ec1d4ef5e0>"
      ]
     },
     "execution_count": 19,
     "metadata": {},
     "output_type": "execute_result"
    }
   ],
   "source": [
    "model.fit(X_train,y_train, epochs=100, batch_size=100)"
   ]
  },
  {
   "cell_type": "code",
   "execution_count": 20,
   "id": "1486eb42",
   "metadata": {},
   "outputs": [
    {
     "name": "stdout",
     "output_type": "stream",
     "text": [
      "20605/20605 [==============================] - 13s 636us/step - loss: 0.1977 - accuracy: 0.9503\n",
      "Model accuracy: 95.03\n"
     ]
    }
   ],
   "source": [
    "_, accuracy = model.evaluate(X_test, y_test)\n",
    "print(\"Model accuracy: %.2f\"% (accuracy*100))"
   ]
  },
  {
   "cell_type": "code",
   "execution_count": null,
   "id": "af9be2b6",
   "metadata": {},
   "outputs": [],
   "source": []
  }
 ],
 "metadata": {
  "kernelspec": {
   "display_name": "Python 3 (ipykernel)",
   "language": "python",
   "name": "python3"
  },
  "language_info": {
   "codemirror_mode": {
    "name": "ipython",
    "version": 3
   },
   "file_extension": ".py",
   "mimetype": "text/x-python",
   "name": "python",
   "nbconvert_exporter": "python",
   "pygments_lexer": "ipython3",
   "version": "3.8.11"
  }
 },
 "nbformat": 4,
 "nbformat_minor": 5
}
