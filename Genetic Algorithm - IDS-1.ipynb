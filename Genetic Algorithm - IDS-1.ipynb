{
 "cells": [
  {
   "cell_type": "markdown",
   "id": "8e7c9f61",
   "metadata": {},
   "source": [
    "# Load Libraries"
   ]
  },
  {
   "cell_type": "code",
   "execution_count": 1,
   "id": "06afcd31",
   "metadata": {},
   "outputs": [],
   "source": [
    "import numpy as np\n",
    "import pandas as pd\n",
    "import random\n",
    "import matplotlib.pyplot as plt\n",
    "from geneticalgorithm import geneticalgorithm as ga"
   ]
  },
  {
   "cell_type": "markdown",
   "id": "4622665e",
   "metadata": {},
   "source": [
    "# Dataset Loading and preprocessing"
   ]
  },
  {
   "cell_type": "code",
   "execution_count": 2,
   "id": "4cf7171a",
   "metadata": {},
   "outputs": [],
   "source": [
    "dataset = pd.read_csv('march.week3.038.csv' ,header=0, parse_dates=['te'],nrows=1000000,  names=[ 'te', 'td', 'sa', 'da','sp', 'dp', 'pr', 'flg', 'fwd', 'stos', 'pkt', 'byt','class'],index_col='te' )"
   ]
  },
  {
   "cell_type": "code",
   "execution_count": 3,
   "id": "c4c066e3",
   "metadata": {},
   "outputs": [],
   "source": [
    "dataset = dataset.drop(columns=['sa','da','fwd','stos'])"
   ]
  },
  {
   "cell_type": "code",
   "execution_count": 4,
   "id": "bdbe8e18",
   "metadata": {},
   "outputs": [],
   "source": [
    "dataset_normal = dataset[dataset['class']=='background']"
   ]
  },
  {
   "cell_type": "code",
   "execution_count": 5,
   "id": "a80f531f",
   "metadata": {},
   "outputs": [],
   "source": [
    "dataset_spam = dataset[dataset['class']=='anomaly-spam']"
   ]
  },
  {
   "cell_type": "code",
   "execution_count": 6,
   "id": "a8b73567",
   "metadata": {},
   "outputs": [],
   "source": [
    "dataset_normal = dataset_normal.sample(50000)"
   ]
  },
  {
   "cell_type": "code",
   "execution_count": 7,
   "id": "4a91daa7",
   "metadata": {},
   "outputs": [],
   "source": [
    "dataset_spam =dataset_spam.sample(50000)"
   ]
  },
  {
   "cell_type": "code",
   "execution_count": 8,
   "id": "f9537b6f",
   "metadata": {},
   "outputs": [],
   "source": [
    "dataset_normal_train = dataset_normal.iloc[0:25000,:]\n",
    "dataset_normal_test = dataset_normal.iloc[25001:,:]\n",
    "dataset_spam_train = dataset_spam.iloc[0:25000,:]\n",
    "dataset_spam_test = dataset_spam.iloc[25001:,:]"
   ]
  },
  {
   "cell_type": "code",
   "execution_count": 9,
   "id": "e07f578f",
   "metadata": {},
   "outputs": [
    {
     "name": "stdout",
     "output_type": "stream",
     "text": [
      "(25000, 8)\n",
      "(24999, 8)\n",
      "(25000, 8)\n",
      "(24999, 8)\n"
     ]
    }
   ],
   "source": [
    "print(dataset_normal_train.shape)\n",
    "print(dataset_normal_test.shape)\n",
    "print(dataset_spam_train.shape)\n",
    "print(dataset_spam_test.shape)"
   ]
  },
  {
   "cell_type": "markdown",
   "id": "0df60ce5",
   "metadata": {},
   "source": [
    "# Feature Selection"
   ]
  },
  {
   "cell_type": "markdown",
   "id": "77fe5fca",
   "metadata": {},
   "source": [
    "# td statistics"
   ]
  },
  {
   "cell_type": "code",
   "execution_count": 10,
   "id": "2970f2ef",
   "metadata": {},
   "outputs": [
    {
     "data": {
      "text/plain": [
       "(array([2.4581e+04, 1.3100e+02, 6.6000e+01, 1.8000e+01, 1.0000e+01,\n",
       "        1.3000e+01, 8.0000e+00, 5.0000e+00, 3.0000e+00, 1.6500e+02]),\n",
       " array([  0.    ,  31.1032,  62.2064,  93.3096, 124.4128, 155.516 ,\n",
       "        186.6192, 217.7224, 248.8256, 279.9288, 311.032 ]),\n",
       " <BarContainer object of 10 artists>)"
      ]
     },
     "execution_count": 10,
     "metadata": {},
     "output_type": "execute_result"
    },
    {
     "data": {
      "image/png": "[encoded data removed]",
      "text/plain": [
       "<Figure size 432x288 with 1 Axes>"
      ]
     },
     "metadata": {
      "needs_background": "light"
     },
     "output_type": "display_data"
    }
   ],
   "source": [
    "plt.hist(dataset_normal_train['td'])"
   ]
  },
  {
   "cell_type": "code",
   "execution_count": 11,
   "id": "51155c9b",
   "metadata": {},
   "outputs": [
    {
     "name": "stdout",
     "output_type": "stream",
     "text": [
      "td normal max: 311.032\n",
      "td normal min: 0.0\n",
      "td normal mean: 4.833556960000007\n",
      "td normal std: 26.308917120899373\n"
     ]
    }
   ],
   "source": [
    "print('td normal max:',dataset_normal_train['td'].max())\n",
    "print('td normal min:',dataset_normal_train['td'].min())\n",
    "print('td normal mean:',dataset_normal_train['td'].mean())\n",
    "print('td normal std:',dataset_normal_train['td'].std())"
   ]
  },
  {
   "cell_type": "code",
   "execution_count": 12,
   "id": "59274ede",
   "metadata": {},
   "outputs": [
    {
     "data": {
      "text/plain": [
       "0.000     9997\n",
       "0.004      132\n",
       "0.032       97\n",
       "0.252       81\n",
       "2.996       77\n",
       "          ... \n",
       "8.548        1\n",
       "16.004       1\n",
       "21.020       1\n",
       "19.924       1\n",
       "10.816       1\n",
       "Name: td, Length: 3349, dtype: int64"
      ]
     },
     "execution_count": 12,
     "metadata": {},
     "output_type": "execute_result"
    }
   ],
   "source": [
    "dataset_normal_train['td'].value_counts()"
   ]
  },
  {
   "cell_type": "code",
   "execution_count": 13,
   "id": "cd82d42f",
   "metadata": {},
   "outputs": [
    {
     "data": {
      "text/plain": [
       "(array([6.0860e+03, 1.2924e+04, 3.6520e+03, 1.0410e+03, 4.4300e+02,\n",
       "        2.9100e+02, 1.5900e+02, 1.3800e+02, 1.0400e+02, 4.0000e+00,\n",
       "        0.0000e+00, 1.0000e+00, 1.0000e+00, 0.0000e+00, 1.0000e+01,\n",
       "        3.0000e+01, 2.6000e+01, 1.4000e+01, 1.9000e+01, 1.4000e+01,\n",
       "        1.8000e+01, 1.0000e+01, 5.0000e+00, 1.0000e+00, 1.0000e+00,\n",
       "        1.0000e+00, 0.0000e+00, 0.0000e+00, 0.0000e+00, 0.0000e+00,\n",
       "        0.0000e+00, 0.0000e+00, 0.0000e+00, 0.0000e+00, 1.0000e+00,\n",
       "        0.0000e+00, 0.0000e+00, 0.0000e+00, 0.0000e+00, 0.0000e+00,\n",
       "        1.0000e+00, 0.0000e+00, 2.0000e+00, 1.0000e+00, 0.0000e+00,\n",
       "        0.0000e+00, 0.0000e+00, 0.0000e+00, 0.0000e+00, 0.0000e+00,\n",
       "        1.0000e+00, 0.0000e+00, 0.0000e+00, 0.0000e+00, 0.0000e+00,\n",
       "        0.0000e+00, 0.0000e+00, 0.0000e+00, 0.0000e+00, 0.0000e+00,\n",
       "        0.0000e+00, 0.0000e+00, 0.0000e+00, 0.0000e+00, 0.0000e+00,\n",
       "        0.0000e+00, 0.0000e+00, 0.0000e+00, 0.0000e+00, 0.0000e+00,\n",
       "        0.0000e+00, 0.0000e+00, 0.0000e+00, 0.0000e+00, 0.0000e+00,\n",
       "        0.0000e+00, 0.0000e+00, 0.0000e+00, 0.0000e+00, 0.0000e+00,\n",
       "        0.0000e+00, 0.0000e+00, 0.0000e+00, 0.0000e+00, 0.0000e+00,\n",
       "        0.0000e+00, 0.0000e+00, 0.0000e+00, 0.0000e+00, 0.0000e+00,\n",
       "        0.0000e+00, 0.0000e+00, 0.0000e+00, 0.0000e+00, 0.0000e+00,\n",
       "        0.0000e+00, 0.0000e+00, 0.0000e+00, 0.0000e+00, 1.0000e+00]),\n",
       " array([ 0.     ,  0.21764,  0.43528,  0.65292,  0.87056,  1.0882 ,\n",
       "         1.30584,  1.52348,  1.74112,  1.95876,  2.1764 ,  2.39404,\n",
       "         2.61168,  2.82932,  3.04696,  3.2646 ,  3.48224,  3.69988,\n",
       "         3.91752,  4.13516,  4.3528 ,  4.57044,  4.78808,  5.00572,\n",
       "         5.22336,  5.441  ,  5.65864,  5.87628,  6.09392,  6.31156,\n",
       "         6.5292 ,  6.74684,  6.96448,  7.18212,  7.39976,  7.6174 ,\n",
       "         7.83504,  8.05268,  8.27032,  8.48796,  8.7056 ,  8.92324,\n",
       "         9.14088,  9.35852,  9.57616,  9.7938 , 10.01144, 10.22908,\n",
       "        10.44672, 10.66436, 10.882  , 11.09964, 11.31728, 11.53492,\n",
       "        11.75256, 11.9702 , 12.18784, 12.40548, 12.62312, 12.84076,\n",
       "        13.0584 , 13.27604, 13.49368, 13.71132, 13.92896, 14.1466 ,\n",
       "        14.36424, 14.58188, 14.79952, 15.01716, 15.2348 , 15.45244,\n",
       "        15.67008, 15.88772, 16.10536, 16.323  , 16.54064, 16.75828,\n",
       "        16.97592, 17.19356, 17.4112 , 17.62884, 17.84648, 18.06412,\n",
       "        18.28176, 18.4994 , 18.71704, 18.93468, 19.15232, 19.36996,\n",
       "        19.5876 , 19.80524, 20.02288, 20.24052, 20.45816, 20.6758 ,\n",
       "        20.89344, 21.11108, 21.32872, 21.54636, 21.764  ]),\n",
       " <BarContainer object of 100 artists>)"
      ]
     },
     "execution_count": 13,
     "metadata": {},
     "output_type": "execute_result"
    },
    {
     "data": {
      "image/png": "[encoded data removed]",
      "text/plain": [
       "<Figure size 432x288 with 1 Axes>"
      ]
     },
     "metadata": {
      "needs_background": "light"
     },
     "output_type": "display_data"
    }
   ],
   "source": [
    "plt.hist(dataset_spam_train['td'],bins=100)"
   ]
  },
  {
   "cell_type": "code",
   "execution_count": 14,
   "id": "573c0747",
   "metadata": {},
   "outputs": [
    {
     "data": {
      "text/plain": [
       "0.140    919\n",
       "0.268    890\n",
       "0.264    814\n",
       "0.272    759\n",
       "0.144    737\n",
       "        ... \n",
       "3.492      1\n",
       "4.868      1\n",
       "4.312      1\n",
       "3.736      1\n",
       "9.252      1\n",
       "Name: td, Length: 551, dtype: int64"
      ]
     },
     "execution_count": 14,
     "metadata": {},
     "output_type": "execute_result"
    }
   ],
   "source": [
    "dataset_spam_train['td'].value_counts()"
   ]
  },
  {
   "cell_type": "code",
   "execution_count": 15,
   "id": "af3dc5ee",
   "metadata": {},
   "outputs": [
    {
     "name": "stdout",
     "output_type": "stream",
     "text": [
      "td normal max: 21.764\n",
      "td normal min: 0.0\n",
      "td normal mean: 0.39005696000000933\n",
      "td normal std: 0.4209595016051191\n"
     ]
    }
   ],
   "source": [
    "print('td normal max:',dataset_spam_train['td'].max())\n",
    "print('td normal min:',dataset_spam_train['td'].min())\n",
    "print('td normal mean:',dataset_spam_train['td'].mean())\n",
    "print('td normal std:',dataset_spam_train['td'].std())"
   ]
  },
  {
   "cell_type": "markdown",
   "id": "f645942c",
   "metadata": {},
   "source": [
    "# sp statistics"
   ]
  },
  {
   "cell_type": "code",
   "execution_count": 16,
   "id": "8dffa45d",
   "metadata": {},
   "outputs": [
    {
     "data": {
      "text/plain": [
       "(array([9656.,  220.,  228.,  313.,  149.,  263.,  309.,  206.,  148.,\n",
       "         346.,  137.,  296.,  114.,  140.,  117.,  115.,  322.,  110.,\n",
       "         100.,  124.,  286.,  180.,  113.,  100.,  125.,  299.,  329.,\n",
       "         317.,  311.,  301.,  396.,  287.,  305.,  317.,  311.,  323.,\n",
       "         315.,  532.,  773.,  699.,  545.,  549.,  517.,  510.,  522.,\n",
       "         514.,  523.,  508.,  371.,  409.]),\n",
       " array([    0.  ,  1310.62,  2621.24,  3931.86,  5242.48,  6553.1 ,\n",
       "         7863.72,  9174.34, 10484.96, 11795.58, 13106.2 , 14416.82,\n",
       "        15727.44, 17038.06, 18348.68, 19659.3 , 20969.92, 22280.54,\n",
       "        23591.16, 24901.78, 26212.4 , 27523.02, 28833.64, 30144.26,\n",
       "        31454.88, 32765.5 , 34076.12, 35386.74, 36697.36, 38007.98,\n",
       "        39318.6 , 40629.22, 41939.84, 43250.46, 44561.08, 45871.7 ,\n",
       "        47182.32, 48492.94, 49803.56, 51114.18, 52424.8 , 53735.42,\n",
       "        55046.04, 56356.66, 57667.28, 58977.9 , 60288.52, 61599.14,\n",
       "        62909.76, 64220.38, 65531.  ]),\n",
       " <BarContainer object of 50 artists>)"
      ]
     },
     "execution_count": 16,
     "metadata": {},
     "output_type": "execute_result"
    },
    {
     "data": {
      "image/png": "[encoded data removed]",
      "text/plain": [
       "<Figure size 432x288 with 1 Axes>"
      ]
     },
     "metadata": {
      "needs_background": "light"
     },
     "output_type": "display_data"
    }
   ],
   "source": [
    "plt.hist(dataset_normal_train['sp'],bins=50)"
   ]
  },
  {
   "cell_type": "code",
   "execution_count": 17,
   "id": "58bee9da",
   "metadata": {},
   "outputs": [
    {
     "data": {
      "text/plain": [
       "80       3324\n",
       "53       2543\n",
       "443      2391\n",
       "0         575\n",
       "13008     226\n",
       "         ... \n",
       "43590       1\n",
       "41122       1\n",
       "55738       1\n",
       "48911       1\n",
       "49922       1\n",
       "Name: sp, Length: 11749, dtype: int64"
      ]
     },
     "execution_count": 17,
     "metadata": {},
     "output_type": "execute_result"
    }
   ],
   "source": [
    "dataset_normal_train['sp'].value_counts()"
   ]
  },
  {
   "cell_type": "code",
   "execution_count": 18,
   "id": "c0b93465",
   "metadata": {},
   "outputs": [
    {
     "data": {
      "text/plain": [
       "(array([12370.,     0.,     0.,     0.,     0.,     0.,     0.,     0.,\n",
       "            0.,     0.,     0.,     0.,     0.,     0.,     0.,     0.,\n",
       "            0.,     0.,     0.,     0.,     0.,     0.,     0.,     0.,\n",
       "            0.,     0.,     0.,     0.,     0.,     0.,     0.,     0.,\n",
       "            0.,     0.,     0.,     0.,     0.,     0.,     0.,     0.,\n",
       "            0.,     0.,     0.,     0.,     0.,     0.,     0.,     0.,\n",
       "            0.,     0.,     0.,     0.,     0.,    83.,   251.,   255.,\n",
       "          246.,   273.,   278.,   262.,   272.,   249.,   282.,   276.,\n",
       "          257.,   283.,   312.,   254.,   296.,   275.,   270.,   268.,\n",
       "          280.,   259.,   273.,   272.,   263.,   259.,   260.,   274.,\n",
       "          281.,   292.,   296.,   292.,   252.,   293.,   275.,   278.,\n",
       "          232.,   274.,   271.,   253.,   308.,   266.,   283.,   280.,\n",
       "          260.,   276.,   278.,   308.]),\n",
       " array([2.500000e+01, 6.347400e+02, 1.244480e+03, 1.854220e+03,\n",
       "        2.463960e+03, 3.073700e+03, 3.683440e+03, 4.293180e+03,\n",
       "        4.902920e+03, 5.512660e+03, 6.122400e+03, 6.732140e+03,\n",
       "        7.341880e+03, 7.951620e+03, 8.561360e+03, 9.171100e+03,\n",
       "        9.780840e+03, 1.039058e+04, 1.100032e+04, 1.161006e+04,\n",
       "        1.221980e+04, 1.282954e+04, 1.343928e+04, 1.404902e+04,\n",
       "        1.465876e+04, 1.526850e+04, 1.587824e+04, 1.648798e+04,\n",
       "        1.709772e+04, 1.770746e+04, 1.831720e+04, 1.892694e+04,\n",
       "        1.953668e+04, 2.014642e+04, 2.075616e+04, 2.136590e+04,\n",
       "        2.197564e+04, 2.258538e+04, 2.319512e+04, 2.380486e+04,\n",
       "        2.441460e+04, 2.502434e+04, 2.563408e+04, 2.624382e+04,\n",
       "        2.685356e+04, 2.746330e+04, 2.807304e+04, 2.868278e+04,\n",
       "        2.929252e+04, 2.990226e+04, 3.051200e+04, 3.112174e+04,\n",
       "        3.173148e+04, 3.234122e+04, 3.295096e+04, 3.356070e+04,\n",
       "        3.417044e+04, 3.478018e+04, 3.538992e+04, 3.599966e+04,\n",
       "        3.660940e+04, 3.721914e+04, 3.782888e+04, 3.843862e+04,\n",
       "        3.904836e+04, 3.965810e+04, 4.026784e+04, 4.087758e+04,\n",
       "        4.148732e+04, 4.209706e+04, 4.270680e+04, 4.331654e+04,\n",
       "        4.392628e+04, 4.453602e+04, 4.514576e+04, 4.575550e+04,\n",
       "        4.636524e+04, 4.697498e+04, 4.758472e+04, 4.819446e+04,\n",
       "        4.880420e+04, 4.941394e+04, 5.002368e+04, 5.063342e+04,\n",
       "        5.124316e+04, 5.185290e+04, 5.246264e+04, 5.307238e+04,\n",
       "        5.368212e+04, 5.429186e+04, 5.490160e+04, 5.551134e+04,\n",
       "        5.612108e+04, 5.673082e+04, 5.734056e+04, 5.795030e+04,\n",
       "        5.856004e+04, 5.916978e+04, 5.977952e+04, 6.038926e+04,\n",
       "        6.099900e+04]),\n",
       " <BarContainer object of 100 artists>)"
      ]
     },
     "execution_count": 18,
     "metadata": {},
     "output_type": "execute_result"
    },
    {
     "data": {
      "image/png": "[encoded data removed]",
      "text/plain": [
       "<Figure size 432x288 with 1 Axes>"
      ]
     },
     "metadata": {
      "needs_background": "light"
     },
     "output_type": "display_data"
    }
   ],
   "source": [
    "plt.hist(dataset_spam_train['sp'],bins=100)"
   ]
  },
  {
   "cell_type": "code",
   "execution_count": 19,
   "id": "9cc20094",
   "metadata": {},
   "outputs": [
    {
     "data": {
      "text/plain": [
       "25       12370\n",
       "47563        5\n",
       "37890        5\n",
       "50380        5\n",
       "41897        5\n",
       "         ...  \n",
       "48589        1\n",
       "48334        1\n",
       "55889        1\n",
       "48654        1\n",
       "46439        1\n",
       "Name: sp, Length: 10210, dtype: int64"
      ]
     },
     "execution_count": 19,
     "metadata": {},
     "output_type": "execute_result"
    }
   ],
   "source": [
    "dataset_spam_train['sp'].value_counts()"
   ]
  },
  {
   "cell_type": "markdown",
   "id": "779c8fa5",
   "metadata": {},
   "source": [
    "# dp statistics"
   ]
  },
  {
   "cell_type": "code",
   "execution_count": 20,
   "id": "943754ff",
   "metadata": {},
   "outputs": [
    {
     "data": {
      "text/plain": [
       "(array([11993.,   227.,   206.,   247.,    90.,   384.,   288.,   146.,\n",
       "           99.,   425.,    88.,   339.,    70.,    86.,    59.,    90.,\n",
       "          251.,    66.,    70.,    73.,   236.,   132.,    98.,    62.,\n",
       "           81.,   299.,   272.,   297.,   211.,   267.,   376.,   254.,\n",
       "          273.,   239.,   269.,   272.,   248.,   449.,   607.,   670.,\n",
       "          452.,   478.,   460.,   476.,   493.,   380.,   383.,   365.,\n",
       "          286.,   318.]),\n",
       " array([    0.  ,  1310.68,  2621.36,  3932.04,  5242.72,  6553.4 ,\n",
       "         7864.08,  9174.76, 10485.44, 11796.12, 13106.8 , 14417.48,\n",
       "        15728.16, 17038.84, 18349.52, 19660.2 , 20970.88, 22281.56,\n",
       "        23592.24, 24902.92, 26213.6 , 27524.28, 28834.96, 30145.64,\n",
       "        31456.32, 32767.  , 34077.68, 35388.36, 36699.04, 38009.72,\n",
       "        39320.4 , 40631.08, 41941.76, 43252.44, 44563.12, 45873.8 ,\n",
       "        47184.48, 48495.16, 49805.84, 51116.52, 52427.2 , 53737.88,\n",
       "        55048.56, 56359.24, 57669.92, 58980.6 , 60291.28, 61601.96,\n",
       "        62912.64, 64223.32, 65534.  ]),\n",
       " <BarContainer object of 50 artists>)"
      ]
     },
     "execution_count": 20,
     "metadata": {},
     "output_type": "execute_result"
    },
    {
     "data": {
      "image/png": "[encoded data removed]",
      "text/plain": [
       "<Figure size 432x288 with 1 Axes>"
      ]
     },
     "metadata": {
      "needs_background": "light"
     },
     "output_type": "display_data"
    }
   ],
   "source": [
    "plt.hist(dataset_normal_train['dp'],bins=50)"
   ]
  },
  {
   "cell_type": "code",
   "execution_count": 21,
   "id": "12864b8a",
   "metadata": {},
   "outputs": [
    {
     "data": {
      "text/plain": [
       "53       3657\n",
       "80       3294\n",
       "443      2383\n",
       "445      1252\n",
       "13008     340\n",
       "         ... \n",
       "54911       1\n",
       "36172       1\n",
       "41285       1\n",
       "60612       1\n",
       "29229       1\n",
       "Name: dp, Length: 9393, dtype: int64"
      ]
     },
     "execution_count": 21,
     "metadata": {},
     "output_type": "execute_result"
    }
   ],
   "source": [
    "dataset_normal_train['dp'].value_counts()"
   ]
  },
  {
   "cell_type": "code",
   "execution_count": 22,
   "id": "b7720b9f",
   "metadata": {},
   "outputs": [
    {
     "data": {
      "text/plain": [
       "(array([12630.,     0.,     0.,     0.,     0.,     0.,     0.,     0.,\n",
       "            0.,     0.,     0.,     0.,     0.,     0.,     0.,     0.,\n",
       "            0.,     0.,     0.,     0.,     0.,     0.,     0.,     0.,\n",
       "            0.,     0.,     0.,     0.,     0.,     0.,     0.,     0.,\n",
       "            0.,     0.,     0.,     0.,     0.,     0.,     0.,     0.,\n",
       "            0.,     0.,     0.,     0.,     0.,     0.,     0.,     0.,\n",
       "            0.,     0.,     0.,     0.,     0.,    79.,   283.,   239.,\n",
       "          257.,   288.,   263.,   237.,   255.,   248.,   270.,   266.,\n",
       "          255.,   280.,   272.,   252.,   260.,   266.,   256.,   252.,\n",
       "          267.,   255.,   259.,   281.,   298.,   260.,   263.,   280.,\n",
       "          263.,   279.,   281.,   281.,   278.,   281.,   285.,   267.,\n",
       "          232.,   295.,   283.,   249.,   279.,   253.,   257.,   276.,\n",
       "          253.,   272.,   265.,   300.]),\n",
       " array([2.500000e+01, 6.347400e+02, 1.244480e+03, 1.854220e+03,\n",
       "        2.463960e+03, 3.073700e+03, 3.683440e+03, 4.293180e+03,\n",
       "        4.902920e+03, 5.512660e+03, 6.122400e+03, 6.732140e+03,\n",
       "        7.341880e+03, 7.951620e+03, 8.561360e+03, 9.171100e+03,\n",
       "        9.780840e+03, 1.039058e+04, 1.100032e+04, 1.161006e+04,\n",
       "        1.221980e+04, 1.282954e+04, 1.343928e+04, 1.404902e+04,\n",
       "        1.465876e+04, 1.526850e+04, 1.587824e+04, 1.648798e+04,\n",
       "        1.709772e+04, 1.770746e+04, 1.831720e+04, 1.892694e+04,\n",
       "        1.953668e+04, 2.014642e+04, 2.075616e+04, 2.136590e+04,\n",
       "        2.197564e+04, 2.258538e+04, 2.319512e+04, 2.380486e+04,\n",
       "        2.441460e+04, 2.502434e+04, 2.563408e+04, 2.624382e+04,\n",
       "        2.685356e+04, 2.746330e+04, 2.807304e+04, 2.868278e+04,\n",
       "        2.929252e+04, 2.990226e+04, 3.051200e+04, 3.112174e+04,\n",
       "        3.173148e+04, 3.234122e+04, 3.295096e+04, 3.356070e+04,\n",
       "        3.417044e+04, 3.478018e+04, 3.538992e+04, 3.599966e+04,\n",
       "        3.660940e+04, 3.721914e+04, 3.782888e+04, 3.843862e+04,\n",
       "        3.904836e+04, 3.965810e+04, 4.026784e+04, 4.087758e+04,\n",
       "        4.148732e+04, 4.209706e+04, 4.270680e+04, 4.331654e+04,\n",
       "        4.392628e+04, 4.453602e+04, 4.514576e+04, 4.575550e+04,\n",
       "        4.636524e+04, 4.697498e+04, 4.758472e+04, 4.819446e+04,\n",
       "        4.880420e+04, 4.941394e+04, 5.002368e+04, 5.063342e+04,\n",
       "        5.124316e+04, 5.185290e+04, 5.246264e+04, 5.307238e+04,\n",
       "        5.368212e+04, 5.429186e+04, 5.490160e+04, 5.551134e+04,\n",
       "        5.612108e+04, 5.673082e+04, 5.734056e+04, 5.795030e+04,\n",
       "        5.856004e+04, 5.916978e+04, 5.977952e+04, 6.038926e+04,\n",
       "        6.099900e+04]),\n",
       " <BarContainer object of 100 artists>)"
      ]
     },
     "execution_count": 22,
     "metadata": {},
     "output_type": "execute_result"
    },
    {
     "data": {
      "image/png": "[encoded data removed]",
      "text/plain": [
       "<Figure size 432x288 with 1 Axes>"
      ]
     },
     "metadata": {
      "needs_background": "light"
     },
     "output_type": "display_data"
    }
   ],
   "source": [
    "plt.hist(dataset_spam_train['dp'],bins=100)"
   ]
  },
  {
   "cell_type": "code",
   "execution_count": 23,
   "id": "05a4dd65",
   "metadata": {},
   "outputs": [
    {
     "data": {
      "text/plain": [
       "25       12630\n",
       "60215        5\n",
       "60485        5\n",
       "46584        4\n",
       "56329        4\n",
       "         ...  \n",
       "48136        1\n",
       "33828        1\n",
       "48805        1\n",
       "48533        1\n",
       "57953        1\n",
       "Name: dp, Length: 10043, dtype: int64"
      ]
     },
     "execution_count": 23,
     "metadata": {},
     "output_type": "execute_result"
    }
   ],
   "source": [
    "dataset_spam_train['dp'].value_counts()"
   ]
  },
  {
   "cell_type": "markdown",
   "id": "513958d0",
   "metadata": {},
   "source": [
    "# pr statistics"
   ]
  },
  {
   "cell_type": "code",
   "execution_count": 24,
   "id": "f52554fa",
   "metadata": {},
   "outputs": [
    {
     "data": {
      "text/plain": [
       "(array([1.5862e+04, 0.0000e+00, 0.0000e+00, 0.0000e+00, 0.0000e+00,\n",
       "        0.0000e+00, 0.0000e+00, 0.0000e+00, 0.0000e+00, 0.0000e+00,\n",
       "        8.5500e+03, 0.0000e+00, 0.0000e+00, 0.0000e+00, 0.0000e+00,\n",
       "        0.0000e+00, 0.0000e+00, 0.0000e+00, 0.0000e+00, 0.0000e+00,\n",
       "        5.4000e+02, 0.0000e+00, 0.0000e+00, 0.0000e+00, 0.0000e+00,\n",
       "        0.0000e+00, 0.0000e+00, 0.0000e+00, 0.0000e+00, 0.0000e+00,\n",
       "        1.8000e+01, 0.0000e+00, 0.0000e+00, 0.0000e+00, 0.0000e+00,\n",
       "        0.0000e+00, 0.0000e+00, 0.0000e+00, 0.0000e+00, 0.0000e+00,\n",
       "        2.7000e+01, 0.0000e+00, 0.0000e+00, 0.0000e+00, 0.0000e+00,\n",
       "        0.0000e+00, 0.0000e+00, 0.0000e+00, 0.0000e+00, 3.0000e+00]),\n",
       " array([0. , 0.1, 0.2, 0.3, 0.4, 0.5, 0.6, 0.7, 0.8, 0.9, 1. , 1.1, 1.2,\n",
       "        1.3, 1.4, 1.5, 1.6, 1.7, 1.8, 1.9, 2. , 2.1, 2.2, 2.3, 2.4, 2.5,\n",
       "        2.6, 2.7, 2.8, 2.9, 3. , 3.1, 3.2, 3.3, 3.4, 3.5, 3.6, 3.7, 3.8,\n",
       "        3.9, 4. , 4.1, 4.2, 4.3, 4.4, 4.5, 4.6, 4.7, 4.8, 4.9, 5. ]),\n",
       " <BarContainer object of 50 artists>)"
      ]
     },
     "execution_count": 24,
     "metadata": {},
     "output_type": "execute_result"
    },
    {
     "data": {
      "image/png": "[encoded data removed]",
      "text/plain": [
       "<Figure size 432x288 with 1 Axes>"
      ]
     },
     "metadata": {
      "needs_background": "light"
     },
     "output_type": "display_data"
    }
   ],
   "source": [
    "plt.hist(dataset_normal_train['pr'],bins=50)"
   ]
  },
  {
   "cell_type": "code",
   "execution_count": 25,
   "id": "e999a0e0",
   "metadata": {},
   "outputs": [
    {
     "data": {
      "text/plain": [
       "TCP     15862\n",
       "UDP      8550\n",
       "ICMP      540\n",
       "GRE        27\n",
       "ESP        18\n",
       "IPIP        3\n",
       "Name: pr, dtype: int64"
      ]
     },
     "execution_count": 25,
     "metadata": {},
     "output_type": "execute_result"
    }
   ],
   "source": [
    "dataset_normal_train['pr'].value_counts()"
   ]
  },
  {
   "cell_type": "code",
   "execution_count": 26,
   "id": "409f4d2d",
   "metadata": {},
   "outputs": [
    {
     "data": {
      "text/plain": [
       "(array([    0.,     0.,     0.,     0.,     0.,     0.,     0.,     0.,\n",
       "            0.,     0.,     0.,     0.,     0.,     0.,     0.,     0.,\n",
       "            0.,     0.,     0.,     0.,     0.,     0.,     0.,     0.,\n",
       "            0., 25000.,     0.,     0.,     0.,     0.,     0.,     0.,\n",
       "            0.,     0.,     0.,     0.,     0.,     0.,     0.,     0.,\n",
       "            0.,     0.,     0.,     0.,     0.,     0.,     0.,     0.,\n",
       "            0.,     0.]),\n",
       " array([-0.5 , -0.48, -0.46, -0.44, -0.42, -0.4 , -0.38, -0.36, -0.34,\n",
       "        -0.32, -0.3 , -0.28, -0.26, -0.24, -0.22, -0.2 , -0.18, -0.16,\n",
       "        -0.14, -0.12, -0.1 , -0.08, -0.06, -0.04, -0.02,  0.  ,  0.02,\n",
       "         0.04,  0.06,  0.08,  0.1 ,  0.12,  0.14,  0.16,  0.18,  0.2 ,\n",
       "         0.22,  0.24,  0.26,  0.28,  0.3 ,  0.32,  0.34,  0.36,  0.38,\n",
       "         0.4 ,  0.42,  0.44,  0.46,  0.48,  0.5 ]),\n",
       " <BarContainer object of 50 artists>)"
      ]
     },
     "execution_count": 26,
     "metadata": {},
     "output_type": "execute_result"
    },
    {
     "data": {
      "image/png": "[encoded data removed]",
      "text/plain": [
       "<Figure size 432x288 with 1 Axes>"
      ]
     },
     "metadata": {
      "needs_background": "light"
     },
     "output_type": "display_data"
    }
   ],
   "source": [
    "plt.hist(dataset_spam_train['pr'],bins=50)"
   ]
  },
  {
   "cell_type": "code",
   "execution_count": 27,
   "id": "8e525fbb",
   "metadata": {},
   "outputs": [
    {
     "data": {
      "text/plain": [
       "TCP    25000\n",
       "Name: pr, dtype: int64"
      ]
     },
     "execution_count": 27,
     "metadata": {},
     "output_type": "execute_result"
    }
   ],
   "source": [
    "dataset_spam_train['pr'].value_counts()"
   ]
  },
  {
   "cell_type": "markdown",
   "id": "8b87af4a",
   "metadata": {},
   "source": [
    "# flg statistics"
   ]
  },
  {
   "cell_type": "code",
   "execution_count": 28,
   "id": "df356d3a",
   "metadata": {},
   "outputs": [
    {
     "data": {
      "text/plain": [
       "(array([6.297e+03, 0.000e+00, 1.295e+03, 0.000e+00, 0.000e+00, 9.955e+03,\n",
       "        0.000e+00, 2.029e+03, 0.000e+00, 0.000e+00, 1.270e+03, 0.000e+00,\n",
       "        0.000e+00, 3.580e+02, 0.000e+00, 1.142e+03, 0.000e+00, 0.000e+00,\n",
       "        3.110e+02, 0.000e+00, 0.000e+00, 5.220e+02, 0.000e+00, 7.400e+01,\n",
       "        0.000e+00, 0.000e+00, 7.990e+02, 0.000e+00, 2.000e+02, 0.000e+00,\n",
       "        0.000e+00, 3.440e+02, 0.000e+00, 0.000e+00, 6.700e+01, 0.000e+00,\n",
       "        2.070e+02, 0.000e+00, 0.000e+00, 9.300e+01, 0.000e+00, 0.000e+00,\n",
       "        2.300e+01, 0.000e+00, 5.000e+00, 0.000e+00, 0.000e+00, 5.000e+00,\n",
       "        0.000e+00, 4.000e+00]),\n",
       " array([ 0.  ,  0.38,  0.76,  1.14,  1.52,  1.9 ,  2.28,  2.66,  3.04,\n",
       "         3.42,  3.8 ,  4.18,  4.56,  4.94,  5.32,  5.7 ,  6.08,  6.46,\n",
       "         6.84,  7.22,  7.6 ,  7.98,  8.36,  8.74,  9.12,  9.5 ,  9.88,\n",
       "        10.26, 10.64, 11.02, 11.4 , 11.78, 12.16, 12.54, 12.92, 13.3 ,\n",
       "        13.68, 14.06, 14.44, 14.82, 15.2 , 15.58, 15.96, 16.34, 16.72,\n",
       "        17.1 , 17.48, 17.86, 18.24, 18.62, 19.  ]),\n",
       " <BarContainer object of 50 artists>)"
      ]
     },
     "execution_count": 28,
     "metadata": {},
     "output_type": "execute_result"
    },
    {
     "data": {
      "image/png": "[encoded data removed]",
      "text/plain": [
       "<Figure size 432x288 with 1 Axes>"
      ]
     },
     "metadata": {
      "needs_background": "light"
     },
     "output_type": "display_data"
    }
   ],
   "source": [
    "plt.hist(dataset_normal_train['flg'],bins=50)"
   ]
  },
  {
   "cell_type": "code",
   "execution_count": 29,
   "id": "da48c8d6",
   "metadata": {},
   "outputs": [
    {
     "data": {
      "text/plain": [
       ".A....    9955\n",
       ".AP.SF    6297\n",
       "....S.    2029\n",
       ".AP...    1295\n",
       ".AP.S.    1270\n",
       ".APRSF    1142\n",
       ".A...F     799\n",
       ".A..SF     522\n",
       ".APRS.     358\n",
       ".AP..F     344\n",
       "...R..     311\n",
       ".A..S.     207\n",
       ".A.R..     200\n",
       ".A.RS.      93\n",
       ".A.R.F      74\n",
       ".APR..      67\n",
       ".APR.F      23\n",
       "......       5\n",
       "...RS.       5\n",
       ".A.RSF       4\n",
       "Name: flg, dtype: int64"
      ]
     },
     "execution_count": 29,
     "metadata": {},
     "output_type": "execute_result"
    }
   ],
   "source": [
    "dataset_normal_train['flg'].value_counts()"
   ]
  },
  {
   "cell_type": "code",
   "execution_count": 30,
   "id": "c5559a84",
   "metadata": {},
   "outputs": [
    {
     "data": {
      "text/plain": [
       "(array([12370.,     0.,     0.,     0.,     0.,     0.,     0.,     0.,\n",
       "            0.,     0.,     0.,     0.,     0.,     0.,     0.,     0.,\n",
       "            0.,     0.,     0.,     0.,     0.,     0.,     0.,     0.,\n",
       "            0., 12537.,     0.,     0.,     0.,     0.,     0.,     0.,\n",
       "            0.,     0.,     0.,     0.,     0.,     0.,     0.,     0.,\n",
       "            0.,     0.,     0.,     0.,     0.,     0.,     0.,     0.,\n",
       "            0.,    93.]),\n",
       " array([0.  , 0.04, 0.08, 0.12, 0.16, 0.2 , 0.24, 0.28, 0.32, 0.36, 0.4 ,\n",
       "        0.44, 0.48, 0.52, 0.56, 0.6 , 0.64, 0.68, 0.72, 0.76, 0.8 , 0.84,\n",
       "        0.88, 0.92, 0.96, 1.  , 1.04, 1.08, 1.12, 1.16, 1.2 , 1.24, 1.28,\n",
       "        1.32, 1.36, 1.4 , 1.44, 1.48, 1.52, 1.56, 1.6 , 1.64, 1.68, 1.72,\n",
       "        1.76, 1.8 , 1.84, 1.88, 1.92, 1.96, 2.  ]),\n",
       " <BarContainer object of 50 artists>)"
      ]
     },
     "execution_count": 30,
     "metadata": {},
     "output_type": "execute_result"
    },
    {
     "data": {
      "image/png": "[encoded data removed]",
      "text/plain": [
       "<Figure size 432x288 with 1 Axes>"
      ]
     },
     "metadata": {
      "needs_background": "light"
     },
     "output_type": "display_data"
    }
   ],
   "source": [
    "plt.hist(dataset_spam_train['flg'],bins=50)"
   ]
  },
  {
   "cell_type": "code",
   "execution_count": 31,
   "id": "0b489c35",
   "metadata": {},
   "outputs": [
    {
     "data": {
      "text/plain": [
       ".A.RS.    12537\n",
       ".AP.SF    12370\n",
       "...R..       93\n",
       "Name: flg, dtype: int64"
      ]
     },
     "execution_count": 31,
     "metadata": {},
     "output_type": "execute_result"
    }
   ],
   "source": [
    "dataset_spam_train['flg'].value_counts()"
   ]
  },
  {
   "cell_type": "markdown",
   "id": "72d05fe8",
   "metadata": {},
   "source": [
    "# pkt statistics"
   ]
  },
  {
   "cell_type": "code",
   "execution_count": 32,
   "id": "80dda28f",
   "metadata": {},
   "outputs": [
    {
     "data": {
      "text/plain": [
       "(array([2.4879e+04, 5.4000e+01, 1.8000e+01, 1.8000e+01, 1.0000e+01,\n",
       "        4.0000e+00, 1.0000e+00, 2.0000e+00, 1.0000e+00, 0.0000e+00,\n",
       "        0.0000e+00, 3.0000e+00, 2.0000e+00, 1.0000e+00, 1.0000e+00,\n",
       "        1.0000e+00, 0.0000e+00, 0.0000e+00, 0.0000e+00, 1.0000e+00,\n",
       "        1.0000e+00, 0.0000e+00, 0.0000e+00, 0.0000e+00, 0.0000e+00,\n",
       "        0.0000e+00, 0.0000e+00, 0.0000e+00, 0.0000e+00, 0.0000e+00,\n",
       "        0.0000e+00, 0.0000e+00, 0.0000e+00, 0.0000e+00, 0.0000e+00,\n",
       "        0.0000e+00, 0.0000e+00, 1.0000e+00, 0.0000e+00, 0.0000e+00,\n",
       "        0.0000e+00, 0.0000e+00, 0.0000e+00, 0.0000e+00, 0.0000e+00,\n",
       "        0.0000e+00, 0.0000e+00, 0.0000e+00, 0.0000e+00, 0.0000e+00,\n",
       "        0.0000e+00, 0.0000e+00, 0.0000e+00, 0.0000e+00, 0.0000e+00,\n",
       "        0.0000e+00, 0.0000e+00, 0.0000e+00, 0.0000e+00, 0.0000e+00,\n",
       "        0.0000e+00, 0.0000e+00, 0.0000e+00, 0.0000e+00, 0.0000e+00,\n",
       "        0.0000e+00, 0.0000e+00, 0.0000e+00, 0.0000e+00, 0.0000e+00,\n",
       "        0.0000e+00, 0.0000e+00, 0.0000e+00, 0.0000e+00, 0.0000e+00,\n",
       "        0.0000e+00, 0.0000e+00, 0.0000e+00, 0.0000e+00, 0.0000e+00,\n",
       "        0.0000e+00, 0.0000e+00, 0.0000e+00, 0.0000e+00, 0.0000e+00,\n",
       "        0.0000e+00, 0.0000e+00, 0.0000e+00, 0.0000e+00, 0.0000e+00,\n",
       "        0.0000e+00, 0.0000e+00, 1.0000e+00, 0.0000e+00, 0.0000e+00,\n",
       "        0.0000e+00, 0.0000e+00, 0.0000e+00, 0.0000e+00, 1.0000e+00]),\n",
       " array([1.000000e+00, 3.209400e+02, 6.408800e+02, 9.608200e+02,\n",
       "        1.280760e+03, 1.600700e+03, 1.920640e+03, 2.240580e+03,\n",
       "        2.560520e+03, 2.880460e+03, 3.200400e+03, 3.520340e+03,\n",
       "        3.840280e+03, 4.160220e+03, 4.480160e+03, 4.800100e+03,\n",
       "        5.120040e+03, 5.439980e+03, 5.759920e+03, 6.079860e+03,\n",
       "        6.399800e+03, 6.719740e+03, 7.039680e+03, 7.359620e+03,\n",
       "        7.679560e+03, 7.999500e+03, 8.319440e+03, 8.639380e+03,\n",
       "        8.959320e+03, 9.279260e+03, 9.599200e+03, 9.919140e+03,\n",
       "        1.023908e+04, 1.055902e+04, 1.087896e+04, 1.119890e+04,\n",
       "        1.151884e+04, 1.183878e+04, 1.215872e+04, 1.247866e+04,\n",
       "        1.279860e+04, 1.311854e+04, 1.343848e+04, 1.375842e+04,\n",
       "        1.407836e+04, 1.439830e+04, 1.471824e+04, 1.503818e+04,\n",
       "        1.535812e+04, 1.567806e+04, 1.599800e+04, 1.631794e+04,\n",
       "        1.663788e+04, 1.695782e+04, 1.727776e+04, 1.759770e+04,\n",
       "        1.791764e+04, 1.823758e+04, 1.855752e+04, 1.887746e+04,\n",
       "        1.919740e+04, 1.951734e+04, 1.983728e+04, 2.015722e+04,\n",
       "        2.047716e+04, 2.079710e+04, 2.111704e+04, 2.143698e+04,\n",
       "        2.175692e+04, 2.207686e+04, 2.239680e+04, 2.271674e+04,\n",
       "        2.303668e+04, 2.335662e+04, 2.367656e+04, 2.399650e+04,\n",
       "        2.431644e+04, 2.463638e+04, 2.495632e+04, 2.527626e+04,\n",
       "        2.559620e+04, 2.591614e+04, 2.623608e+04, 2.655602e+04,\n",
       "        2.687596e+04, 2.719590e+04, 2.751584e+04, 2.783578e+04,\n",
       "        2.815572e+04, 2.847566e+04, 2.879560e+04, 2.911554e+04,\n",
       "        2.943548e+04, 2.975542e+04, 3.007536e+04, 3.039530e+04,\n",
       "        3.071524e+04, 3.103518e+04, 3.135512e+04, 3.167506e+04,\n",
       "        3.199500e+04]),\n",
       " <BarContainer object of 100 artists>)"
      ]
     },
     "execution_count": 32,
     "metadata": {},
     "output_type": "execute_result"
    },
    {
     "data": {
      "image/png": "[encoded data removed]",
      "text/plain": [
       "<Figure size 432x288 with 1 Axes>"
      ]
     },
     "metadata": {
      "needs_background": "light"
     },
     "output_type": "display_data"
    }
   ],
   "source": [
    "plt.hist(dataset_normal_train['pkt'],bins=100)"
   ]
  },
  {
   "cell_type": "code",
   "execution_count": 33,
   "id": "0f075604",
   "metadata": {},
   "outputs": [
    {
     "name": "stdout",
     "output_type": "stream",
     "text": [
      "td normal max: 31995\n",
      "td normal min: 1\n",
      "td normal mean: 15.63196\n",
      "td normal std: 308.4462367249898\n"
     ]
    }
   ],
   "source": [
    "print('td normal max:',dataset_normal_train['pkt'].max())\n",
    "print('td normal min:',dataset_normal_train['pkt'].min())\n",
    "print('td normal mean:',dataset_normal_train['pkt'].mean())\n",
    "print('td normal std:',dataset_normal_train['pkt'].std())"
   ]
  },
  {
   "cell_type": "code",
   "execution_count": 34,
   "id": "390f51c1",
   "metadata": {},
   "outputs": [
    {
     "data": {
      "text/plain": [
       "1      9509\n",
       "2      3054\n",
       "5      1636\n",
       "3      1550\n",
       "4      1482\n",
       "       ... \n",
       "780       1\n",
       "748       1\n",
       "100       1\n",
       "199       1\n",
       "340       1\n",
       "Name: pkt, Length: 343, dtype: int64"
      ]
     },
     "execution_count": 34,
     "metadata": {},
     "output_type": "execute_result"
    }
   ],
   "source": [
    "dataset_normal_train['pkt'].value_counts()"
   ]
  },
  {
   "cell_type": "code",
   "execution_count": 35,
   "id": "7279c82b",
   "metadata": {},
   "outputs": [
    {
     "data": {
      "text/plain": [
       "(array([9.2000e+01, 0.0000e+00, 0.0000e+00, 0.0000e+00, 0.0000e+00,\n",
       "        1.0000e+00, 0.0000e+00, 0.0000e+00, 0.0000e+00, 0.0000e+00,\n",
       "        0.0000e+00, 1.2322e+04, 0.0000e+00, 0.0000e+00, 0.0000e+00,\n",
       "        0.0000e+00, 1.2497e+04, 0.0000e+00, 0.0000e+00, 0.0000e+00,\n",
       "        0.0000e+00, 0.0000e+00, 5.3000e+01, 0.0000e+00, 0.0000e+00,\n",
       "        0.0000e+00, 0.0000e+00, 1.7000e+01, 0.0000e+00, 0.0000e+00,\n",
       "        0.0000e+00, 0.0000e+00, 0.0000e+00, 1.0000e+00, 0.0000e+00,\n",
       "        0.0000e+00, 0.0000e+00, 0.0000e+00, 1.0000e+00, 0.0000e+00,\n",
       "        0.0000e+00, 0.0000e+00, 0.0000e+00, 0.0000e+00, 0.0000e+00,\n",
       "        0.0000e+00, 0.0000e+00, 0.0000e+00, 0.0000e+00, 1.6000e+01]),\n",
       " array([ 1.  ,  1.18,  1.36,  1.54,  1.72,  1.9 ,  2.08,  2.26,  2.44,\n",
       "         2.62,  2.8 ,  2.98,  3.16,  3.34,  3.52,  3.7 ,  3.88,  4.06,\n",
       "         4.24,  4.42,  4.6 ,  4.78,  4.96,  5.14,  5.32,  5.5 ,  5.68,\n",
       "         5.86,  6.04,  6.22,  6.4 ,  6.58,  6.76,  6.94,  7.12,  7.3 ,\n",
       "         7.48,  7.66,  7.84,  8.02,  8.2 ,  8.38,  8.56,  8.74,  8.92,\n",
       "         9.1 ,  9.28,  9.46,  9.64,  9.82, 10.  ]),\n",
       " <BarContainer object of 50 artists>)"
      ]
     },
     "execution_count": 35,
     "metadata": {},
     "output_type": "execute_result"
    },
    {
     "data": {
      "image/png": "[encoded data removed]",
      "text/plain": [
       "<Figure size 432x288 with 1 Axes>"
      ]
     },
     "metadata": {
      "needs_background": "light"
     },
     "output_type": "display_data"
    }
   ],
   "source": [
    "plt.hist(dataset_spam_train['pkt'],bins=50)"
   ]
  },
  {
   "cell_type": "code",
   "execution_count": 36,
   "id": "f857cea6",
   "metadata": {},
   "outputs": [
    {
     "data": {
      "text/plain": [
       "4     12497\n",
       "3     12322\n",
       "1        92\n",
       "5        53\n",
       "6        17\n",
       "10       16\n",
       "8         1\n",
       "7         1\n",
       "2         1\n",
       "Name: pkt, dtype: int64"
      ]
     },
     "execution_count": 36,
     "metadata": {},
     "output_type": "execute_result"
    }
   ],
   "source": [
    "dataset_spam_train['pkt'].value_counts()"
   ]
  },
  {
   "cell_type": "markdown",
   "id": "0665d65f",
   "metadata": {},
   "source": [
    "# byt statistics"
   ]
  },
  {
   "cell_type": "code",
   "execution_count": 37,
   "id": "b47863ea",
   "metadata": {},
   "outputs": [
    {
     "data": {
      "text/plain": [
       "(array([2.4973e+04, 1.3000e+01, 5.0000e+00, 2.0000e+00, 1.0000e+00,\n",
       "        1.0000e+00, 2.0000e+00, 1.0000e+00, 0.0000e+00, 0.0000e+00,\n",
       "        0.0000e+00, 0.0000e+00, 0.0000e+00, 0.0000e+00, 0.0000e+00,\n",
       "        0.0000e+00, 0.0000e+00, 0.0000e+00, 0.0000e+00, 1.0000e+00,\n",
       "        0.0000e+00, 0.0000e+00, 0.0000e+00, 0.0000e+00, 0.0000e+00,\n",
       "        0.0000e+00, 0.0000e+00, 0.0000e+00, 0.0000e+00, 0.0000e+00,\n",
       "        0.0000e+00, 0.0000e+00, 0.0000e+00, 0.0000e+00, 0.0000e+00,\n",
       "        0.0000e+00, 0.0000e+00, 0.0000e+00, 0.0000e+00, 0.0000e+00,\n",
       "        0.0000e+00, 0.0000e+00, 0.0000e+00, 0.0000e+00, 0.0000e+00,\n",
       "        0.0000e+00, 0.0000e+00, 0.0000e+00, 0.0000e+00, 1.0000e+00]),\n",
       " array([2.80000000e+01, 8.56566700e+05, 1.71310540e+06, 2.56964410e+06,\n",
       "        3.42618280e+06, 4.28272150e+06, 5.13926020e+06, 5.99579890e+06,\n",
       "        6.85233760e+06, 7.70887630e+06, 8.56541500e+06, 9.42195370e+06,\n",
       "        1.02784924e+07, 1.11350311e+07, 1.19915698e+07, 1.28481085e+07,\n",
       "        1.37046472e+07, 1.45611859e+07, 1.54177246e+07, 1.62742633e+07,\n",
       "        1.71308020e+07, 1.79873407e+07, 1.88438794e+07, 1.97004181e+07,\n",
       "        2.05569568e+07, 2.14134955e+07, 2.22700342e+07, 2.31265729e+07,\n",
       "        2.39831116e+07, 2.48396503e+07, 2.56961890e+07, 2.65527277e+07,\n",
       "        2.74092664e+07, 2.82658051e+07, 2.91223438e+07, 2.99788825e+07,\n",
       "        3.08354212e+07, 3.16919599e+07, 3.25484986e+07, 3.34050373e+07,\n",
       "        3.42615760e+07, 3.51181147e+07, 3.59746534e+07, 3.68311921e+07,\n",
       "        3.76877308e+07, 3.85442695e+07, 3.94008082e+07, 4.02573469e+07,\n",
       "        4.11138856e+07, 4.19704243e+07, 4.28269630e+07]),\n",
       " <BarContainer object of 50 artists>)"
      ]
     },
     "execution_count": 37,
     "metadata": {},
     "output_type": "execute_result"
    },
    {
     "data": {
      "image/png": "[encoded data removed]",
      "text/plain": [
       "<Figure size 432x288 with 1 Axes>"
      ]
     },
     "metadata": {
      "needs_background": "light"
     },
     "output_type": "display_data"
    }
   ],
   "source": [
    "plt.hist(dataset_normal_train['byt'],bins=50)"
   ]
  },
  {
   "cell_type": "code",
   "execution_count": 38,
   "id": "834f0b5a",
   "metadata": {},
   "outputs": [
    {
     "name": "stdout",
     "output_type": "stream",
     "text": [
      "byt normal max: 42826963\n",
      "byt normal min: 28\n",
      "byt normal mean: 8672.43244\n",
      "byt normal std: 305167.43906491\n"
     ]
    }
   ],
   "source": [
    "print('byt normal max:',dataset_normal_train['byt'].max())\n",
    "print('byt normal min:',dataset_normal_train['byt'].min())\n",
    "print('byt normal mean:',dataset_normal_train['byt'].mean())\n",
    "print('byt normal std:',dataset_normal_train['byt'].std())"
   ]
  },
  {
   "cell_type": "code",
   "execution_count": 39,
   "id": "f0bfdfd9",
   "metadata": {},
   "outputs": [
    {
     "data": {
      "text/plain": [
       "96       1315\n",
       "52        795\n",
       "40        745\n",
       "80        633\n",
       "64        449\n",
       "         ... \n",
       "8644        1\n",
       "21342       1\n",
       "2950        1\n",
       "43741       1\n",
       "11970       1\n",
       "Name: byt, Length: 4540, dtype: int64"
      ]
     },
     "execution_count": 39,
     "metadata": {},
     "output_type": "execute_result"
    }
   ],
   "source": [
    "dataset_normal_train['byt'].value_counts()"
   ]
  },
  {
   "cell_type": "code",
   "execution_count": 40,
   "id": "ca34be62",
   "metadata": {},
   "outputs": [
    {
     "data": {
      "text/plain": [
       "(array([9.2000e+01, 0.0000e+00, 0.0000e+00, 1.0000e+00, 0.0000e+00,\n",
       "        0.0000e+00, 0.0000e+00, 0.0000e+00, 0.0000e+00, 0.0000e+00,\n",
       "        0.0000e+00, 0.0000e+00, 0.0000e+00, 0.0000e+00, 0.0000e+00,\n",
       "        0.0000e+00, 0.0000e+00, 1.2467e+04, 1.2322e+04, 0.0000e+00,\n",
       "        0.0000e+00, 0.0000e+00, 2.2000e+01, 2.9000e+01, 2.1000e+01,\n",
       "        0.0000e+00, 0.0000e+00, 1.0000e+00, 0.0000e+00, 0.0000e+00,\n",
       "        1.1000e+01, 0.0000e+00, 0.0000e+00, 1.0000e+00, 0.0000e+00,\n",
       "        0.0000e+00, 1.0000e+00, 0.0000e+00, 1.0000e+00, 0.0000e+00,\n",
       "        0.0000e+00, 1.5000e+01, 0.0000e+00, 0.0000e+00, 0.0000e+00,\n",
       "        0.0000e+00, 0.0000e+00, 0.0000e+00, 0.0000e+00, 1.6000e+01]),\n",
       " array([ 40.  ,  50.24,  60.48,  70.72,  80.96,  91.2 , 101.44, 111.68,\n",
       "        121.92, 132.16, 142.4 , 152.64, 162.88, 173.12, 183.36, 193.6 ,\n",
       "        203.84, 214.08, 224.32, 234.56, 244.8 , 255.04, 265.28, 275.52,\n",
       "        285.76, 296.  , 306.24, 316.48, 326.72, 336.96, 347.2 , 357.44,\n",
       "        367.68, 377.92, 388.16, 398.4 , 408.64, 418.88, 429.12, 439.36,\n",
       "        449.6 , 459.84, 470.08, 480.32, 490.56, 500.8 , 511.04, 521.28,\n",
       "        531.52, 541.76, 552.  ]),\n",
       " <BarContainer object of 50 artists>)"
      ]
     },
     "execution_count": 40,
     "metadata": {},
     "output_type": "execute_result"
    },
    {
     "data": {
      "image/png": "[encoded data removed]",
      "text/plain": [
       "<Figure size 432x288 with 1 Axes>"
      ]
     },
     "metadata": {
      "needs_background": "light"
     },
     "output_type": "display_data"
    }
   ],
   "source": [
    "plt.hist(dataset_spam_train['byt'],bins=50)"
   ]
  },
  {
   "cell_type": "code",
   "execution_count": 41,
   "id": "fa92ab80",
   "metadata": {},
   "outputs": [
    {
     "data": {
      "text/plain": [
       "216    12467\n",
       "230    12322\n",
       "40        92\n",
       "276       27\n",
       "268       22\n",
       "290       21\n",
       "552       16\n",
       "460       15\n",
       "348        9\n",
       "280        2\n",
       "350        2\n",
       "320        1\n",
       "410        1\n",
       "432        1\n",
       "388        1\n",
       "80         1\n",
       "Name: byt, dtype: int64"
      ]
     },
     "execution_count": 41,
     "metadata": {},
     "output_type": "execute_result"
    }
   ],
   "source": [
    "dataset_spam_train['byt'].value_counts()"
   ]
  },
  {
   "cell_type": "code",
   "execution_count": 42,
   "id": "9b72d9b9",
   "metadata": {},
   "outputs": [
    {
     "name": "stdout",
     "output_type": "stream",
     "text": [
      "byt spam max: 552\n",
      "byt spam min: 40\n",
      "byt spam mean: 222.87216\n",
      "byt spam std: 17.20430575349723\n"
     ]
    }
   ],
   "source": [
    "print('byt spam max:',dataset_spam_train['byt'].max())\n",
    "print('byt spam min:',dataset_spam_train['byt'].min())\n",
    "print('byt spam mean:',dataset_spam_train['byt'].mean())\n",
    "print('byt spam std:',dataset_spam_train['byt'].std())"
   ]
  },
  {
   "cell_type": "markdown",
   "id": "2bd3e1a0",
   "metadata": {},
   "source": [
    "# Genetic Algorithm implementation"
   ]
  },
  {
   "cell_type": "code",
   "execution_count": 43,
   "id": "60af5714",
   "metadata": {},
   "outputs": [],
   "source": [
    "def gen_chromosome():\n",
    "    sp = random.choice([25,-1])\n",
    "    dp = random.choice([25,-1])\n",
    "    pr = random.choice(['TCP'])\n",
    "    flg =random.choice(['.AP.SF','.A.RS.','...R..',-1])\n",
    "    pkt = random.choice([1,2,3,4,5,6,7,8,9,10,-1])\n",
    "    byt = random.choice([40,216,230,268,276,290,348,460,552,-1])\n",
    "    return [sp,dp,pr,flg,pkt,byt]"
   ]
  },
  {
   "cell_type": "code",
   "execution_count": 44,
   "id": "b01eecde",
   "metadata": {},
   "outputs": [],
   "source": [
    "def fitness(chromosome):\n",
    "    N = dataset_normal_train.shape[0] + dataset_spam_train.shape[0]\n",
    "    AB = 0   # counter for if A then B that maches both the condition and result\n",
    "    A = 0  # counter for records that satisfy the condition only\n",
    "    for i in range(dataset_spam_train.shape[0]):\n",
    "        if (chromosome[0]== -1) or (dataset_spam_train.iloc[i,1]==chromosome[0]):\n",
    "            if (chromosome[1]== -1) or (dataset_spam_train.iloc[i,2]==chromosome[1]):\n",
    "                if (chromosome[2]== -1) or (dataset_spam_train.iloc[i,3]==chromosome[2]):\n",
    "                    if (chromosome[3]== -1) or (dataset_spam_train.iloc[i,4]==chromosome[3]):\n",
    "                        if (chromosome[4]== -1) or (dataset_spam_train.iloc[i,5]==chromosome[4]):\n",
    "                            if (chromosome[5]== -1) or (dataset_spam_train.iloc[i,6]==chromosome[5]):\n",
    "                                AB += 1\n",
    "         \n",
    "        if (chromosome[0]== -1) or (dataset_normal_train.iloc[i,1]==chromosome[0]):\n",
    "            if (chromosome[1]== -1) or (dataset_normal_train.iloc[i,2]==chromosome[1]):\n",
    "                if (chromosome[2]== -1) or (dataset_normal_train.iloc[i,3]==chromosome[2]):\n",
    "                    if (chromosome[3]== -1) or (dataset_normal_train.iloc[i,4]==chromosome[3]):\n",
    "                        if (chromosome[4]== -1) or (dataset_normal_train.iloc[i,5]==chromosome[4]):\n",
    "                            if (chromosome[5]== -1) or (dataset_normal_train.iloc[i,6]==chromosome[5]):\n",
    "                                A += 1\n",
    "    support = AB / N\n",
    "    if AB==0 and A==0:\n",
    "        confidence = 0\n",
    "    else:\n",
    "        confidence = AB/(AB+A)\n",
    "    fitness = 0.2 * support + 0.8 * confidence\n",
    "    return fitness \n",
    "        "
   ]
  },
  {
   "cell_type": "code",
   "execution_count": 45,
   "id": "866b387f",
   "metadata": {},
   "outputs": [],
   "source": [
    "def gen_population(size):\n",
    "    return [gen_chromosome() for x in range(size)]"
   ]
  },
  {
   "cell_type": "code",
   "execution_count": 46,
   "id": "d044178d",
   "metadata": {},
   "outputs": [],
   "source": [
    "def evaluate_population(pop):\n",
    "    pop_fitness =  list(map(lambda x: fitness(x), pop))\n",
    "    return  pop_fitness"
   ]
  },
  {
   "cell_type": "code",
   "execution_count": 47,
   "id": "05fd4a1b",
   "metadata": {},
   "outputs": [],
   "source": [
    "def roulette_selection(pop,pop_fitness, n):\n",
    "    total = sum(pop_fitness)\n",
    "    i = 0\n",
    "    w, v = pop_fitness[0], pop[0]\n",
    "    while n:\n",
    "        x = total * (1 - random.random() ** (1.0 / n))\n",
    "        total -= x\n",
    "        while x > w:\n",
    "            x -= w\n",
    "            i += 1\n",
    "            w, v = pop_fitness[i], pop[i]\n",
    "        w -= x\n",
    "        yield v\n",
    "        n -= 1"
   ]
  },
  {
   "cell_type": "code",
   "execution_count": 48,
   "id": "8c7dc0d6",
   "metadata": {},
   "outputs": [],
   "source": [
    "def uniform_crossover(a,b):\n",
    "    mask = [random.randint(0,1) for i in range(len(a))]\n",
    "    c=[0,'',0,'',0,0]\n",
    "    d=[0,'',0,'',0,0]\n",
    "    for i in range(len(a)):\n",
    "        if mask[i]:\n",
    "            c[i]=a[i]\n",
    "            d[i]=b[i]\n",
    "        else:\n",
    "            c[i]=b[i]\n",
    "            d[i]=a[i]\n",
    "    return c,d"
   ]
  },
  {
   "cell_type": "code",
   "execution_count": 49,
   "id": "b8bed00f",
   "metadata": {},
   "outputs": [],
   "source": [
    "def mutation(child):\n",
    "    child[3]=random.choice(['.AP.SF','.A.RS.','...R..',-1])\n",
    "    child[4] = random.choice([1,2,3,4,5,6,7,8,9,10,-1])\n",
    "    child[5] = random.choice([40,216,230,268,276,290,348,460,552,-1])\n",
    "    return child"
   ]
  },
  {
   "cell_type": "code",
   "execution_count": 50,
   "id": "34238027",
   "metadata": {},
   "outputs": [],
   "source": [
    "def train_ga(generations_count,population_size,P_CROSSOVER=0.7,P_MUTATION = 0.3):\n",
    "    maxvalue = 0                                             # highest fitness value in the population\n",
    "    maxvalues = []                                           # index for each generation\n",
    "    generations = []                                         # genes of each generation\n",
    "    initial_population = gen_population(population_size)\n",
    "    current_pop = initial_population\n",
    "    for generation in range(generations_count):\n",
    "        pop_fitness = evaluate_population(current_pop)\n",
    "        result = list(zip(current_pop,pop_fitness))     \n",
    "        maxvalue = max(pop_fitness) \n",
    "        maxvalues.append(maxvalue)\n",
    "        generations.append(generation)\n",
    "        print(f'Generation id:{generation} MaxValue: {maxvalue}')\n",
    "        print(f'\\n generation {generation} population and fitness values \\n\" {result} \\n')\n",
    "        offspring = []\n",
    "        while len(offspring) < population_size:\n",
    "            parent1=[]\n",
    "            parent2= []\n",
    "            \n",
    "            # selection of genes (roullette wheel selection)\n",
    "            parent1,parent2 = roulette_selection(current_pop,pop_fitness,2)\n",
    "                \n",
    "            if random.random() < P_CROSSOVER:\n",
    "                child1, child2 = uniform_crossover(parent1,parent2)         # crossover of genes to produce offspring\n",
    "            else:\n",
    "                child1 = parent1\n",
    "                child2 = parent2\n",
    "            \n",
    "            if random.random() < P_MUTATION:\n",
    "                child1 = mutation(child1)                           # mutation of genes to produce offspring\n",
    "\n",
    "            offspring.append(child1)\n",
    "            offspring.append(child2)\n",
    "            \n",
    "        print(offspring)\n",
    "        current_pop = offspring\n",
    "        \n",
    "    \n",
    "    plt.plot(generations,maxvalues)\n",
    "    plt.ylabel('Fitness')\n",
    "    plt.xlabel('Generation id')\n",
    "    plt.title('GA-Training ')\n",
    "\n",
    "    plt.show()    \n",
    "        "
   ]
  },
  {
   "cell_type": "code",
   "execution_count": 51,
   "id": "729f12b5",
   "metadata": {},
   "outputs": [
    {
     "name": "stdout",
     "output_type": "stream",
     "text": [
      "Generation id:0 MaxValue: 0.7751048421052632\n",
      "\n",
      " generation 0 population and fitness values \n",
      "\" [([25, 25, 'TCP', '.AP.SF', -1, 552], 0.0), ([25, 25, 'TCP', '...R..', 9, 290], 0.0), ([-1, 25, 'TCP', '.AP.SF', -1, -1], 0.0), ([-1, 25, 'TCP', -1, 6, 276], 0.0), ([-1, -1, 'TCP', '.AP.SF', 9, 276], 0.0), ([-1, 25, 'TCP', '...R..', -1, 40], 0.7751048421052632), ([25, 25, 'TCP', '...R..', 4, 230], 0.0), ([25, 25, 'TCP', '...R..', 7, 230], 0.0), ([-1, 25, 'TCP', '...R..', 6, 348], 0.0), ([25, -1, 'TCP', -1, 10, 268], 0.0), ([25, 25, 'TCP', '...R..', 2, 348], 0.0), ([25, -1, 'TCP', '.AP.SF', 2, 348], 0.0), ([-1, -1, 'TCP', -1, 5, 40], 0.0), ([-1, 25, 'TCP', -1, 8, 268], 0.0), ([25, 25, 'TCP', '.AP.SF', 2, 460], 0.0), ([-1, 25, 'TCP', '...R..', 4, 216], 0.0), ([25, 25, 'TCP', '...R..', 8, 276], 0.0), ([25, -1, 'TCP', '.AP.SF', 1, 460], 0.0), ([-1, -1, 'TCP', '.AP.SF', 4, 460], 0.0), ([25, 25, 'TCP', '.A.RS.', 2, 216], 0.0)] \n",
      "\n",
      "[[-1, 25, 'TCP', '...R..', -1, 40], [-1, 25, 'TCP', '...R..', -1, 40], [-1, 25, 'TCP', '...R..', -1, 40], [-1, 25, 'TCP', '...R..', -1, 40], [-1, 25, 'TCP', '...R..', -1, 40], [-1, 25, 'TCP', '...R..', -1, 40], [-1, 25, 'TCP', '...R..', -1, 40], [-1, 25, 'TCP', '...R..', -1, 40], [-1, 25, 'TCP', '.AP.SF', 7, 348], [-1, 25, 'TCP', '.AP.SF', 7, 348], [-1, 25, 'TCP', '.AP.SF', 7, 348], [-1, 25, 'TCP', '.AP.SF', 7, 348], [-1, 25, 'TCP', '.AP.SF', 7, 348], [-1, 25, 'TCP', '.AP.SF', 7, 348], [-1, 25, 'TCP', '.AP.SF', 7, 348], [-1, 25, 'TCP', '.AP.SF', 7, 348], [-1, 25, 'TCP', -1, 8, 552], [-1, 25, 'TCP', '.AP.SF', 7, 348], [-1, 25, 'TCP', -1, 3, 40], [-1, 25, 'TCP', '.AP.SF', 7, 348]]\n",
      "Generation id:1 MaxValue: 0.7751048421052632\n",
      "\n",
      " generation 1 population and fitness values \n",
      "\" [([-1, 25, 'TCP', '...R..', -1, 40], 0.7751048421052632), ([-1, 25, 'TCP', '...R..', -1, 40], 0.7751048421052632), ([-1, 25, 'TCP', '...R..', -1, 40], 0.7751048421052632), ([-1, 25, 'TCP', '...R..', -1, 40], 0.7751048421052632), ([-1, 25, 'TCP', '...R..', -1, 40], 0.7751048421052632), ([-1, 25, 'TCP', '...R..', -1, 40], 0.7751048421052632), ([-1, 25, 'TCP', '...R..', -1, 40], 0.7751048421052632), ([-1, 25, 'TCP', '...R..', -1, 40], 0.7751048421052632), ([-1, 25, 'TCP', '.AP.SF', 7, 348], 0.0), ([-1, 25, 'TCP', '.AP.SF', 7, 348], 0.0), ([-1, 25, 'TCP', '.AP.SF', 7, 348], 0.0), ([-1, 25, 'TCP', '.AP.SF', 7, 348], 0.0), ([-1, 25, 'TCP', '.AP.SF', 7, 348], 0.0), ([-1, 25, 'TCP', '.AP.SF', 7, 348], 0.0), ([-1, 25, 'TCP', '.AP.SF', 7, 348], 0.0), ([-1, 25, 'TCP', '.AP.SF', 7, 348], 0.0), ([-1, 25, 'TCP', -1, 8, 552], 0.0), ([-1, 25, 'TCP', '.AP.SF', 7, 348], 0.0), ([-1, 25, 'TCP', -1, 3, 40], 0.0), ([-1, 25, 'TCP', '.AP.SF', 7, 348], 0.0)] \n",
      "\n",
      "[[-1, 25, 'TCP', '...R..', -1, 40], [-1, 25, 'TCP', '...R..', -1, 40], [-1, 25, 'TCP', '...R..', -1, 40], [-1, 25, 'TCP', '...R..', -1, 40], [-1, 25, 'TCP', '...R..', -1, 40], [-1, 25, 'TCP', '...R..', -1, 40], [-1, 25, 'TCP', '...R..', -1, 40], [-1, 25, 'TCP', '...R..', -1, 40], [-1, 25, 'TCP', '...R..', -1, 40], [-1, 25, 'TCP', '...R..', -1, 40], [-1, 25, 'TCP', '...R..', -1, 40], [-1, 25, 'TCP', '...R..', -1, 40], [-1, 25, 'TCP', '...R..', -1, 40], [-1, 25, 'TCP', '...R..', -1, 40], [-1, 25, 'TCP', '...R..', 2, 268], [-1, 25, 'TCP', '...R..', -1, 40], [-1, 25, 'TCP', '...R..', -1, 40], [-1, 25, 'TCP', '...R..', -1, 40], [-1, 25, 'TCP', '...R..', -1, 40], [-1, 25, 'TCP', '...R..', -1, 40]]\n",
      "Generation id:2 MaxValue: 0.7751048421052632\n",
      "\n",
      " generation 2 population and fitness values \n",
      "\" [([-1, 25, 'TCP', '...R..', -1, 40], 0.7751048421052632), ([-1, 25, 'TCP', '...R..', -1, 40], 0.7751048421052632), ([-1, 25, 'TCP', '...R..', -1, 40], 0.7751048421052632), ([-1, 25, 'TCP', '...R..', -1, 40], 0.7751048421052632), ([-1, 25, 'TCP', '...R..', -1, 40], 0.7751048421052632), ([-1, 25, 'TCP', '...R..', -1, 40], 0.7751048421052632), ([-1, 25, 'TCP', '...R..', -1, 40], 0.7751048421052632), ([-1, 25, 'TCP', '...R..', -1, 40], 0.7751048421052632), ([-1, 25, 'TCP', '...R..', -1, 40], 0.7751048421052632), ([-1, 25, 'TCP', '...R..', -1, 40], 0.7751048421052632), ([-1, 25, 'TCP', '...R..', -1, 40], 0.7751048421052632), ([-1, 25, 'TCP', '...R..', -1, 40], 0.7751048421052632), ([-1, 25, 'TCP', '...R..', -1, 40], 0.7751048421052632), ([-1, 25, 'TCP', '...R..', -1, 40], 0.7751048421052632), ([-1, 25, 'TCP', '...R..', 2, 268], 0.0), ([-1, 25, 'TCP', '...R..', -1, 40], 0.7751048421052632), ([-1, 25, 'TCP', '...R..', -1, 40], 0.7751048421052632), ([-1, 25, 'TCP', '...R..', -1, 40], 0.7751048421052632), ([-1, 25, 'TCP', '...R..', -1, 40], 0.7751048421052632), ([-1, 25, 'TCP', '...R..', -1, 40], 0.7751048421052632)] \n",
      "\n",
      "[[-1, 25, 'TCP', '...R..', -1, 40], [-1, 25, 'TCP', '...R..', -1, 40], [-1, 25, 'TCP', '...R..', 2, 290], [-1, 25, 'TCP', '...R..', -1, 40], [-1, 25, 'TCP', '...R..', -1, 40], [-1, 25, 'TCP', '...R..', -1, 40], [-1, 25, 'TCP', -1, 8, -1], [-1, 25, 'TCP', '...R..', -1, 40], [-1, 25, 'TCP', '...R..', -1, 40], [-1, 25, 'TCP', '...R..', -1, 40], [-1, 25, 'TCP', '...R..', 7, 40], [-1, 25, 'TCP', '...R..', -1, 40], [-1, 25, 'TCP', '.A.RS.', 8, 276], [-1, 25, 'TCP', '...R..', -1, 40], [-1, 25, 'TCP', '...R..', -1, 40], [-1, 25, 'TCP', '...R..', -1, 40], [-1, 25, 'TCP', -1, 7, -1], [-1, 25, 'TCP', '...R..', -1, 40], [-1, 25, 'TCP', '...R..', -1, 40], [-1, 25, 'TCP', '...R..', -1, 40]]\n",
      "Generation id:3 MaxValue: 0.7751048421052632\n",
      "\n",
      " generation 3 population and fitness values \n",
      "\" [([-1, 25, 'TCP', '...R..', -1, 40], 0.7751048421052632), ([-1, 25, 'TCP', '...R..', -1, 40], 0.7751048421052632), ([-1, 25, 'TCP', '...R..', 2, 290], 0.0), ([-1, 25, 'TCP', '...R..', -1, 40], 0.7751048421052632), ([-1, 25, 'TCP', '...R..', -1, 40], 0.7751048421052632), ([-1, 25, 'TCP', '...R..', -1, 40], 0.7751048421052632), ([-1, 25, 'TCP', -1, 8, -1], 0.040004000000000005), ([-1, 25, 'TCP', '...R..', -1, 40], 0.7751048421052632), ([-1, 25, 'TCP', '...R..', -1, 40], 0.7751048421052632), ([-1, 25, 'TCP', '...R..', -1, 40], 0.7751048421052632), ([-1, 25, 'TCP', '...R..', 7, 40], 0.0), ([-1, 25, 'TCP', '...R..', -1, 40], 0.7751048421052632), ([-1, 25, 'TCP', '.A.RS.', 8, 276], 0.0), ([-1, 25, 'TCP', '...R..', -1, 40], 0.7751048421052632), ([-1, 25, 'TCP', '...R..', -1, 40], 0.7751048421052632), ([-1, 25, 'TCP', '...R..', -1, 40], 0.7751048421052632), ([-1, 25, 'TCP', -1, 7, -1], 0.11428971428571429), ([-1, 25, 'TCP', '...R..', -1, 40], 0.7751048421052632), ([-1, 25, 'TCP', '...R..', -1, 40], 0.7751048421052632), ([-1, 25, 'TCP', '...R..', -1, 40], 0.7751048421052632)] \n",
      "\n",
      "[[-1, 25, 'TCP', '...R..', -1, 40], [-1, 25, 'TCP', '...R..', -1, 40], [-1, 25, 'TCP', '.AP.SF', 2, 216], [-1, 25, 'TCP', '...R..', -1, 40], [-1, 25, 'TCP', '...R..', -1, 40], [-1, 25, 'TCP', '...R..', -1, 40], [-1, 25, 'TCP', '...R..', -1, 40], [-1, 25, 'TCP', '...R..', -1, 40], [-1, 25, 'TCP', '.AP.SF', 3, 460], [-1, 25, 'TCP', '...R..', -1, 40], [-1, 25, 'TCP', '...R..', -1, 40], [-1, 25, 'TCP', '...R..', -1, 40], [-1, 25, 'TCP', '...R..', -1, 40], [-1, 25, 'TCP', '...R..', -1, 40], [-1, 25, 'TCP', '...R..', -1, 40], [-1, 25, 'TCP', '...R..', -1, 40], [-1, 25, 'TCP', '.A.RS.', 3, 552], [-1, 25, 'TCP', '...R..', -1, 40], [-1, 25, 'TCP', '.AP.SF', 1, 460], [-1, 25, 'TCP', '...R..', -1, 40]]\n",
      "Generation id:4 MaxValue: 0.7751048421052632\n",
      "\n",
      " generation 4 population and fitness values \n",
      "\" [([-1, 25, 'TCP', '...R..', -1, 40], 0.7751048421052632), ([-1, 25, 'TCP', '...R..', -1, 40], 0.7751048421052632), ([-1, 25, 'TCP', '.AP.SF', 2, 216], 0.0), ([-1, 25, 'TCP', '...R..', -1, 40], 0.7751048421052632), ([-1, 25, 'TCP', '...R..', -1, 40], 0.7751048421052632), ([-1, 25, 'TCP', '...R..', -1, 40], 0.7751048421052632), ([-1, 25, 'TCP', '...R..', -1, 40], 0.7751048421052632), ([-1, 25, 'TCP', '...R..', -1, 40], 0.7751048421052632), ([-1, 25, 'TCP', '.AP.SF', 3, 460], 0.0), ([-1, 25, 'TCP', '...R..', -1, 40], 0.7751048421052632), ([-1, 25, 'TCP', '...R..', -1, 40], 0.7751048421052632), ([-1, 25, 'TCP', '...R..', -1, 40], 0.7751048421052632), ([-1, 25, 'TCP', '...R..', -1, 40], 0.7751048421052632), ([-1, 25, 'TCP', '...R..', -1, 40], 0.7751048421052632), ([-1, 25, 'TCP', '...R..', -1, 40], 0.7751048421052632), ([-1, 25, 'TCP', '...R..', -1, 40], 0.7751048421052632), ([-1, 25, 'TCP', '.A.RS.', 3, 552], 0.0), ([-1, 25, 'TCP', '...R..', -1, 40], 0.7751048421052632), ([-1, 25, 'TCP', '.AP.SF', 1, 460], 0.0), ([-1, 25, 'TCP', '...R..', -1, 40], 0.7751048421052632)] \n",
      "\n",
      "[[-1, 25, 'TCP', '...R..', -1, 40], [-1, 25, 'TCP', '...R..', -1, 40], [-1, 25, 'TCP', '...R..', 4, 230], [-1, 25, 'TCP', '...R..', -1, 40], [-1, 25, 'TCP', -1, 3, 40], [-1, 25, 'TCP', '...R..', -1, 40], [-1, 25, 'TCP', '...R..', -1, 40], [-1, 25, 'TCP', '...R..', -1, 40], [-1, 25, 'TCP', '...R..', -1, 40], [-1, 25, 'TCP', '...R..', -1, 40], [-1, 25, 'TCP', '.AP.SF', 1, 460], [-1, 25, 'TCP', '...R..', -1, 40], [-1, 25, 'TCP', '.AP.SF', 2, 552], [-1, 25, 'TCP', '...R..', -1, 40], [-1, 25, 'TCP', '...R..', -1, 40], [-1, 25, 'TCP', '.AP.SF', 2, 552], [-1, 25, 'TCP', '...R..', -1, 40], [-1, 25, 'TCP', '...R..', -1, 40], [-1, 25, 'TCP', '...R..', -1, 40], [-1, 25, 'TCP', '...R..', -1, 40]]\n",
      "Generation id:5 MaxValue: 0.7751048421052632\n",
      "\n",
      " generation 5 population and fitness values \n",
      "\" [([-1, 25, 'TCP', '...R..', -1, 40], 0.7751048421052632), ([-1, 25, 'TCP', '...R..', -1, 40], 0.7751048421052632), ([-1, 25, 'TCP', '...R..', 4, 230], 0.0), ([-1, 25, 'TCP', '...R..', -1, 40], 0.7751048421052632), ([-1, 25, 'TCP', -1, 3, 40], 0.0), ([-1, 25, 'TCP', '...R..', -1, 40], 0.7751048421052632), ([-1, 25, 'TCP', '...R..', -1, 40], 0.7751048421052632), ([-1, 25, 'TCP', '...R..', -1, 40], 0.7751048421052632), ([-1, 25, 'TCP', '...R..', -1, 40], 0.7751048421052632), ([-1, 25, 'TCP', '...R..', -1, 40], 0.7751048421052632), ([-1, 25, 'TCP', '.AP.SF', 1, 460], 0.0), ([-1, 25, 'TCP', '...R..', -1, 40], 0.7751048421052632), ([-1, 25, 'TCP', '.AP.SF', 2, 552], 0.0), ([-1, 25, 'TCP', '...R..', -1, 40], 0.7751048421052632), ([-1, 25, 'TCP', '...R..', -1, 40], 0.7751048421052632), ([-1, 25, 'TCP', '.AP.SF', 2, 552], 0.0), ([-1, 25, 'TCP', '...R..', -1, 40], 0.7751048421052632), ([-1, 25, 'TCP', '...R..', -1, 40], 0.7751048421052632), ([-1, 25, 'TCP', '...R..', -1, 40], 0.7751048421052632), ([-1, 25, 'TCP', '...R..', -1, 40], 0.7751048421052632)] \n",
      "\n",
      "[[-1, 25, 'TCP', '...R..', -1, 40], [-1, 25, 'TCP', '...R..', -1, 40], [-1, 25, 'TCP', -1, -1, 40], [-1, 25, 'TCP', '...R..', -1, 40], [-1, 25, 'TCP', '...R..', -1, 40], [-1, 25, 'TCP', '...R..', -1, 40], [-1, 25, 'TCP', -1, 6, -1], [-1, 25, 'TCP', '...R..', -1, 40], [-1, 25, 'TCP', '.AP.SF', -1, 348], [-1, 25, 'TCP', '...R..', -1, -1], [-1, 25, 'TCP', '...R..', -1, 40], [-1, 25, 'TCP', '...R..', -1, 40], [-1, 25, 'TCP', '...R..', -1, 40], [-1, 25, 'TCP', '...R..', -1, 40], [-1, 25, 'TCP', '.AP.SF', -1, 268], [-1, 25, 'TCP', '...R..', -1, 40], [-1, 25, 'TCP', '.AP.SF', 8, 276], [-1, 25, 'TCP', '...R..', -1, 40], [-1, 25, 'TCP', -1, 8, 216], [-1, 25, 'TCP', '...R..', -1, 40]]\n",
      "Generation id:6 MaxValue: 0.7751048421052632\n",
      "\n",
      " generation 6 population and fitness values \n",
      "\" [([-1, 25, 'TCP', '...R..', -1, 40], 0.7751048421052632), ([-1, 25, 'TCP', '...R..', -1, 40], 0.7751048421052632), ([-1, 25, 'TCP', -1, -1, 40], 0.7751048421052632), ([-1, 25, 'TCP', '...R..', -1, 40], 0.7751048421052632), ([-1, 25, 'TCP', '...R..', -1, 40], 0.7751048421052632), ([-1, 25, 'TCP', '...R..', -1, 40], 0.7751048421052632), ([-1, 25, 'TCP', -1, 6, -1], 0.011271605633802818), ([-1, 25, 'TCP', '...R..', -1, 40], 0.7751048421052632), ([-1, 25, 'TCP', '.AP.SF', -1, 348], 0.0), ([-1, 25, 'TCP', '...R..', -1, -1], 0.7673823092783506), ([-1, 25, 'TCP', '...R..', -1, 40], 0.7751048421052632), ([-1, 25, 'TCP', '...R..', -1, 40], 0.7751048421052632), ([-1, 25, 'TCP', '...R..', -1, 40], 0.7751048421052632), ([-1, 25, 'TCP', '...R..', -1, 40], 0.7751048421052632), ([-1, 25, 'TCP', '.AP.SF', -1, 268], 0.0), ([-1, 25, 'TCP', '...R..', -1, 40], 0.7751048421052632), ([-1, 25, 'TCP', '.AP.SF', 8, 276], 0.0), ([-1, 25, 'TCP', '...R..', -1, 40], 0.7751048421052632), ([-1, 25, 'TCP', -1, 8, 216], 0.0), ([-1, 25, 'TCP', '...R..', -1, 40], 0.7751048421052632)] \n",
      "\n",
      "[[-1, 25, 'TCP', '.A.RS.', 2, 230], [-1, 25, 'TCP', '...R..', -1, 40], [-1, 25, 'TCP', '...R..', -1, 40], [-1, 25, 'TCP', -1, -1, 40], [-1, 25, 'TCP', '.AP.SF', 1, 348], [-1, 25, 'TCP', '...R..', -1, 40], [-1, 25, 'TCP', '...R..', -1, 40], [-1, 25, 'TCP', '...R..', -1, 40], [-1, 25, 'TCP', '...R..', -1, 40], [-1, 25, 'TCP', '...R..', -1, 40], [-1, 25, 'TCP', '...R..', -1, 40], [-1, 25, 'TCP', '...R..', -1, 40], [-1, 25, 'TCP', '...R..', -1, 40], [-1, 25, 'TCP', '...R..', -1, 40], [-1, 25, 'TCP', '...R..', -1, 40], [-1, 25, 'TCP', '...R..', -1, 40], [-1, 25, 'TCP', '.A.RS.', -1, 290], [-1, 25, 'TCP', '...R..', -1, 40], [-1, 25, 'TCP', '...R..', -1, 40], [-1, 25, 'TCP', '...R..', -1, 40]]\n",
      "Generation id:7 MaxValue: 0.7751048421052632\n",
      "\n",
      " generation 7 population and fitness values \n",
      "\" [([-1, 25, 'TCP', '.A.RS.', 2, 230], 0.0), ([-1, 25, 'TCP', '...R..', -1, 40], 0.7751048421052632), ([-1, 25, 'TCP', '...R..', -1, 40], 0.7751048421052632), ([-1, 25, 'TCP', -1, -1, 40], 0.7751048421052632), ([-1, 25, 'TCP', '.AP.SF', 1, 348], 0.0), ([-1, 25, 'TCP', '...R..', -1, 40], 0.7751048421052632), ([-1, 25, 'TCP', '...R..', -1, 40], 0.7751048421052632), ([-1, 25, 'TCP', '...R..', -1, 40], 0.7751048421052632), ([-1, 25, 'TCP', '...R..', -1, 40], 0.7751048421052632), ([-1, 25, 'TCP', '...R..', -1, 40], 0.7751048421052632), ([-1, 25, 'TCP', '...R..', -1, 40], 0.7751048421052632), ([-1, 25, 'TCP', '...R..', -1, 40], 0.7751048421052632), ([-1, 25, 'TCP', '...R..', -1, 40], 0.7751048421052632), ([-1, 25, 'TCP', '...R..', -1, 40], 0.7751048421052632), ([-1, 25, 'TCP', '...R..', -1, 40], 0.7751048421052632), ([-1, 25, 'TCP', '...R..', -1, 40], 0.7751048421052632), ([-1, 25, 'TCP', '.A.RS.', -1, 290], 0.0), ([-1, 25, 'TCP', '...R..', -1, 40], 0.7751048421052632), ([-1, 25, 'TCP', '...R..', -1, 40], 0.7751048421052632), ([-1, 25, 'TCP', '...R..', -1, 40], 0.7751048421052632)] \n",
      "\n",
      "[[-1, 25, 'TCP', '...R..', -1, 40], [-1, 25, 'TCP', '...R..', -1, 40], [-1, 25, 'TCP', '.A.RS.', 10, 276], [-1, 25, 'TCP', '...R..', -1, 40], [-1, 25, 'TCP', '...R..', 8, 290], [-1, 25, 'TCP', '...R..', -1, 40], [-1, 25, 'TCP', '...R..', -1, 40], [-1, 25, 'TCP', '...R..', -1, 40], [-1, 25, 'TCP', '.A.RS.', 8, 552], [-1, 25, 'TCP', '.A.RS.', 8, 552], [-1, 25, 'TCP', -1, 7, 40], [-1, 25, 'TCP', '...R..', -1, 40], [-1, 25, 'TCP', '...R..', -1, 40], [-1, 25, 'TCP', '...R..', -1, 40], [-1, 25, 'TCP', '...R..', -1, 40], [-1, 25, 'TCP', '...R..', -1, 40], [-1, 25, 'TCP', '...R..', -1, 40], [-1, 25, 'TCP', '...R..', -1, 40], [-1, 25, 'TCP', '...R..', 8, 552], [-1, 25, 'TCP', '.A.RS.', -1, 40]]\n",
      "Generation id:8 MaxValue: 0.7751048421052632\n",
      "\n",
      " generation 8 population and fitness values \n",
      "\" [([-1, 25, 'TCP', '...R..', -1, 40], 0.7751048421052632), ([-1, 25, 'TCP', '...R..', -1, 40], 0.7751048421052632), ([-1, 25, 'TCP', '.A.RS.', 10, 276], 0.0), ([-1, 25, 'TCP', '...R..', -1, 40], 0.7751048421052632), ([-1, 25, 'TCP', '...R..', 8, 290], 0.0), ([-1, 25, 'TCP', '...R..', -1, 40], 0.7751048421052632), ([-1, 25, 'TCP', '...R..', -1, 40], 0.7751048421052632), ([-1, 25, 'TCP', '...R..', -1, 40], 0.7751048421052632), ([-1, 25, 'TCP', '.A.RS.', 8, 552], 0.0), ([-1, 25, 'TCP', '.A.RS.', 8, 552], 0.0), ([-1, 25, 'TCP', -1, 7, 40], 0.0), ([-1, 25, 'TCP', '...R..', -1, 40], 0.7751048421052632), ([-1, 25, 'TCP', '...R..', -1, 40], 0.7751048421052632), ([-1, 25, 'TCP', '...R..', -1, 40], 0.7751048421052632), ([-1, 25, 'TCP', '...R..', -1, 40], 0.7751048421052632), ([-1, 25, 'TCP', '...R..', -1, 40], 0.7751048421052632), ([-1, 25, 'TCP', '...R..', -1, 40], 0.7751048421052632), ([-1, 25, 'TCP', '...R..', -1, 40], 0.7751048421052632), ([-1, 25, 'TCP', '...R..', 8, 552], 0.0), ([-1, 25, 'TCP', '.A.RS.', -1, 40], 0.0)] \n",
      "\n",
      "[[-1, 25, 'TCP', '...R..', -1, 40], [-1, 25, 'TCP', '...R..', -1, 40], [-1, 25, 'TCP', '...R..', -1, 40], [-1, 25, 'TCP', '...R..', -1, 40], [-1, 25, 'TCP', '.A.RS.', -1, 230], [-1, 25, 'TCP', '...R..', -1, 40], [-1, 25, 'TCP', '...R..', -1, 40], [-1, 25, 'TCP', '...R..', -1, 40], [-1, 25, 'TCP', -1, 10, -1], [-1, 25, 'TCP', '...R..', -1, 40], [-1, 25, 'TCP', '...R..', -1, 40], [-1, 25, 'TCP', '...R..', -1, 40], [-1, 25, 'TCP', '...R..', -1, 40], [-1, 25, 'TCP', '...R..', -1, 40], [-1, 25, 'TCP', '...R..', -1, 40], [-1, 25, 'TCP', '...R..', -1, 40], [-1, 25, 'TCP', '...R..', -1, 40], [-1, 25, 'TCP', '...R..', -1, 40], [-1, 25, 'TCP', '...R..', -1, 40], [-1, 25, 'TCP', '...R..', -1, 40]]\n",
      "Generation id:9 MaxValue: 0.7751048421052632\n",
      "\n",
      " generation 9 population and fitness values \n",
      "\" [([-1, 25, 'TCP', '...R..', -1, 40], 0.7751048421052632), ([-1, 25, 'TCP', '...R..', -1, 40], 0.7751048421052632), ([-1, 25, 'TCP', '...R..', -1, 40], 0.7751048421052632), ([-1, 25, 'TCP', '...R..', -1, 40], 0.7751048421052632), ([-1, 25, 'TCP', '.A.RS.', -1, 230], 0.0), ([-1, 25, 'TCP', '...R..', -1, 40], 0.7751048421052632), ([-1, 25, 'TCP', '...R..', -1, 40], 0.7751048421052632), ([-1, 25, 'TCP', '...R..', -1, 40], 0.7751048421052632), ([-1, 25, 'TCP', -1, 10, -1], 0.6400640000000001), ([-1, 25, 'TCP', '...R..', -1, 40], 0.7751048421052632), ([-1, 25, 'TCP', '...R..', -1, 40], 0.7751048421052632), ([-1, 25, 'TCP', '...R..', -1, 40], 0.7751048421052632), ([-1, 25, 'TCP', '...R..', -1, 40], 0.7751048421052632), ([-1, 25, 'TCP', '...R..', -1, 40], 0.7751048421052632), ([-1, 25, 'TCP', '...R..', -1, 40], 0.7751048421052632), ([-1, 25, 'TCP', '...R..', -1, 40], 0.7751048421052632), ([-1, 25, 'TCP', '...R..', -1, 40], 0.7751048421052632), ([-1, 25, 'TCP', '...R..', -1, 40], 0.7751048421052632), ([-1, 25, 'TCP', '...R..', -1, 40], 0.7751048421052632), ([-1, 25, 'TCP', '...R..', -1, 40], 0.7751048421052632)] \n",
      "\n",
      "[[-1, 25, 'TCP', -1, 5, 276], [-1, 25, 'TCP', '...R..', -1, 40], [-1, 25, 'TCP', '...R..', -1, 40], [-1, 25, 'TCP', '...R..', -1, 40], [-1, 25, 'TCP', '.A.RS.', 10, -1], [-1, 25, 'TCP', '...R..', -1, 40], [-1, 25, 'TCP', '...R..', -1, 40], [-1, 25, 'TCP', '...R..', -1, 40], [-1, 25, 'TCP', -1, 4, 348], [-1, 25, 'TCP', '...R..', -1, 40], [-1, 25, 'TCP', '...R..', -1, 40], [-1, 25, 'TCP', '...R..', -1, 40], [-1, 25, 'TCP', '.A.RS.', 10, 460], [-1, 25, 'TCP', '...R..', -1, 40], [-1, 25, 'TCP', '.AP.SF', 3, 40], [-1, 25, 'TCP', -1, -1, -1], [-1, 25, 'TCP', '...R..', -1, 40], [-1, 25, 'TCP', '...R..', -1, 40], [-1, 25, 'TCP', '...R..', 9, -1], [-1, 25, 'TCP', '...R..', -1, 40]]\n",
      "Generation id:10 MaxValue: 0.8355405889208298\n",
      "\n",
      " generation 10 population and fitness values \n",
      "\" [([-1, 25, 'TCP', -1, 5, 276], 0.800108), ([-1, 25, 'TCP', '...R..', -1, 40], 0.7751048421052632), ([-1, 25, 'TCP', '...R..', -1, 40], 0.7751048421052632), ([-1, 25, 'TCP', '...R..', -1, 40], 0.7751048421052632), ([-1, 25, 'TCP', '.A.RS.', 10, -1], 0.800064), ([-1, 25, 'TCP', '...R..', -1, 40], 0.7751048421052632), ([-1, 25, 'TCP', '...R..', -1, 40], 0.7751048421052632), ([-1, 25, 'TCP', '...R..', -1, 40], 0.7751048421052632), ([-1, 25, 'TCP', -1, 4, 348], 0.0), ([-1, 25, 'TCP', '...R..', -1, 40], 0.7751048421052632), ([-1, 25, 'TCP', '...R..', -1, 40], 0.7751048421052632), ([-1, 25, 'TCP', '...R..', -1, 40], 0.7751048421052632), ([-1, 25, 'TCP', '.A.RS.', 10, 460], 0.0), ([-1, 25, 'TCP', '...R..', -1, 40], 0.7751048421052632), ([-1, 25, 'TCP', '.AP.SF', 3, 40], 0.0), ([-1, 25, 'TCP', -1, -1, -1], 0.8355405889208298), ([-1, 25, 'TCP', '...R..', -1, 40], 0.7751048421052632), ([-1, 25, 'TCP', '...R..', -1, 40], 0.7751048421052632), ([-1, 25, 'TCP', '...R..', 9, -1], 0.0), ([-1, 25, 'TCP', '...R..', -1, 40], 0.7751048421052632)] \n",
      "\n",
      "[[-1, 25, 'TCP', '...R..', 9, 40], [-1, 25, 'TCP', '...R..', -1, 40], [-1, 25, 'TCP', '...R..', -1, 40], [-1, 25, 'TCP', -1, 5, 276], [-1, 25, 'TCP', '...R..', -1, 40], [-1, 25, 'TCP', -1, 5, 276], [-1, 25, 'TCP', '...R..', -1, 40], [-1, 25, 'TCP', '...R..', -1, 40], [-1, 25, 'TCP', '...R..', -1, 40], [-1, 25, 'TCP', '...R..', -1, 40], [-1, 25, 'TCP', '...R..', -1, 40], [-1, 25, 'TCP', '...R..', -1, 40], [-1, 25, 'TCP', '...R..', -1, 40], [-1, 25, 'TCP', -1, -1, -1], [-1, 25, 'TCP', '...R..', -1, 40], [-1, 25, 'TCP', '...R..', -1, 40], [-1, 25, 'TCP', '.AP.SF', 1, -1], [-1, 25, 'TCP', -1, 5, -1], [-1, 25, 'TCP', '...R..', -1, 40], [-1, 25, 'TCP', -1, -1, -1]]\n",
      "Generation id:11 MaxValue: 0.8355405889208298\n",
      "\n",
      " generation 11 population and fitness values \n",
      "\" [([-1, 25, 'TCP', '...R..', 9, 40], 0.0), ([-1, 25, 'TCP', '...R..', -1, 40], 0.7751048421052632), ([-1, 25, 'TCP', '...R..', -1, 40], 0.7751048421052632), ([-1, 25, 'TCP', -1, 5, 276], 0.800108), ([-1, 25, 'TCP', '...R..', -1, 40], 0.7751048421052632), ([-1, 25, 'TCP', -1, 5, 276], 0.800108), ([-1, 25, 'TCP', '...R..', -1, 40], 0.7751048421052632), ([-1, 25, 'TCP', '...R..', -1, 40], 0.7751048421052632), ([-1, 25, 'TCP', '...R..', -1, 40], 0.7751048421052632), ([-1, 25, 'TCP', '...R..', -1, 40], 0.7751048421052632), ([-1, 25, 'TCP', '...R..', -1, 40], 0.7751048421052632), ([-1, 25, 'TCP', '...R..', -1, 40], 0.7751048421052632), ([-1, 25, 'TCP', '...R..', -1, 40], 0.7751048421052632), ([-1, 25, 'TCP', -1, -1, -1], 0.8355405889208298), ([-1, 25, 'TCP', '...R..', -1, 40], 0.7751048421052632), ([-1, 25, 'TCP', '...R..', -1, 40], 0.7751048421052632), ([-1, 25, 'TCP', '.AP.SF', 1, -1], 0.0), ([-1, 25, 'TCP', -1, 5, -1], 0.6917294237288136), ([-1, 25, 'TCP', '...R..', -1, 40], 0.7751048421052632), ([-1, 25, 'TCP', -1, -1, -1], 0.8355405889208298)] \n",
      "\n",
      "[[-1, 25, 'TCP', '...R..', -1, -1], [-1, 25, 'TCP', -1, -1, 40], [-1, 25, 'TCP', '...R..', 2, 230], [-1, 25, 'TCP', '...R..', -1, 40], [-1, 25, 'TCP', '...R..', -1, 40], [-1, 25, 'TCP', -1, 5, -1], [-1, 25, 'TCP', '...R..', -1, 40], [-1, 25, 'TCP', -1, -1, -1], [-1, 25, 'TCP', -1, 5, 40], [-1, 25, 'TCP', '...R..', -1, 276], [-1, 25, 'TCP', '...R..', -1, -1], [-1, 25, 'TCP', -1, -1, 40], [-1, 25, 'TCP', -1, 4, 230], [-1, 25, 'TCP', '...R..', -1, 40], [-1, 25, 'TCP', '...R..', 6, 460], [-1, 25, 'TCP', -1, 5, -1], [-1, 25, 'TCP', '...R..', 5, 348], [-1, 25, 'TCP', -1, -1, 276], [-1, 25, 'TCP', '...R..', 7, 40], [-1, 25, 'TCP', '...R..', -1, 40]]\n",
      "Generation id:12 MaxValue: 0.8355405889208298\n",
      "\n",
      " generation 12 population and fitness values \n",
      "\" [([-1, 25, 'TCP', '...R..', -1, -1], 0.7673823092783506), ([-1, 25, 'TCP', -1, -1, 40], 0.7751048421052632), ([-1, 25, 'TCP', '...R..', 2, 230], 0.0), ([-1, 25, 'TCP', '...R..', -1, 40], 0.7751048421052632), ([-1, 25, 'TCP', '...R..', -1, 40], 0.7751048421052632), ([-1, 25, 'TCP', -1, 5, -1], 0.6917294237288136), ([-1, 25, 'TCP', '...R..', -1, 40], 0.7751048421052632), ([-1, 25, 'TCP', -1, -1, -1], 0.8355405889208298), ([-1, 25, 'TCP', -1, 5, 40], 0.0), ([-1, 25, 'TCP', '...R..', -1, 276], 0.0), ([-1, 25, 'TCP', '...R..', -1, -1], 0.7673823092783506), ([-1, 25, 'TCP', -1, -1, 40], 0.7751048421052632), ([-1, 25, 'TCP', -1, 4, 230], 0.0), ([-1, 25, 'TCP', '...R..', -1, 40], 0.7751048421052632), ([-1, 25, 'TCP', '...R..', 6, 460], 0.0), ([-1, 25, 'TCP', -1, 5, -1], 0.6917294237288136), ([-1, 25, 'TCP', '...R..', 5, 348], 0.0), ([-1, 25, 'TCP', -1, -1, 276], 0.800108), ([-1, 25, 'TCP', '...R..', 7, 40], 0.0), ([-1, 25, 'TCP', '...R..', -1, 40], 0.7751048421052632)] \n",
      "\n",
      "[[-1, 25, 'TCP', '...R..', -1, 268], [-1, 25, 'TCP', -1, -1, 40], [-1, 25, 'TCP', '...R..', -1, -1], [-1, 25, 'TCP', '...R..', -1, 40], [-1, 25, 'TCP', -1, 4, 268], [-1, 25, 'TCP', '...R..', -1, 40], [-1, 25, 'TCP', -1, 5, -1], [-1, 25, 'TCP', -1, -1, -1], [-1, 25, 'TCP', '...R..', -1, -1], [-1, 25, 'TCP', '...R..', -1, 40], [-1, 25, 'TCP', '.AP.SF', 1, 268], [-1, 25, 'TCP', '...R..', -1, 40], [-1, 25, 'TCP', '...R..', -1, 40], [-1, 25, 'TCP', '...R..', -1, 40], [-1, 25, 'TCP', -1, -1, -1], [-1, 25, 'TCP', '...R..', -1, 40], [-1, 25, 'TCP', '...R..', -1, 40], [-1, 25, 'TCP', '...R..', -1, 40], [-1, 25, 'TCP', -1, -1, 40], [-1, 25, 'TCP', -1, -1, -1]]\n",
      "Generation id:13 MaxValue: 0.8355405889208298\n",
      "\n",
      " generation 13 population and fitness values \n",
      "\" [([-1, 25, 'TCP', '...R..', -1, 268], 0.0), ([-1, 25, 'TCP', -1, -1, 40], 0.7751048421052632), ([-1, 25, 'TCP', '...R..', -1, -1], 0.7673823092783506), ([-1, 25, 'TCP', '...R..', -1, 40], 0.7751048421052632), ([-1, 25, 'TCP', -1, 4, 268], 0.0), ([-1, 25, 'TCP', '...R..', -1, 40], 0.7751048421052632), ([-1, 25, 'TCP', -1, 5, -1], 0.6917294237288136), ([-1, 25, 'TCP', -1, -1, -1], 0.8355405889208298), ([-1, 25, 'TCP', '...R..', -1, -1], 0.7673823092783506), ([-1, 25, 'TCP', '...R..', -1, 40], 0.7751048421052632), ([-1, 25, 'TCP', '.AP.SF', 1, 268], 0.0), ([-1, 25, 'TCP', '...R..', -1, 40], 0.7751048421052632), ([-1, 25, 'TCP', '...R..', -1, 40], 0.7751048421052632), ([-1, 25, 'TCP', '...R..', -1, 40], 0.7751048421052632), ([-1, 25, 'TCP', -1, -1, -1], 0.8355405889208298), ([-1, 25, 'TCP', '...R..', -1, 40], 0.7751048421052632), ([-1, 25, 'TCP', '...R..', -1, 40], 0.7751048421052632), ([-1, 25, 'TCP', '...R..', -1, 40], 0.7751048421052632), ([-1, 25, 'TCP', -1, -1, 40], 0.7751048421052632), ([-1, 25, 'TCP', -1, -1, -1], 0.8355405889208298)] \n",
      "\n",
      "[[-1, 25, 'TCP', -1, 1, 268], [-1, 25, 'TCP', '...R..', -1, -1], [-1, 25, 'TCP', -1, 8, -1], [-1, 25, 'TCP', '...R..', -1, 40], [-1, 25, 'TCP', -1, 6, 230], [-1, 25, 'TCP', '...R..', -1, 40], [-1, 25, 'TCP', '...R..', 8, 40], [-1, 25, 'TCP', -1, -1, -1], [-1, 25, 'TCP', '.A.RS.', 4, -1], [-1, 25, 'TCP', '...R..', -1, 40], [-1, 25, 'TCP', '.AP.SF', 7, 216], [-1, 25, 'TCP', '...R..', -1, -1], [-1, 25, 'TCP', -1, 5, 40], [-1, 25, 'TCP', '...R..', -1, -1], [-1, 25, 'TCP', '...R..', -1, -1], [-1, 25, 'TCP', '...R..', -1, -1], [-1, 25, 'TCP', -1, -1, 40], [-1, 25, 'TCP', '...R..', -1, -1], [-1, 25, 'TCP', '...R..', -1, 40], [-1, 25, 'TCP', -1, -1, -1]]\n",
      "Generation id:14 MaxValue: 0.8450206747986926\n",
      "\n",
      " generation 14 population and fitness values \n",
      "\" [([-1, 25, 'TCP', -1, 1, 268], 0.0), ([-1, 25, 'TCP', '...R..', -1, -1], 0.7673823092783506), ([-1, 25, 'TCP', -1, 8, -1], 0.040004000000000005), ([-1, 25, 'TCP', '...R..', -1, 40], 0.7751048421052632), ([-1, 25, 'TCP', -1, 6, 230], 0.0), ([-1, 25, 'TCP', '...R..', -1, 40], 0.7751048421052632), ([-1, 25, 'TCP', '...R..', 8, 40], 0.0), ([-1, 25, 'TCP', -1, -1, -1], 0.8355405889208298), ([-1, 25, 'TCP', '.A.RS.', 4, -1], 0.8450206747986926), ([-1, 25, 'TCP', '...R..', -1, 40], 0.7751048421052632), ([-1, 25, 'TCP', '.AP.SF', 7, 216], 0.0), ([-1, 25, 'TCP', '...R..', -1, -1], 0.7673823092783506), ([-1, 25, 'TCP', -1, 5, 40], 0.0), ([-1, 25, 'TCP', '...R..', -1, -1], 0.7673823092783506), ([-1, 25, 'TCP', '...R..', -1, -1], 0.7673823092783506), ([-1, 25, 'TCP', '...R..', -1, -1], 0.7673823092783506), ([-1, 25, 'TCP', -1, -1, 40], 0.7751048421052632), ([-1, 25, 'TCP', '...R..', -1, -1], 0.7673823092783506), ([-1, 25, 'TCP', '...R..', -1, 40], 0.7751048421052632), ([-1, 25, 'TCP', -1, -1, -1], 0.8355405889208298)] \n",
      "\n",
      "[[-1, 25, 'TCP', '...R..', -1, -1], [-1, 25, 'TCP', -1, -1, 40], [-1, 25, 'TCP', '...R..', -1, -1], [-1, 25, 'TCP', '...R..', -1, -1], [-1, 25, 'TCP', '...R..', -1, -1], [-1, 25, 'TCP', -1, -1, 40], [-1, 25, 'TCP', '...R..', -1, -1], [-1, 25, 'TCP', -1, -1, -1], [-1, 25, 'TCP', '...R..', -1, -1], [-1, 25, 'TCP', '...R..', -1, 40], [-1, 25, 'TCP', '...R..', 4, -1], [-1, 25, 'TCP', '.A.RS.', -1, 40], [-1, 25, 'TCP', '.AP.SF', 7, 276], [-1, 25, 'TCP', '...R..', -1, 40], [-1, 25, 'TCP', '...R..', 2, 460], [-1, 25, 'TCP', '...R..', -1, -1], [-1, 25, 'TCP', '.A.RS.', 10, 216], [-1, 25, 'TCP', '.A.RS.', 4, -1], [-1, 25, 'TCP', '.AP.SF', 3, 290], [-1, 25, 'TCP', '...R..', -1, -1]]\n",
      "Generation id:15 MaxValue: 0.8450206747986926\n",
      "\n",
      " generation 15 population and fitness values \n",
      "\" [([-1, 25, 'TCP', '...R..', -1, -1], 0.7673823092783506), ([-1, 25, 'TCP', -1, -1, 40], 0.7751048421052632), ([-1, 25, 'TCP', '...R..', -1, -1], 0.7673823092783506), ([-1, 25, 'TCP', '...R..', -1, -1], 0.7673823092783506), ([-1, 25, 'TCP', '...R..', -1, -1], 0.7673823092783506), ([-1, 25, 'TCP', -1, -1, 40], 0.7751048421052632), ([-1, 25, 'TCP', '...R..', -1, -1], 0.7673823092783506), ([-1, 25, 'TCP', -1, -1, -1], 0.8355405889208298), ([-1, 25, 'TCP', '...R..', -1, -1], 0.7673823092783506), ([-1, 25, 'TCP', '...R..', -1, 40], 0.7751048421052632), ([-1, 25, 'TCP', '...R..', 4, -1], 0.0), ([-1, 25, 'TCP', '.A.RS.', -1, 40], 0.0), ([-1, 25, 'TCP', '.AP.SF', 7, 276], 0.0), ([-1, 25, 'TCP', '...R..', -1, 40], 0.7751048421052632), ([-1, 25, 'TCP', '...R..', 2, 460], 0.0), ([-1, 25, 'TCP', '...R..', -1, -1], 0.7673823092783506), ([-1, 25, 'TCP', '.A.RS.', 10, 216], 0.0), ([-1, 25, 'TCP', '.A.RS.', 4, -1], 0.8450206747986926), ([-1, 25, 'TCP', '.AP.SF', 3, 290], 0.0), ([-1, 25, 'TCP', '...R..', -1, -1], 0.7673823092783506)] \n",
      "\n",
      "[[-1, 25, 'TCP', '...R..', -1, -1], [-1, 25, 'TCP', '...R..', -1, -1], [-1, 25, 'TCP', -1, -1, -1], [-1, 25, 'TCP', '...R..', -1, 40], [-1, 25, 'TCP', '...R..', -1, 40], [-1, 25, 'TCP', '...R..', -1, -1], [-1, 25, 'TCP', '.A.RS.', -1, -1], [-1, 25, 'TCP', '...R..', 4, -1], [-1, 25, 'TCP', '.A.RS.', 3, 348], [-1, 25, 'TCP', '.A.RS.', 4, -1], [-1, 25, 'TCP', '.AP.SF', 6, 348], [-1, 25, 'TCP', '...R..', -1, -1], [-1, 25, 'TCP', '.A.RS.', 10, -1], [-1, 25, 'TCP', '...R..', -1, -1], [-1, 25, 'TCP', -1, -1, -1], [-1, 25, 'TCP', -1, -1, 40], [-1, 25, 'TCP', -1, -1, 40], [-1, 25, 'TCP', '...R..', -1, -1], [-1, 25, 'TCP', '...R..', -1, -1], [-1, 25, 'TCP', '...R..', -1, -1]]\n",
      "Generation id:16 MaxValue: 0.8452645371809101\n",
      "\n",
      " generation 16 population and fitness values \n",
      "\" [([-1, 25, 'TCP', '...R..', -1, -1], 0.7673823092783506), ([-1, 25, 'TCP', '...R..', -1, -1], 0.7673823092783506), ([-1, 25, 'TCP', -1, -1, -1], 0.8355405889208298), ([-1, 25, 'TCP', '...R..', -1, 40], 0.7751048421052632), ([-1, 25, 'TCP', '...R..', -1, 40], 0.7751048421052632), ([-1, 25, 'TCP', '...R..', -1, -1], 0.7673823092783506), ([-1, 25, 'TCP', '.A.RS.', -1, -1], 0.8452645371809101), ([-1, 25, 'TCP', '...R..', 4, -1], 0.0), ([-1, 25, 'TCP', '.A.RS.', 3, 348], 0.0), ([-1, 25, 'TCP', '.A.RS.', 4, -1], 0.8450206747986926), ([-1, 25, 'TCP', '.AP.SF', 6, 348], 0.0), ([-1, 25, 'TCP', '...R..', -1, -1], 0.7673823092783506), ([-1, 25, 'TCP', '.A.RS.', 10, -1], 0.800064), ([-1, 25, 'TCP', '...R..', -1, -1], 0.7673823092783506), ([-1, 25, 'TCP', -1, -1, -1], 0.8355405889208298), ([-1, 25, 'TCP', -1, -1, 40], 0.7751048421052632), ([-1, 25, 'TCP', -1, -1, 40], 0.7751048421052632), ([-1, 25, 'TCP', '...R..', -1, -1], 0.7673823092783506), ([-1, 25, 'TCP', '...R..', -1, -1], 0.7673823092783506), ([-1, 25, 'TCP', '...R..', -1, -1], 0.7673823092783506)] \n",
      "\n",
      "[[-1, 25, 'TCP', '...R..', -1, -1], [-1, 25, 'TCP', '.A.RS.', 10, -1], [-1, 25, 'TCP', '...R..', -1, 40], [-1, 25, 'TCP', '...R..', -1, -1], [-1, 25, 'TCP', '.AP.SF', 4, 276], [-1, 25, 'TCP', '...R..', -1, -1], [-1, 25, 'TCP', '...R..', -1, 276], [-1, 25, 'TCP', '.AP.SF', 4, 40], [-1, 25, 'TCP', -1, 9, 230], [-1, 25, 'TCP', '...R..', -1, -1], [-1, 25, 'TCP', '...R..', -1, -1], [-1, 25, 'TCP', '...R..', -1, -1], [-1, 25, 'TCP', '.A.RS.', 10, -1], [-1, 25, 'TCP', '...R..', -1, -1], [-1, 25, 'TCP', -1, -1, 230], [-1, 25, 'TCP', '...R..', -1, -1], [-1, 25, 'TCP', -1, -1, -1], [-1, 25, 'TCP', '...R..', -1, -1], [-1, 25, 'TCP', '...R..', 10, 230], [-1, 25, 'TCP', '...R..', -1, 40]]\n",
      "Generation id:17 MaxValue: 0.8355405889208298\n",
      "\n",
      " generation 17 population and fitness values \n",
      "\" [([-1, 25, 'TCP', '...R..', -1, -1], 0.7673823092783506), ([-1, 25, 'TCP', '.A.RS.', 10, -1], 0.800064), ([-1, 25, 'TCP', '...R..', -1, 40], 0.7751048421052632), ([-1, 25, 'TCP', '...R..', -1, -1], 0.7673823092783506), ([-1, 25, 'TCP', '.AP.SF', 4, 276], 0.0), ([-1, 25, 'TCP', '...R..', -1, -1], 0.7673823092783506), ([-1, 25, 'TCP', '...R..', -1, 276], 0.0), ([-1, 25, 'TCP', '.AP.SF', 4, 40], 0.0), ([-1, 25, 'TCP', -1, 9, 230], 0.0), ([-1, 25, 'TCP', '...R..', -1, -1], 0.7673823092783506), ([-1, 25, 'TCP', '...R..', -1, -1], 0.7673823092783506), ([-1, 25, 'TCP', '...R..', -1, -1], 0.7673823092783506), ([-1, 25, 'TCP', '.A.RS.', 10, -1], 0.800064), ([-1, 25, 'TCP', '...R..', -1, -1], 0.7673823092783506), ([-1, 25, 'TCP', -1, -1, 230], 0.0), ([-1, 25, 'TCP', '...R..', -1, -1], 0.7673823092783506), ([-1, 25, 'TCP', -1, -1, -1], 0.8355405889208298), ([-1, 25, 'TCP', '...R..', -1, -1], 0.7673823092783506), ([-1, 25, 'TCP', '...R..', 10, 230], 0.0), ([-1, 25, 'TCP', '...R..', -1, 40], 0.7751048421052632)] \n",
      "\n",
      "[[-1, 25, 'TCP', '.A.RS.', 3, 552], [-1, 25, 'TCP', '...R..', 10, -1], [-1, 25, 'TCP', '.A.RS.', -1, -1], [-1, 25, 'TCP', '...R..', 10, -1], [-1, 25, 'TCP', '...R..', 10, -1], [-1, 25, 'TCP', '.A.RS.', -1, 40], [-1, 25, 'TCP', '.AP.SF', 4, -1], [-1, 25, 'TCP', '...R..', -1, -1], [-1, 25, 'TCP', '.A.RS.', 10, 40], [-1, 25, 'TCP', '.A.RS.', 10, -1], [-1, 25, 'TCP', '...R..', -1, -1], [-1, 25, 'TCP', '...R..', -1, -1], [-1, 25, 'TCP', '...R..', 7, 348], [-1, 25, 'TCP', '...R..', -1, -1], [-1, 25, 'TCP', '...R..', -1, -1], [-1, 25, 'TCP', '...R..', -1, 40], [-1, 25, 'TCP', '...R..', -1, -1], [-1, 25, 'TCP', '...R..', -1, -1], [-1, 25, 'TCP', '.A.RS.', 9, 552], [-1, 25, 'TCP', -1, -1, -1]]\n",
      "Generation id:18 MaxValue: 0.8452645371809101\n",
      "\n",
      " generation 18 population and fitness values \n",
      "\" [([-1, 25, 'TCP', '.A.RS.', 3, 552], 0.0), ([-1, 25, 'TCP', '...R..', 10, -1], 0.0), ([-1, 25, 'TCP', '.A.RS.', -1, -1], 0.8452645371809101), ([-1, 25, 'TCP', '...R..', 10, -1], 0.0), ([-1, 25, 'TCP', '...R..', 10, -1], 0.0), ([-1, 25, 'TCP', '.A.RS.', -1, 40], 0.0), ([-1, 25, 'TCP', '.AP.SF', 4, -1], 0.0), ([-1, 25, 'TCP', '...R..', -1, -1], 0.7673823092783506), ([-1, 25, 'TCP', '.A.RS.', 10, 40], 0.0), ([-1, 25, 'TCP', '.A.RS.', 10, -1], 0.800064), ([-1, 25, 'TCP', '...R..', -1, -1], 0.7673823092783506), ([-1, 25, 'TCP', '...R..', -1, -1], 0.7673823092783506), ([-1, 25, 'TCP', '...R..', 7, 348], 0.0), ([-1, 25, 'TCP', '...R..', -1, -1], 0.7673823092783506), ([-1, 25, 'TCP', '...R..', -1, -1], 0.7673823092783506), ([-1, 25, 'TCP', '...R..', -1, 40], 0.7751048421052632), ([-1, 25, 'TCP', '...R..', -1, -1], 0.7673823092783506), ([-1, 25, 'TCP', '...R..', -1, -1], 0.7673823092783506), ([-1, 25, 'TCP', '.A.RS.', 9, 552], 0.0), ([-1, 25, 'TCP', -1, -1, -1], 0.8355405889208298)] \n",
      "\n",
      "[[-1, 25, 'TCP', '.AP.SF', 9, 230], [-1, 25, 'TCP', '...R..', 10, -1], [-1, 25, 'TCP', -1, 9, -1], [-1, 25, 'TCP', '...R..', -1, -1], [-1, 25, 'TCP', '...R..', 8, -1], [-1, 25, 'TCP', '.A.RS.', -1, -1], [-1, 25, 'TCP', -1, -1, -1], [-1, 25, 'TCP', '...R..', -1, -1], [-1, 25, 'TCP', '...R..', -1, -1], [-1, 25, 'TCP', '...R..', -1, -1], [-1, 25, 'TCP', -1, 3, -1], [-1, 25, 'TCP', '...R..', -1, -1], [-1, 25, 'TCP', '.A.RS.', 10, -1], [-1, 25, 'TCP', '.A.RS.', -1, -1], [-1, 25, 'TCP', '.A.RS.', -1, -1], [-1, 25, 'TCP', '...R..', -1, -1], [-1, 25, 'TCP', -1, 4, 40], [-1, 25, 'TCP', '...R..', -1, 40], [-1, 25, 'TCP', '...R..', -1, -1], [-1, 25, 'TCP', '...R..', -1, -1]]\n",
      "Generation id:19 MaxValue: 0.8452645371809101\n",
      "\n",
      " generation 19 population and fitness values \n",
      "\" [([-1, 25, 'TCP', '.AP.SF', 9, 230], 0.0), ([-1, 25, 'TCP', '...R..', 10, -1], 0.0), ([-1, 25, 'TCP', -1, 9, -1], 0.0), ([-1, 25, 'TCP', '...R..', -1, -1], 0.7673823092783506), ([-1, 25, 'TCP', '...R..', 8, -1], 0.0), ([-1, 25, 'TCP', '.A.RS.', -1, -1], 0.8452645371809101), ([-1, 25, 'TCP', -1, -1, -1], 0.8355405889208298), ([-1, 25, 'TCP', '...R..', -1, -1], 0.7673823092783506), ([-1, 25, 'TCP', '...R..', -1, -1], 0.7673823092783506), ([-1, 25, 'TCP', '...R..', -1, -1], 0.7673823092783506), ([-1, 25, 'TCP', -1, 3, -1], 0.0), ([-1, 25, 'TCP', '...R..', -1, -1], 0.7673823092783506), ([-1, 25, 'TCP', '.A.RS.', 10, -1], 0.800064), ([-1, 25, 'TCP', '.A.RS.', -1, -1], 0.8452645371809101), ([-1, 25, 'TCP', '.A.RS.', -1, -1], 0.8452645371809101), ([-1, 25, 'TCP', '...R..', -1, -1], 0.7673823092783506), ([-1, 25, 'TCP', -1, 4, 40], 0.0), ([-1, 25, 'TCP', '...R..', -1, 40], 0.7751048421052632), ([-1, 25, 'TCP', '...R..', -1, -1], 0.7673823092783506), ([-1, 25, 'TCP', '...R..', -1, -1], 0.7673823092783506)] \n",
      "\n",
      "[[-1, 25, 'TCP', '...R..', -1, -1], [-1, 25, 'TCP', '...R..', -1, -1], [-1, 25, 'TCP', '.A.RS.', 1, 268], [-1, 25, 'TCP', '.A.RS.', 10, -1], [-1, 25, 'TCP', '...R..', 10, -1], [-1, 25, 'TCP', '.A.RS.', -1, -1], [-1, 25, 'TCP', '...R..', -1, -1], [-1, 25, 'TCP', '.A.RS.', -1, -1], [-1, 25, 'TCP', '.A.RS.', 2, 460], [-1, 25, 'TCP', '...R..', -1, -1], [-1, 25, 'TCP', '...R..', -1, -1], [-1, 25, 'TCP', '.A.RS.', -1, -1], [-1, 25, 'TCP', '.A.RS.', -1, -1], [-1, 25, 'TCP', '...R..', 10, 40], [-1, 25, 'TCP', '...R..', 2, 276], [-1, 25, 'TCP', -1, -1, -1], [-1, 25, 'TCP', '.A.RS.', -1, -1], [-1, 25, 'TCP', '.A.RS.', -1, -1], [-1, 25, 'TCP', '.A.RS.', -1, -1], [-1, 25, 'TCP', '.A.RS.', -1, -1]]\n",
      "Generation id:20 MaxValue: 0.8452645371809101\n",
      "\n",
      " generation 20 population and fitness values \n",
      "\" [([-1, 25, 'TCP', '...R..', -1, -1], 0.7673823092783506), ([-1, 25, 'TCP', '...R..', -1, -1], 0.7673823092783506), ([-1, 25, 'TCP', '.A.RS.', 1, 268], 0.0), ([-1, 25, 'TCP', '.A.RS.', 10, -1], 0.800064), ([-1, 25, 'TCP', '...R..', 10, -1], 0.0), ([-1, 25, 'TCP', '.A.RS.', -1, -1], 0.8452645371809101), ([-1, 25, 'TCP', '...R..', -1, -1], 0.7673823092783506), ([-1, 25, 'TCP', '.A.RS.', -1, -1], 0.8452645371809101), ([-1, 25, 'TCP', '.A.RS.', 2, 460], 0.0), ([-1, 25, 'TCP', '...R..', -1, -1], 0.7673823092783506), ([-1, 25, 'TCP', '...R..', -1, -1], 0.7673823092783506), ([-1, 25, 'TCP', '.A.RS.', -1, -1], 0.8452645371809101), ([-1, 25, 'TCP', '.A.RS.', -1, -1], 0.8452645371809101), ([-1, 25, 'TCP', '...R..', 10, 40], 0.0), ([-1, 25, 'TCP', '...R..', 2, 276], 0.0), ([-1, 25, 'TCP', -1, -1, -1], 0.8355405889208298), ([-1, 25, 'TCP', '.A.RS.', -1, -1], 0.8452645371809101), ([-1, 25, 'TCP', '.A.RS.', -1, -1], 0.8452645371809101), ([-1, 25, 'TCP', '.A.RS.', -1, -1], 0.8452645371809101), ([-1, 25, 'TCP', '.A.RS.', -1, -1], 0.8452645371809101)] \n",
      "\n",
      "[[-1, 25, 'TCP', '.A.RS.', -1, -1], [-1, 25, 'TCP', '...R..', -1, -1], [-1, 25, 'TCP', '...R..', 9, 216], [-1, 25, 'TCP', '...R..', -1, -1], [-1, 25, 'TCP', '.AP.SF', 5, 460], [-1, 25, 'TCP', '...R..', -1, -1], [-1, 25, 'TCP', '.A.RS.', -1, -1], [-1, 25, 'TCP', '.A.RS.', -1, -1], [-1, 25, 'TCP', '.A.RS.', -1, -1], [-1, 25, 'TCP', -1, -1, -1], [-1, 25, 'TCP', -1, -1, -1], [-1, 25, 'TCP', '.A.RS.', -1, -1], [-1, 25, 'TCP', '.A.RS.', -1, -1], [-1, 25, 'TCP', '.A.RS.', -1, -1], [-1, 25, 'TCP', -1, -1, -1], [-1, 25, 'TCP', '...R..', -1, -1], [-1, 25, 'TCP', '.A.RS.', -1, -1], [-1, 25, 'TCP', '...R..', -1, -1], [-1, 25, 'TCP', -1, -1, -1], [-1, 25, 'TCP', '.A.RS.', -1, -1]]\n",
      "Generation id:21 MaxValue: 0.8452645371809101\n",
      "\n",
      " generation 21 population and fitness values \n",
      "\" [([-1, 25, 'TCP', '.A.RS.', -1, -1], 0.8452645371809101), ([-1, 25, 'TCP', '...R..', -1, -1], 0.7673823092783506), ([-1, 25, 'TCP', '...R..', 9, 216], 0.0), ([-1, 25, 'TCP', '...R..', -1, -1], 0.7673823092783506), ([-1, 25, 'TCP', '.AP.SF', 5, 460], 0.0), ([-1, 25, 'TCP', '...R..', -1, -1], 0.7673823092783506), ([-1, 25, 'TCP', '.A.RS.', -1, -1], 0.8452645371809101), ([-1, 25, 'TCP', '.A.RS.', -1, -1], 0.8452645371809101), ([-1, 25, 'TCP', '.A.RS.', -1, -1], 0.8452645371809101), ([-1, 25, 'TCP', -1, -1, -1], 0.8355405889208298), ([-1, 25, 'TCP', -1, -1, -1], 0.8355405889208298), ([-1, 25, 'TCP', '.A.RS.', -1, -1], 0.8452645371809101), ([-1, 25, 'TCP', '.A.RS.', -1, -1], 0.8452645371809101), ([-1, 25, 'TCP', '.A.RS.', -1, -1], 0.8452645371809101), ([-1, 25, 'TCP', -1, -1, -1], 0.8355405889208298), ([-1, 25, 'TCP', '...R..', -1, -1], 0.7673823092783506), ([-1, 25, 'TCP', '.A.RS.', -1, -1], 0.8452645371809101), ([-1, 25, 'TCP', '...R..', -1, -1], 0.7673823092783506), ([-1, 25, 'TCP', -1, -1, -1], 0.8355405889208298), ([-1, 25, 'TCP', '.A.RS.', -1, -1], 0.8452645371809101)] \n",
      "\n",
      "[[-1, 25, 'TCP', '...R..', 3, 40], [-1, 25, 'TCP', -1, -1, -1], [-1, 25, 'TCP', '...R..', -1, -1], [-1, 25, 'TCP', '.A.RS.', -1, -1], [-1, 25, 'TCP', '.A.RS.', -1, -1], [-1, 25, 'TCP', '.A.RS.', -1, -1], [-1, 25, 'TCP', '.A.RS.', 4, 230], [-1, 25, 'TCP', '.A.RS.', -1, -1], [-1, 25, 'TCP', -1, -1, -1], [-1, 25, 'TCP', '...R..', -1, -1], [-1, 25, 'TCP', -1, -1, -1], [-1, 25, 'TCP', '...R..', -1, -1], [-1, 25, 'TCP', '...R..', -1, -1], [-1, 25, 'TCP', -1, -1, -1], [-1, 25, 'TCP', '...R..', -1, -1], [-1, 25, 'TCP', -1, -1, -1], [-1, 25, 'TCP', '.AP.SF', 3, 230], [-1, 25, 'TCP', '.A.RS.', -1, -1], [-1, 25, 'TCP', '...R..', -1, 230], [-1, 25, 'TCP', '...R..', -1, -1]]\n",
      "Generation id:22 MaxValue: 0.8452645371809101\n",
      "\n",
      " generation 22 population and fitness values \n",
      "\" [([-1, 25, 'TCP', '...R..', 3, 40], 0.0), ([-1, 25, 'TCP', -1, -1, -1], 0.8355405889208298), ([-1, 25, 'TCP', '...R..', -1, -1], 0.7673823092783506), ([-1, 25, 'TCP', '.A.RS.', -1, -1], 0.8452645371809101), ([-1, 25, 'TCP', '.A.RS.', -1, -1], 0.8452645371809101), ([-1, 25, 'TCP', '.A.RS.', -1, -1], 0.8452645371809101), ([-1, 25, 'TCP', '.A.RS.', 4, 230], 0.0), ([-1, 25, 'TCP', '.A.RS.', -1, -1], 0.8452645371809101), ([-1, 25, 'TCP', -1, -1, -1], 0.8355405889208298), ([-1, 25, 'TCP', '...R..', -1, -1], 0.7673823092783506), ([-1, 25, 'TCP', -1, -1, -1], 0.8355405889208298), ([-1, 25, 'TCP', '...R..', -1, -1], 0.7673823092783506), ([-1, 25, 'TCP', '...R..', -1, -1], 0.7673823092783506), ([-1, 25, 'TCP', -1, -1, -1], 0.8355405889208298), ([-1, 25, 'TCP', '...R..', -1, -1], 0.7673823092783506), ([-1, 25, 'TCP', -1, -1, -1], 0.8355405889208298), ([-1, 25, 'TCP', '.AP.SF', 3, 230], 0.0), ([-1, 25, 'TCP', '.A.RS.', -1, -1], 0.8452645371809101), ([-1, 25, 'TCP', '...R..', -1, 230], 0.0), ([-1, 25, 'TCP', '...R..', -1, -1], 0.7673823092783506)] \n",
      "\n",
      "[[-1, 25, 'TCP', '.A.RS.', -1, -1], [-1, 25, 'TCP', '.AP.SF', -1, 216], [-1, 25, 'TCP', '...R..', -1, 290], [-1, 25, 'TCP', '...R..', -1, -1], [-1, 25, 'TCP', '.A.RS.', -1, -1], [-1, 25, 'TCP', -1, -1, -1], [-1, 25, 'TCP', '.A.RS.', -1, -1], [-1, 25, 'TCP', '.A.RS.', -1, -1], [-1, 25, 'TCP', '.A.RS.', -1, -1], [-1, 25, 'TCP', '...R..', -1, -1], [-1, 25, 'TCP', '...R..', -1, -1], [-1, 25, 'TCP', '...R..', -1, -1], [-1, 25, 'TCP', '.A.RS.', -1, -1], [-1, 25, 'TCP', '...R..', -1, -1], [-1, 25, 'TCP', '.A.RS.', 8, -1], [-1, 25, 'TCP', '...R..', -1, -1], [-1, 25, 'TCP', '.AP.SF', -1, 216], [-1, 25, 'TCP', '...R..', -1, -1], [-1, 25, 'TCP', '...R..', -1, -1], [-1, 25, 'TCP', '.A.RS.', -1, -1]]\n",
      "Generation id:23 MaxValue: 0.8452645371809101\n",
      "\n",
      " generation 23 population and fitness values \n",
      "\" [([-1, 25, 'TCP', '.A.RS.', -1, -1], 0.8452645371809101), ([-1, 25, 'TCP', '.AP.SF', -1, 216], 0.0), ([-1, 25, 'TCP', '...R..', -1, 290], 0.0), ([-1, 25, 'TCP', '...R..', -1, -1], 0.7673823092783506), ([-1, 25, 'TCP', '.A.RS.', -1, -1], 0.8452645371809101), ([-1, 25, 'TCP', -1, -1, -1], 0.8355405889208298), ([-1, 25, 'TCP', '.A.RS.', -1, -1], 0.8452645371809101), ([-1, 25, 'TCP', '.A.RS.', -1, -1], 0.8452645371809101), ([-1, 25, 'TCP', '.A.RS.', -1, -1], 0.8452645371809101), ([-1, 25, 'TCP', '...R..', -1, -1], 0.7673823092783506), ([-1, 25, 'TCP', '...R..', -1, -1], 0.7673823092783506), ([-1, 25, 'TCP', '...R..', -1, -1], 0.7673823092783506), ([-1, 25, 'TCP', '.A.RS.', -1, -1], 0.8452645371809101), ([-1, 25, 'TCP', '...R..', -1, -1], 0.7673823092783506), ([-1, 25, 'TCP', '.A.RS.', 8, -1], 0.400004), ([-1, 25, 'TCP', '...R..', -1, -1], 0.7673823092783506), ([-1, 25, 'TCP', '.AP.SF', -1, 216], 0.0), ([-1, 25, 'TCP', '...R..', -1, -1], 0.7673823092783506), ([-1, 25, 'TCP', '...R..', -1, -1], 0.7673823092783506), ([-1, 25, 'TCP', '.A.RS.', -1, -1], 0.8452645371809101)] \n",
      "\n",
      "[[-1, 25, 'TCP', '.A.RS.', -1, -1], [-1, 25, 'TCP', '.A.RS.', -1, -1], [-1, 25, 'TCP', '.A.RS.', -1, -1], [-1, 25, 'TCP', '.A.RS.', -1, -1], [-1, 25, 'TCP', '.A.RS.', -1, -1], [-1, 25, 'TCP', '.A.RS.', -1, -1], [-1, 25, 'TCP', '...R..', -1, -1], [-1, 25, 'TCP', '...R..', -1, -1], [-1, 25, 'TCP', '...R..', -1, -1], [-1, 25, 'TCP', '.A.RS.', -1, -1], [-1, 25, 'TCP', '.A.RS.', -1, -1], [-1, 25, 'TCP', '.A.RS.', -1, -1], [-1, 25, 'TCP', -1, 2, 552], [-1, 25, 'TCP', -1, -1, -1], [-1, 25, 'TCP', '...R..', -1, -1], [-1, 25, 'TCP', '...R..', -1, -1], [-1, 25, 'TCP', '.A.RS.', -1, -1], [-1, 25, 'TCP', '...R..', -1, -1], [-1, 25, 'TCP', '.A.RS.', 5, 290], [-1, 25, 'TCP', '...R..', -1, -1]]\n",
      "Generation id:24 MaxValue: 0.8452645371809101\n",
      "\n",
      " generation 24 population and fitness values \n",
      "\" [([-1, 25, 'TCP', '.A.RS.', -1, -1], 0.8452645371809101), ([-1, 25, 'TCP', '.A.RS.', -1, -1], 0.8452645371809101), ([-1, 25, 'TCP', '.A.RS.', -1, -1], 0.8452645371809101), ([-1, 25, 'TCP', '.A.RS.', -1, -1], 0.8452645371809101), ([-1, 25, 'TCP', '.A.RS.', -1, -1], 0.8452645371809101), ([-1, 25, 'TCP', '.A.RS.', -1, -1], 0.8452645371809101), ([-1, 25, 'TCP', '...R..', -1, -1], 0.7673823092783506), ([-1, 25, 'TCP', '...R..', -1, -1], 0.7673823092783506), ([-1, 25, 'TCP', '...R..', -1, -1], 0.7673823092783506), ([-1, 25, 'TCP', '.A.RS.', -1, -1], 0.8452645371809101), ([-1, 25, 'TCP', '.A.RS.', -1, -1], 0.8452645371809101), ([-1, 25, 'TCP', '.A.RS.', -1, -1], 0.8452645371809101), ([-1, 25, 'TCP', -1, 2, 552], 0.0), ([-1, 25, 'TCP', -1, -1, -1], 0.8355405889208298), ([-1, 25, 'TCP', '...R..', -1, -1], 0.7673823092783506), ([-1, 25, 'TCP', '...R..', -1, -1], 0.7673823092783506), ([-1, 25, 'TCP', '.A.RS.', -1, -1], 0.8452645371809101), ([-1, 25, 'TCP', '...R..', -1, -1], 0.7673823092783506), ([-1, 25, 'TCP', '.A.RS.', 5, 290], 0.0), ([-1, 25, 'TCP', '...R..', -1, -1], 0.7673823092783506)] \n",
      "\n",
      "[[-1, 25, 'TCP', '.A.RS.', -1, -1], [-1, 25, 'TCP', '.A.RS.', -1, -1], [-1, 25, 'TCP', '...R..', -1, -1], [-1, 25, 'TCP', '...R..', -1, -1], [-1, 25, 'TCP', '.A.RS.', -1, -1], [-1, 25, 'TCP', '.A.RS.', -1, -1], [-1, 25, 'TCP', '.A.RS.', -1, -1], [-1, 25, 'TCP', '...R..', -1, -1], [-1, 25, 'TCP', '.A.RS.', -1, -1], [-1, 25, 'TCP', -1, -1, -1], [-1, 25, 'TCP', '.A.RS.', -1, -1], [-1, 25, 'TCP', '.A.RS.', -1, -1], [-1, 25, 'TCP', '.A.RS.', -1, -1], [-1, 25, 'TCP', '...R..', -1, -1], [-1, 25, 'TCP', '.A.RS.', -1, -1], [-1, 25, 'TCP', '...R..', -1, -1], [-1, 25, 'TCP', '...R..', -1, -1], [-1, 25, 'TCP', '...R..', -1, -1], [-1, 25, 'TCP', '.A.RS.', -1, -1], [-1, 25, 'TCP', '...R..', -1, -1]]\n",
      "Generation id:25 MaxValue: 0.8452645371809101\n",
      "\n",
      " generation 25 population and fitness values \n",
      "\" [([-1, 25, 'TCP', '.A.RS.', -1, -1], 0.8452645371809101), ([-1, 25, 'TCP', '.A.RS.', -1, -1], 0.8452645371809101), ([-1, 25, 'TCP', '...R..', -1, -1], 0.7673823092783506), ([-1, 25, 'TCP', '...R..', -1, -1], 0.7673823092783506), ([-1, 25, 'TCP', '.A.RS.', -1, -1], 0.8452645371809101), ([-1, 25, 'TCP', '.A.RS.', -1, -1], 0.8452645371809101), ([-1, 25, 'TCP', '.A.RS.', -1, -1], 0.8452645371809101), ([-1, 25, 'TCP', '...R..', -1, -1], 0.7673823092783506), ([-1, 25, 'TCP', '.A.RS.', -1, -1], 0.8452645371809101), ([-1, 25, 'TCP', -1, -1, -1], 0.8355405889208298), ([-1, 25, 'TCP', '.A.RS.', -1, -1], 0.8452645371809101), ([-1, 25, 'TCP', '.A.RS.', -1, -1], 0.8452645371809101), ([-1, 25, 'TCP', '.A.RS.', -1, -1], 0.8452645371809101), ([-1, 25, 'TCP', '...R..', -1, -1], 0.7673823092783506), ([-1, 25, 'TCP', '.A.RS.', -1, -1], 0.8452645371809101), ([-1, 25, 'TCP', '...R..', -1, -1], 0.7673823092783506), ([-1, 25, 'TCP', '...R..', -1, -1], 0.7673823092783506), ([-1, 25, 'TCP', '...R..', -1, -1], 0.7673823092783506), ([-1, 25, 'TCP', '.A.RS.', -1, -1], 0.8452645371809101), ([-1, 25, 'TCP', '...R..', -1, -1], 0.7673823092783506)] \n",
      "\n",
      "[[-1, 25, 'TCP', -1, -1, -1], [-1, 25, 'TCP', '.A.RS.', -1, -1], [-1, 25, 'TCP', '.A.RS.', -1, -1], [-1, 25, 'TCP', '...R..', -1, -1], [-1, 25, 'TCP', '...R..', 4, 552], [-1, 25, 'TCP', '...R..', -1, -1], [-1, 25, 'TCP', -1, -1, -1], [-1, 25, 'TCP', '...R..', -1, -1], [-1, 25, 'TCP', '.A.RS.', -1, -1], [-1, 25, 'TCP', '.A.RS.', -1, -1], [-1, 25, 'TCP', '...R..', -1, -1], [-1, 25, 'TCP', '.A.RS.', -1, -1], [-1, 25, 'TCP', '...R..', -1, -1], [-1, 25, 'TCP', '.A.RS.', -1, -1], [-1, 25, 'TCP', '.A.RS.', -1, -1], [-1, 25, 'TCP', '.A.RS.', -1, -1], [-1, 25, 'TCP', -1, -1, 290], [-1, 25, 'TCP', '.A.RS.', -1, -1], [-1, 25, 'TCP', '.A.RS.', -1, -1], [-1, 25, 'TCP', '...R..', -1, -1]]\n",
      "Generation id:26 MaxValue: 0.8452645371809101\n",
      "\n",
      " generation 26 population and fitness values \n",
      "\" [([-1, 25, 'TCP', -1, -1, -1], 0.8355405889208298), ([-1, 25, 'TCP', '.A.RS.', -1, -1], 0.8452645371809101), ([-1, 25, 'TCP', '.A.RS.', -1, -1], 0.8452645371809101), ([-1, 25, 'TCP', '...R..', -1, -1], 0.7673823092783506), ([-1, 25, 'TCP', '...R..', 4, 552], 0.0), ([-1, 25, 'TCP', '...R..', -1, -1], 0.7673823092783506), ([-1, 25, 'TCP', -1, -1, -1], 0.8355405889208298), ([-1, 25, 'TCP', '...R..', -1, -1], 0.7673823092783506), ([-1, 25, 'TCP', '.A.RS.', -1, -1], 0.8452645371809101), ([-1, 25, 'TCP', '.A.RS.', -1, -1], 0.8452645371809101), ([-1, 25, 'TCP', '...R..', -1, -1], 0.7673823092783506), ([-1, 25, 'TCP', '.A.RS.', -1, -1], 0.8452645371809101), ([-1, 25, 'TCP', '...R..', -1, -1], 0.7673823092783506), ([-1, 25, 'TCP', '.A.RS.', -1, -1], 0.8452645371809101), ([-1, 25, 'TCP', '.A.RS.', -1, -1], 0.8452645371809101), ([-1, 25, 'TCP', '.A.RS.', -1, -1], 0.8452645371809101), ([-1, 25, 'TCP', -1, -1, 290], 0.0), ([-1, 25, 'TCP', '.A.RS.', -1, -1], 0.8452645371809101), ([-1, 25, 'TCP', '.A.RS.', -1, -1], 0.8452645371809101), ([-1, 25, 'TCP', '...R..', -1, -1], 0.7673823092783506)] \n",
      "\n",
      "[[-1, 25, 'TCP', '.A.RS.', -1, -1], [-1, 25, 'TCP', '.A.RS.', -1, -1], [-1, 25, 'TCP', '.A.RS.', -1, -1], [-1, 25, 'TCP', '...R..', -1, -1], [-1, 25, 'TCP', '...R..', 3, 290], [-1, 25, 'TCP', '.A.RS.', -1, -1], [-1, 25, 'TCP', '.A.RS.', -1, -1], [-1, 25, 'TCP', '.A.RS.', -1, -1], [-1, 25, 'TCP', '.A.RS.', -1, -1], [-1, 25, 'TCP', '...R..', -1, -1], [-1, 25, 'TCP', -1, 10, 290], [-1, 25, 'TCP', '...R..', -1, -1], [-1, 25, 'TCP', '...R..', -1, -1], [-1, 25, 'TCP', '.A.RS.', -1, -1], [-1, 25, 'TCP', '...R..', -1, -1], [-1, 25, 'TCP', '.A.RS.', -1, -1], [-1, 25, 'TCP', '.A.RS.', -1, -1], [-1, 25, 'TCP', '.A.RS.', -1, -1], [-1, 25, 'TCP', '.A.RS.', -1, -1], [-1, 25, 'TCP', '.A.RS.', -1, -1]]\n",
      "Generation id:27 MaxValue: 0.8452645371809101\n",
      "\n",
      " generation 27 population and fitness values \n",
      "\" [([-1, 25, 'TCP', '.A.RS.', -1, -1], 0.8452645371809101), ([-1, 25, 'TCP', '.A.RS.', -1, -1], 0.8452645371809101), ([-1, 25, 'TCP', '.A.RS.', -1, -1], 0.8452645371809101), ([-1, 25, 'TCP', '...R..', -1, -1], 0.7673823092783506), ([-1, 25, 'TCP', '...R..', 3, 290], 0.0), ([-1, 25, 'TCP', '.A.RS.', -1, -1], 0.8452645371809101), ([-1, 25, 'TCP', '.A.RS.', -1, -1], 0.8452645371809101), ([-1, 25, 'TCP', '.A.RS.', -1, -1], 0.8452645371809101), ([-1, 25, 'TCP', '.A.RS.', -1, -1], 0.8452645371809101), ([-1, 25, 'TCP', '...R..', -1, -1], 0.7673823092783506), ([-1, 25, 'TCP', -1, 10, 290], 0.0), ([-1, 25, 'TCP', '...R..', -1, -1], 0.7673823092783506), ([-1, 25, 'TCP', '...R..', -1, -1], 0.7673823092783506), ([-1, 25, 'TCP', '.A.RS.', -1, -1], 0.8452645371809101), ([-1, 25, 'TCP', '...R..', -1, -1], 0.7673823092783506), ([-1, 25, 'TCP', '.A.RS.', -1, -1], 0.8452645371809101), ([-1, 25, 'TCP', '.A.RS.', -1, -1], 0.8452645371809101), ([-1, 25, 'TCP', '.A.RS.', -1, -1], 0.8452645371809101), ([-1, 25, 'TCP', '.A.RS.', -1, -1], 0.8452645371809101), ([-1, 25, 'TCP', '.A.RS.', -1, -1], 0.8452645371809101)] \n",
      "\n",
      "[[-1, 25, 'TCP', '.A.RS.', -1, -1], [-1, 25, 'TCP', '.A.RS.', -1, -1], [-1, 25, 'TCP', -1, -1, 40], [-1, 25, 'TCP', '...R..', -1, -1], [-1, 25, 'TCP', '.A.RS.', -1, -1], [-1, 25, 'TCP', '.A.RS.', -1, -1], [-1, 25, 'TCP', '...R..', -1, -1], [-1, 25, 'TCP', '.A.RS.', -1, -1], [-1, 25, 'TCP', -1, 3, 276], [-1, 25, 'TCP', '...R..', -1, -1], [-1, 25, 'TCP', '...R..', -1, -1], [-1, 25, 'TCP', '.A.RS.', -1, -1], [-1, 25, 'TCP', '...R..', -1, -1], [-1, 25, 'TCP', '.A.RS.', -1, -1], [-1, 25, 'TCP', '...R..', -1, -1], [-1, 25, 'TCP', '.A.RS.', -1, -1], [-1, 25, 'TCP', '...R..', 5, -1], [-1, 25, 'TCP', '...R..', -1, -1], [-1, 25, 'TCP', '.A.RS.', 1, 460], [-1, 25, 'TCP', '.A.RS.', -1, -1]]\n",
      "Generation id:28 MaxValue: 0.8452645371809101\n",
      "\n",
      " generation 28 population and fitness values \n",
      "\" [([-1, 25, 'TCP', '.A.RS.', -1, -1], 0.8452645371809101), ([-1, 25, 'TCP', '.A.RS.', -1, -1], 0.8452645371809101), ([-1, 25, 'TCP', -1, -1, 40], 0.7751048421052632), ([-1, 25, 'TCP', '...R..', -1, -1], 0.7673823092783506), ([-1, 25, 'TCP', '.A.RS.', -1, -1], 0.8452645371809101), ([-1, 25, 'TCP', '.A.RS.', -1, -1], 0.8452645371809101), ([-1, 25, 'TCP', '...R..', -1, -1], 0.7673823092783506), ([-1, 25, 'TCP', '.A.RS.', -1, -1], 0.8452645371809101), ([-1, 25, 'TCP', -1, 3, 276], 0.0), ([-1, 25, 'TCP', '...R..', -1, -1], 0.7673823092783506), ([-1, 25, 'TCP', '...R..', -1, -1], 0.7673823092783506), ([-1, 25, 'TCP', '.A.RS.', -1, -1], 0.8452645371809101), ([-1, 25, 'TCP', '...R..', -1, -1], 0.7673823092783506), ([-1, 25, 'TCP', '.A.RS.', -1, -1], 0.8452645371809101), ([-1, 25, 'TCP', '...R..', -1, -1], 0.7673823092783506), ([-1, 25, 'TCP', '.A.RS.', -1, -1], 0.8452645371809101), ([-1, 25, 'TCP', '...R..', 5, -1], 0.0), ([-1, 25, 'TCP', '...R..', -1, -1], 0.7673823092783506), ([-1, 25, 'TCP', '.A.RS.', 1, 460], 0.0), ([-1, 25, 'TCP', '.A.RS.', -1, -1], 0.8452645371809101)] \n",
      "\n",
      "[[-1, 25, 'TCP', '...R..', -1, 276], [-1, 25, 'TCP', '.A.RS.', -1, -1], [-1, 25, 'TCP', '.A.RS.', -1, -1], [-1, 25, 'TCP', '.A.RS.', -1, -1], [-1, 25, 'TCP', '.A.RS.', -1, -1], [-1, 25, 'TCP', '.A.RS.', -1, -1], [-1, 25, 'TCP', '.A.RS.', -1, -1], [-1, 25, 'TCP', '.A.RS.', -1, -1], [-1, 25, 'TCP', -1, 5, 230], [-1, 25, 'TCP', '.A.RS.', -1, -1], [-1, 25, 'TCP', '...R..', 4, 348], [-1, 25, 'TCP', '...R..', -1, -1], [-1, 25, 'TCP', '.A.RS.', 9, 268], [-1, 25, 'TCP', '.A.RS.', -1, -1], [-1, 25, 'TCP', '...R..', -1, -1], [-1, 25, 'TCP', '.A.RS.', -1, -1], [-1, 25, 'TCP', '.A.RS.', -1, -1], [-1, 25, 'TCP', '...R..', -1, -1], [-1, 25, 'TCP', '.A.RS.', -1, -1], [-1, 25, 'TCP', '.A.RS.', -1, -1]]\n",
      "Generation id:29 MaxValue: 0.8452645371809101\n",
      "\n",
      " generation 29 population and fitness values \n",
      "\" [([-1, 25, 'TCP', '...R..', -1, 276], 0.0), ([-1, 25, 'TCP', '.A.RS.', -1, -1], 0.8452645371809101), ([-1, 25, 'TCP', '.A.RS.', -1, -1], 0.8452645371809101), ([-1, 25, 'TCP', '.A.RS.', -1, -1], 0.8452645371809101), ([-1, 25, 'TCP', '.A.RS.', -1, -1], 0.8452645371809101), ([-1, 25, 'TCP', '.A.RS.', -1, -1], 0.8452645371809101), ([-1, 25, 'TCP', '.A.RS.', -1, -1], 0.8452645371809101), ([-1, 25, 'TCP', '.A.RS.', -1, -1], 0.8452645371809101), ([-1, 25, 'TCP', -1, 5, 230], 0.0), ([-1, 25, 'TCP', '.A.RS.', -1, -1], 0.8452645371809101), ([-1, 25, 'TCP', '...R..', 4, 348], 0.0), ([-1, 25, 'TCP', '...R..', -1, -1], 0.7673823092783506), ([-1, 25, 'TCP', '.A.RS.', 9, 268], 0.0), ([-1, 25, 'TCP', '.A.RS.', -1, -1], 0.8452645371809101), ([-1, 25, 'TCP', '...R..', -1, -1], 0.7673823092783506), ([-1, 25, 'TCP', '.A.RS.', -1, -1], 0.8452645371809101), ([-1, 25, 'TCP', '.A.RS.', -1, -1], 0.8452645371809101), ([-1, 25, 'TCP', '...R..', -1, -1], 0.7673823092783506), ([-1, 25, 'TCP', '.A.RS.', -1, -1], 0.8452645371809101), ([-1, 25, 'TCP', '.A.RS.', -1, -1], 0.8452645371809101)] \n",
      "\n",
      "[[-1, 25, 'TCP', '.A.RS.', 5, -1], [-1, 25, 'TCP', '.A.RS.', -1, -1], [-1, 25, 'TCP', '.A.RS.', -1, -1], [-1, 25, 'TCP', '...R..', -1, -1], [-1, 25, 'TCP', '.A.RS.', -1, -1], [-1, 25, 'TCP', '.A.RS.', -1, -1], [-1, 25, 'TCP', '.A.RS.', -1, -1], [-1, 25, 'TCP', '...R..', -1, -1], [-1, 25, 'TCP', '.A.RS.', -1, -1], [-1, 25, 'TCP', '.A.RS.', -1, -1], [-1, 25, 'TCP', '.A.RS.', -1, -1], [-1, 25, 'TCP', '...R..', -1, -1], [-1, 25, 'TCP', '.A.RS.', -1, -1], [-1, 25, 'TCP', '.A.RS.', -1, -1], [-1, 25, 'TCP', '.A.RS.', -1, -1], [-1, 25, 'TCP', '.A.RS.', -1, -1], [-1, 25, 'TCP', '.A.RS.', -1, -1], [-1, 25, 'TCP', '.A.RS.', -1, -1], [-1, 25, 'TCP', '...R..', 8, 460], [-1, 25, 'TCP', '.A.RS.', -1, -1]]\n",
      "Generation id:30 MaxValue: 0.8452645371809101\n",
      "\n",
      " generation 30 population and fitness values \n",
      "\" [([-1, 25, 'TCP', '.A.RS.', 5, -1], 0.800204), ([-1, 25, 'TCP', '.A.RS.', -1, -1], 0.8452645371809101), ([-1, 25, 'TCP', '.A.RS.', -1, -1], 0.8452645371809101), ([-1, 25, 'TCP', '...R..', -1, -1], 0.7673823092783506), ([-1, 25, 'TCP', '.A.RS.', -1, -1], 0.8452645371809101), ([-1, 25, 'TCP', '.A.RS.', -1, -1], 0.8452645371809101), ([-1, 25, 'TCP', '.A.RS.', -1, -1], 0.8452645371809101), ([-1, 25, 'TCP', '...R..', -1, -1], 0.7673823092783506), ([-1, 25, 'TCP', '.A.RS.', -1, -1], 0.8452645371809101), ([-1, 25, 'TCP', '.A.RS.', -1, -1], 0.8452645371809101), ([-1, 25, 'TCP', '.A.RS.', -1, -1], 0.8452645371809101), ([-1, 25, 'TCP', '...R..', -1, -1], 0.7673823092783506), ([-1, 25, 'TCP', '.A.RS.', -1, -1], 0.8452645371809101), ([-1, 25, 'TCP', '.A.RS.', -1, -1], 0.8452645371809101), ([-1, 25, 'TCP', '.A.RS.', -1, -1], 0.8452645371809101), ([-1, 25, 'TCP', '.A.RS.', -1, -1], 0.8452645371809101), ([-1, 25, 'TCP', '.A.RS.', -1, -1], 0.8452645371809101), ([-1, 25, 'TCP', '.A.RS.', -1, -1], 0.8452645371809101), ([-1, 25, 'TCP', '...R..', 8, 460], 0.0), ([-1, 25, 'TCP', '.A.RS.', -1, -1], 0.8452645371809101)] \n",
      "\n",
      "[[-1, 25, 'TCP', '.A.RS.', -1, -1], [-1, 25, 'TCP', '.A.RS.', -1, -1], [-1, 25, 'TCP', '...R..', 8, 348], [-1, 25, 'TCP', '.A.RS.', -1, -1], [-1, 25, 'TCP', '.A.RS.', -1, -1], [-1, 25, 'TCP', '.A.RS.', 5, -1], [-1, 25, 'TCP', '...R..', -1, -1], [-1, 25, 'TCP', '.A.RS.', -1, -1], [-1, 25, 'TCP', '.A.RS.', -1, -1], [-1, 25, 'TCP', '.A.RS.', -1, -1], [-1, 25, 'TCP', '...R..', 3, 268], [-1, 25, 'TCP', '.A.RS.', -1, -1], [-1, 25, 'TCP', '.A.RS.', -1, -1], [-1, 25, 'TCP', '.A.RS.', -1, -1], [-1, 25, 'TCP', '.A.RS.', -1, -1], [-1, 25, 'TCP', '.A.RS.', -1, -1], [-1, 25, 'TCP', '.A.RS.', -1, -1], [-1, 25, 'TCP', '.A.RS.', -1, -1], [-1, 25, 'TCP', '.AP.SF', 5, 230], [-1, 25, 'TCP', '.A.RS.', -1, -1]]\n",
      "Generation id:31 MaxValue: 0.8452645371809101\n",
      "\n",
      " generation 31 population and fitness values \n",
      "\" [([-1, 25, 'TCP', '.A.RS.', -1, -1], 0.8452645371809101), ([-1, 25, 'TCP', '.A.RS.', -1, -1], 0.8452645371809101), ([-1, 25, 'TCP', '...R..', 8, 348], 0.0), ([-1, 25, 'TCP', '.A.RS.', -1, -1], 0.8452645371809101), ([-1, 25, 'TCP', '.A.RS.', -1, -1], 0.8452645371809101), ([-1, 25, 'TCP', '.A.RS.', 5, -1], 0.800204), ([-1, 25, 'TCP', '...R..', -1, -1], 0.7673823092783506), ([-1, 25, 'TCP', '.A.RS.', -1, -1], 0.8452645371809101), ([-1, 25, 'TCP', '.A.RS.', -1, -1], 0.8452645371809101), ([-1, 25, 'TCP', '.A.RS.', -1, -1], 0.8452645371809101), ([-1, 25, 'TCP', '...R..', 3, 268], 0.0), ([-1, 25, 'TCP', '.A.RS.', -1, -1], 0.8452645371809101), ([-1, 25, 'TCP', '.A.RS.', -1, -1], 0.8452645371809101), ([-1, 25, 'TCP', '.A.RS.', -1, -1], 0.8452645371809101), ([-1, 25, 'TCP', '.A.RS.', -1, -1], 0.8452645371809101), ([-1, 25, 'TCP', '.A.RS.', -1, -1], 0.8452645371809101), ([-1, 25, 'TCP', '.A.RS.', -1, -1], 0.8452645371809101), ([-1, 25, 'TCP', '.A.RS.', -1, -1], 0.8452645371809101), ([-1, 25, 'TCP', '.AP.SF', 5, 230], 0.0), ([-1, 25, 'TCP', '.A.RS.', -1, -1], 0.8452645371809101)] \n",
      "\n",
      "[[-1, 25, 'TCP', '.A.RS.', -1, -1], [-1, 25, 'TCP', '.A.RS.', 5, -1], [-1, 25, 'TCP', '.A.RS.', -1, -1], [-1, 25, 'TCP', '.A.RS.', -1, -1], [-1, 25, 'TCP', '...R..', 10, 460], [-1, 25, 'TCP', '.A.RS.', -1, -1], [-1, 25, 'TCP', -1, 3, 276], [-1, 25, 'TCP', -1, 3, 276], [-1, 25, 'TCP', '.A.RS.', -1, -1], [-1, 25, 'TCP', '.A.RS.', -1, -1], [-1, 25, 'TCP', '.AP.SF', 5, 268], [-1, 25, 'TCP', '.A.RS.', -1, -1], [-1, 25, 'TCP', -1, 5, 460], [-1, 25, 'TCP', '...R..', -1, -1], [-1, 25, 'TCP', '.A.RS.', -1, -1], [-1, 25, 'TCP', '.A.RS.', -1, -1], [-1, 25, 'TCP', '.A.RS.', -1, -1], [-1, 25, 'TCP', '.A.RS.', -1, -1], [-1, 25, 'TCP', '...R..', -1, -1], [-1, 25, 'TCP', '.A.RS.', -1, -1]]\n",
      "Generation id:32 MaxValue: 0.8452645371809101\n",
      "\n",
      " generation 32 population and fitness values \n",
      "\" [([-1, 25, 'TCP', '.A.RS.', -1, -1], 0.8452645371809101), ([-1, 25, 'TCP', '.A.RS.', 5, -1], 0.800204), ([-1, 25, 'TCP', '.A.RS.', -1, -1], 0.8452645371809101), ([-1, 25, 'TCP', '.A.RS.', -1, -1], 0.8452645371809101), ([-1, 25, 'TCP', '...R..', 10, 460], 0.0), ([-1, 25, 'TCP', '.A.RS.', -1, -1], 0.8452645371809101), ([-1, 25, 'TCP', -1, 3, 276], 0.0), ([-1, 25, 'TCP', -1, 3, 276], 0.0), ([-1, 25, 'TCP', '.A.RS.', -1, -1], 0.8452645371809101), ([-1, 25, 'TCP', '.A.RS.', -1, -1], 0.8452645371809101), ([-1, 25, 'TCP', '.AP.SF', 5, 268], 0.0), ([-1, 25, 'TCP', '.A.RS.', -1, -1], 0.8452645371809101), ([-1, 25, 'TCP', -1, 5, 460], 0.0), ([-1, 25, 'TCP', '...R..', -1, -1], 0.7673823092783506), ([-1, 25, 'TCP', '.A.RS.', -1, -1], 0.8452645371809101), ([-1, 25, 'TCP', '.A.RS.', -1, -1], 0.8452645371809101), ([-1, 25, 'TCP', '.A.RS.', -1, -1], 0.8452645371809101), ([-1, 25, 'TCP', '.A.RS.', -1, -1], 0.8452645371809101), ([-1, 25, 'TCP', '...R..', -1, -1], 0.7673823092783506), ([-1, 25, 'TCP', '.A.RS.', -1, -1], 0.8452645371809101)] \n",
      "\n",
      "[[-1, 25, 'TCP', '.A.RS.', -1, -1], [-1, 25, 'TCP', '.A.RS.', -1, -1], [-1, 25, 'TCP', -1, 2, 268], [-1, 25, 'TCP', '...R..', -1, -1], [-1, 25, 'TCP', '.AP.SF', 6, 216], [-1, 25, 'TCP', '...R..', -1, -1], [-1, 25, 'TCP', '.A.RS.', -1, -1], [-1, 25, 'TCP', '.A.RS.', -1, -1], [-1, 25, 'TCP', '.A.RS.', -1, -1], [-1, 25, 'TCP', '.A.RS.', -1, -1], [-1, 25, 'TCP', '.A.RS.', -1, -1], [-1, 25, 'TCP', '.A.RS.', -1, -1], [-1, 25, 'TCP', '.A.RS.', -1, -1], [-1, 25, 'TCP', '...R..', -1, -1], [-1, 25, 'TCP', '.A.RS.', -1, -1], [-1, 25, 'TCP', '.A.RS.', -1, -1], [-1, 25, 'TCP', '.A.RS.', -1, -1], [-1, 25, 'TCP', '.A.RS.', -1, -1], [-1, 25, 'TCP', '.A.RS.', 7, 276], [-1, 25, 'TCP', '.A.RS.', -1, -1]]\n",
      "Generation id:33 MaxValue: 0.8452645371809101\n",
      "\n",
      " generation 33 population and fitness values \n",
      "\" [([-1, 25, 'TCP', '.A.RS.', -1, -1], 0.8452645371809101), ([-1, 25, 'TCP', '.A.RS.', -1, -1], 0.8452645371809101), ([-1, 25, 'TCP', -1, 2, 268], 0.0), ([-1, 25, 'TCP', '...R..', -1, -1], 0.7673823092783506), ([-1, 25, 'TCP', '.AP.SF', 6, 216], 0.0), ([-1, 25, 'TCP', '...R..', -1, -1], 0.7673823092783506), ([-1, 25, 'TCP', '.A.RS.', -1, -1], 0.8452645371809101), ([-1, 25, 'TCP', '.A.RS.', -1, -1], 0.8452645371809101), ([-1, 25, 'TCP', '.A.RS.', -1, -1], 0.8452645371809101), ([-1, 25, 'TCP', '.A.RS.', -1, -1], 0.8452645371809101), ([-1, 25, 'TCP', '.A.RS.', -1, -1], 0.8452645371809101), ([-1, 25, 'TCP', '.A.RS.', -1, -1], 0.8452645371809101), ([-1, 25, 'TCP', '.A.RS.', -1, -1], 0.8452645371809101), ([-1, 25, 'TCP', '...R..', -1, -1], 0.7673823092783506), ([-1, 25, 'TCP', '.A.RS.', -1, -1], 0.8452645371809101), ([-1, 25, 'TCP', '.A.RS.', -1, -1], 0.8452645371809101), ([-1, 25, 'TCP', '.A.RS.', -1, -1], 0.8452645371809101), ([-1, 25, 'TCP', '.A.RS.', -1, -1], 0.8452645371809101), ([-1, 25, 'TCP', '.A.RS.', 7, 276], 0.0), ([-1, 25, 'TCP', '.A.RS.', -1, -1], 0.8452645371809101)] \n",
      "\n",
      "[[-1, 25, 'TCP', -1, 3, 290], [-1, 25, 'TCP', '.A.RS.', -1, -1], [-1, 25, 'TCP', '.A.RS.', -1, -1], [-1, 25, 'TCP', '.A.RS.', -1, -1], [-1, 25, 'TCP', -1, 7, -1], [-1, 25, 'TCP', '.A.RS.', -1, -1], [-1, 25, 'TCP', '.A.RS.', -1, -1], [-1, 25, 'TCP', '.A.RS.', -1, -1], [-1, 25, 'TCP', '.A.RS.', -1, -1], [-1, 25, 'TCP', '.A.RS.', -1, -1], [-1, 25, 'TCP', '.A.RS.', -1, -1], [-1, 25, 'TCP', '.A.RS.', -1, -1], [-1, 25, 'TCP', '.A.RS.', -1, -1], [-1, 25, 'TCP', '.A.RS.', -1, -1], [-1, 25, 'TCP', '.A.RS.', 1, 348], [-1, 25, 'TCP', '.A.RS.', -1, -1], [-1, 25, 'TCP', -1, 6, -1], [-1, 25, 'TCP', '.A.RS.', -1, -1], [-1, 25, 'TCP', '.A.RS.', -1, -1], [-1, 25, 'TCP', '.A.RS.', -1, -1]]\n",
      "Generation id:34 MaxValue: 0.8452645371809101\n",
      "\n",
      " generation 34 population and fitness values \n",
      "\" [([-1, 25, 'TCP', -1, 3, 290], 0.0), ([-1, 25, 'TCP', '.A.RS.', -1, -1], 0.8452645371809101), ([-1, 25, 'TCP', '.A.RS.', -1, -1], 0.8452645371809101), ([-1, 25, 'TCP', '.A.RS.', -1, -1], 0.8452645371809101), ([-1, 25, 'TCP', -1, 7, -1], 0.11428971428571429), ([-1, 25, 'TCP', '.A.RS.', -1, -1], 0.8452645371809101), ([-1, 25, 'TCP', '.A.RS.', -1, -1], 0.8452645371809101), ([-1, 25, 'TCP', '.A.RS.', -1, -1], 0.8452645371809101), ([-1, 25, 'TCP', '.A.RS.', -1, -1], 0.8452645371809101), ([-1, 25, 'TCP', '.A.RS.', -1, -1], 0.8452645371809101), ([-1, 25, 'TCP', '.A.RS.', -1, -1], 0.8452645371809101), ([-1, 25, 'TCP', '.A.RS.', -1, -1], 0.8452645371809101), ([-1, 25, 'TCP', '.A.RS.', -1, -1], 0.8452645371809101), ([-1, 25, 'TCP', '.A.RS.', -1, -1], 0.8452645371809101), ([-1, 25, 'TCP', '.A.RS.', 1, 348], 0.0), ([-1, 25, 'TCP', '.A.RS.', -1, -1], 0.8452645371809101), ([-1, 25, 'TCP', -1, 6, -1], 0.011271605633802818), ([-1, 25, 'TCP', '.A.RS.', -1, -1], 0.8452645371809101), ([-1, 25, 'TCP', '.A.RS.', -1, -1], 0.8452645371809101), ([-1, 25, 'TCP', '.A.RS.', -1, -1], 0.8452645371809101)] \n",
      "\n",
      "[[-1, 25, 'TCP', '...R..', 4, -1], [-1, 25, 'TCP', '.A.RS.', -1, -1], [-1, 25, 'TCP', -1, -1, -1], [-1, 25, 'TCP', '.A.RS.', 7, -1], [-1, 25, 'TCP', -1, 1, -1], [-1, 25, 'TCP', '.A.RS.', -1, -1], [-1, 25, 'TCP', '.AP.SF', -1, 216], [-1, 25, 'TCP', '.A.RS.', -1, -1], [-1, 25, 'TCP', '.A.RS.', -1, -1], [-1, 25, 'TCP', '.A.RS.', -1, -1], [-1, 25, 'TCP', '.A.RS.', -1, -1], [-1, 25, 'TCP', '.A.RS.', -1, -1], [-1, 25, 'TCP', '.A.RS.', -1, -1], [-1, 25, 'TCP', '.A.RS.', -1, -1], [-1, 25, 'TCP', '.A.RS.', -1, -1], [-1, 25, 'TCP', '.A.RS.', -1, -1], [-1, 25, 'TCP', '.A.RS.', -1, -1], [-1, 25, 'TCP', '.A.RS.', -1, -1], [-1, 25, 'TCP', '.A.RS.', -1, -1], [-1, 25, 'TCP', '.A.RS.', -1, -1]]\n",
      "Generation id:35 MaxValue: 0.8452645371809101\n",
      "\n",
      " generation 35 population and fitness values \n",
      "\" [([-1, 25, 'TCP', '...R..', 4, -1], 0.0), ([-1, 25, 'TCP', '.A.RS.', -1, -1], 0.8452645371809101), ([-1, 25, 'TCP', -1, -1, -1], 0.8355405889208298), ([-1, 25, 'TCP', '.A.RS.', 7, -1], 0.800004), ([-1, 25, 'TCP', -1, 1, -1], 0.7591308865979381), ([-1, 25, 'TCP', '.A.RS.', -1, -1], 0.8452645371809101), ([-1, 25, 'TCP', '.AP.SF', -1, 216], 0.0), ([-1, 25, 'TCP', '.A.RS.', -1, -1], 0.8452645371809101), ([-1, 25, 'TCP', '.A.RS.', -1, -1], 0.8452645371809101), ([-1, 25, 'TCP', '.A.RS.', -1, -1], 0.8452645371809101), ([-1, 25, 'TCP', '.A.RS.', -1, -1], 0.8452645371809101), ([-1, 25, 'TCP', '.A.RS.', -1, -1], 0.8452645371809101), ([-1, 25, 'TCP', '.A.RS.', -1, -1], 0.8452645371809101), ([-1, 25, 'TCP', '.A.RS.', -1, -1], 0.8452645371809101), ([-1, 25, 'TCP', '.A.RS.', -1, -1], 0.8452645371809101), ([-1, 25, 'TCP', '.A.RS.', -1, -1], 0.8452645371809101), ([-1, 25, 'TCP', '.A.RS.', -1, -1], 0.8452645371809101), ([-1, 25, 'TCP', '.A.RS.', -1, -1], 0.8452645371809101), ([-1, 25, 'TCP', '.A.RS.', -1, -1], 0.8452645371809101), ([-1, 25, 'TCP', '.A.RS.', -1, -1], 0.8452645371809101)] \n",
      "\n",
      "[[-1, 25, 'TCP', '...R..', 8, 552], [-1, 25, 'TCP', -1, -1, -1], [-1, 25, 'TCP', -1, -1, 40], [-1, 25, 'TCP', '.A.RS.', -1, -1], [-1, 25, 'TCP', '.A.RS.', 4, 460], [-1, 25, 'TCP', '.A.RS.', -1, -1], [-1, 25, 'TCP', '...R..', 7, 460], [-1, 25, 'TCP', '.A.RS.', -1, -1], [-1, 25, 'TCP', '.A.RS.', 2, 460], [-1, 25, 'TCP', '.A.RS.', -1, -1], [-1, 25, 'TCP', '.A.RS.', 6, 268], [-1, 25, 'TCP', '.A.RS.', -1, -1], [-1, 25, 'TCP', '.AP.SF', 5, 40], [-1, 25, 'TCP', '.A.RS.', -1, -1], [-1, 25, 'TCP', -1, 5, 348], [-1, 25, 'TCP', '.A.RS.', -1, -1], [-1, 25, 'TCP', '.A.RS.', 3, -1], [-1, 25, 'TCP', '.A.RS.', -1, -1], [-1, 25, 'TCP', '.A.RS.', -1, -1], [-1, 25, 'TCP', '.A.RS.', -1, -1]]\n",
      "Generation id:36 MaxValue: 0.8452645371809101\n",
      "\n",
      " generation 36 population and fitness values \n",
      "\" [([-1, 25, 'TCP', '...R..', 8, 552], 0.0), ([-1, 25, 'TCP', -1, -1, -1], 0.8355405889208298), ([-1, 25, 'TCP', -1, -1, 40], 0.7751048421052632), ([-1, 25, 'TCP', '.A.RS.', -1, -1], 0.8452645371809101), ([-1, 25, 'TCP', '.A.RS.', 4, 460], 0.0), ([-1, 25, 'TCP', '.A.RS.', -1, -1], 0.8452645371809101), ([-1, 25, 'TCP', '...R..', 7, 460], 0.0), ([-1, 25, 'TCP', '.A.RS.', -1, -1], 0.8452645371809101), ([-1, 25, 'TCP', '.A.RS.', 2, 460], 0.0), ([-1, 25, 'TCP', '.A.RS.', -1, -1], 0.8452645371809101), ([-1, 25, 'TCP', '.A.RS.', 6, 268], 0.0), ([-1, 25, 'TCP', '.A.RS.', -1, -1], 0.8452645371809101), ([-1, 25, 'TCP', '.AP.SF', 5, 40], 0.0), ([-1, 25, 'TCP', '.A.RS.', -1, -1], 0.8452645371809101), ([-1, 25, 'TCP', -1, 5, 348], 0.0), ([-1, 25, 'TCP', '.A.RS.', -1, -1], 0.8452645371809101), ([-1, 25, 'TCP', '.A.RS.', 3, -1], 0.0), ([-1, 25, 'TCP', '.A.RS.', -1, -1], 0.8452645371809101), ([-1, 25, 'TCP', '.A.RS.', -1, -1], 0.8452645371809101), ([-1, 25, 'TCP', '.A.RS.', -1, -1], 0.8452645371809101)] \n",
      "\n",
      "[[-1, 25, 'TCP', '.A.RS.', -1, -1], [-1, 25, 'TCP', '.A.RS.', -1, -1], [-1, 25, 'TCP', '.A.RS.', -1, -1], [-1, 25, 'TCP', -1, -1, -1], [-1, 25, 'TCP', '.A.RS.', 10, 348], [-1, 25, 'TCP', '.A.RS.', -1, -1], [-1, 25, 'TCP', '...R..', 3, 230], [-1, 25, 'TCP', '.A.RS.', -1, -1], [-1, 25, 'TCP', -1, 8, 460], [-1, 25, 'TCP', '.A.RS.', -1, -1], [-1, 25, 'TCP', '.A.RS.', -1, -1], [-1, 25, 'TCP', '.A.RS.', -1, -1], [-1, 25, 'TCP', '.A.RS.', -1, -1], [-1, 25, 'TCP', '.A.RS.', -1, -1], [-1, 25, 'TCP', '.A.RS.', -1, -1], [-1, 25, 'TCP', '.A.RS.', -1, -1], [-1, 25, 'TCP', '.A.RS.', -1, -1], [-1, 25, 'TCP', '.A.RS.', -1, -1], [-1, 25, 'TCP', '.A.RS.', -1, -1], [-1, 25, 'TCP', '.A.RS.', -1, -1]]\n",
      "Generation id:37 MaxValue: 0.8452645371809101\n",
      "\n",
      " generation 37 population and fitness values \n",
      "\" [([-1, 25, 'TCP', '.A.RS.', -1, -1], 0.8452645371809101), ([-1, 25, 'TCP', '.A.RS.', -1, -1], 0.8452645371809101), ([-1, 25, 'TCP', '.A.RS.', -1, -1], 0.8452645371809101), ([-1, 25, 'TCP', -1, -1, -1], 0.8355405889208298), ([-1, 25, 'TCP', '.A.RS.', 10, 348], 0.0), ([-1, 25, 'TCP', '.A.RS.', -1, -1], 0.8452645371809101), ([-1, 25, 'TCP', '...R..', 3, 230], 0.0), ([-1, 25, 'TCP', '.A.RS.', -1, -1], 0.8452645371809101), ([-1, 25, 'TCP', -1, 8, 460], 0.0), ([-1, 25, 'TCP', '.A.RS.', -1, -1], 0.8452645371809101), ([-1, 25, 'TCP', '.A.RS.', -1, -1], 0.8452645371809101), ([-1, 25, 'TCP', '.A.RS.', -1, -1], 0.8452645371809101), ([-1, 25, 'TCP', '.A.RS.', -1, -1], 0.8452645371809101), ([-1, 25, 'TCP', '.A.RS.', -1, -1], 0.8452645371809101), ([-1, 25, 'TCP', '.A.RS.', -1, -1], 0.8452645371809101), ([-1, 25, 'TCP', '.A.RS.', -1, -1], 0.8452645371809101), ([-1, 25, 'TCP', '.A.RS.', -1, -1], 0.8452645371809101), ([-1, 25, 'TCP', '.A.RS.', -1, -1], 0.8452645371809101), ([-1, 25, 'TCP', '.A.RS.', -1, -1], 0.8452645371809101), ([-1, 25, 'TCP', '.A.RS.', -1, -1], 0.8452645371809101)] \n",
      "\n",
      "[[-1, 25, 'TCP', '.A.RS.', -1, -1], [-1, 25, 'TCP', '.A.RS.', -1, -1], [-1, 25, 'TCP', '.A.RS.', -1, -1], [-1, 25, 'TCP', '.A.RS.', -1, -1], [-1, 25, 'TCP', '.A.RS.', -1, -1], [-1, 25, 'TCP', '.A.RS.', -1, -1], [-1, 25, 'TCP', -1, 3, 348], [-1, 25, 'TCP', '.A.RS.', -1, -1], [-1, 25, 'TCP', '.A.RS.', -1, -1], [-1, 25, 'TCP', '.A.RS.', -1, -1], [-1, 25, 'TCP', '.A.RS.', -1, -1], [-1, 25, 'TCP', '.A.RS.', -1, -1], [-1, 25, 'TCP', '.A.RS.', -1, -1], [-1, 25, 'TCP', '.A.RS.', -1, -1], [-1, 25, 'TCP', '.A.RS.', 6, 230], [-1, 25, 'TCP', '.A.RS.', -1, -1], [-1, 25, 'TCP', '.A.RS.', -1, -1], [-1, 25, 'TCP', '.A.RS.', -1, -1], [-1, 25, 'TCP', -1, 10, 40], [-1, 25, 'TCP', '.A.RS.', -1, -1]]\n",
      "Generation id:38 MaxValue: 0.8452645371809101\n",
      "\n",
      " generation 38 population and fitness values \n",
      "\" [([-1, 25, 'TCP', '.A.RS.', -1, -1], 0.8452645371809101), ([-1, 25, 'TCP', '.A.RS.', -1, -1], 0.8452645371809101), ([-1, 25, 'TCP', '.A.RS.', -1, -1], 0.8452645371809101), ([-1, 25, 'TCP', '.A.RS.', -1, -1], 0.8452645371809101), ([-1, 25, 'TCP', '.A.RS.', -1, -1], 0.8452645371809101), ([-1, 25, 'TCP', '.A.RS.', -1, -1], 0.8452645371809101), ([-1, 25, 'TCP', -1, 3, 348], 0.0), ([-1, 25, 'TCP', '.A.RS.', -1, -1], 0.8452645371809101), ([-1, 25, 'TCP', '.A.RS.', -1, -1], 0.8452645371809101), ([-1, 25, 'TCP', '.A.RS.', -1, -1], 0.8452645371809101), ([-1, 25, 'TCP', '.A.RS.', -1, -1], 0.8452645371809101), ([-1, 25, 'TCP', '.A.RS.', -1, -1], 0.8452645371809101), ([-1, 25, 'TCP', '.A.RS.', -1, -1], 0.8452645371809101), ([-1, 25, 'TCP', '.A.RS.', -1, -1], 0.8452645371809101), ([-1, 25, 'TCP', '.A.RS.', 6, 230], 0.0), ([-1, 25, 'TCP', '.A.RS.', -1, -1], 0.8452645371809101), ([-1, 25, 'TCP', '.A.RS.', -1, -1], 0.8452645371809101), ([-1, 25, 'TCP', '.A.RS.', -1, -1], 0.8452645371809101), ([-1, 25, 'TCP', -1, 10, 40], 0.0), ([-1, 25, 'TCP', '.A.RS.', -1, -1], 0.8452645371809101)] \n",
      "\n",
      "[[-1, 25, 'TCP', '.A.RS.', -1, -1], [-1, 25, 'TCP', '.A.RS.', -1, -1], [-1, 25, 'TCP', '...R..', 6, 552], [-1, 25, 'TCP', '.A.RS.', -1, -1], [-1, 25, 'TCP', -1, 4, 290], [-1, 25, 'TCP', '.A.RS.', -1, -1], [-1, 25, 'TCP', '.A.RS.', -1, -1], [-1, 25, 'TCP', '.A.RS.', -1, -1], [-1, 25, 'TCP', '.A.RS.', -1, -1], [-1, 25, 'TCP', '.A.RS.', -1, -1], [-1, 25, 'TCP', '...R..', 5, 268], [-1, 25, 'TCP', '.A.RS.', -1, -1], [-1, 25, 'TCP', '.A.RS.', -1, -1], [-1, 25, 'TCP', '.A.RS.', -1, -1], [-1, 25, 'TCP', '.A.RS.', -1, -1], [-1, 25, 'TCP', '.A.RS.', -1, -1], [-1, 25, 'TCP', '.A.RS.', -1, -1], [-1, 25, 'TCP', '.A.RS.', -1, -1], [-1, 25, 'TCP', '.A.RS.', -1, -1], [-1, 25, 'TCP', '.A.RS.', -1, -1]]\n",
      "Generation id:39 MaxValue: 0.8452645371809101\n",
      "\n",
      " generation 39 population and fitness values \n",
      "\" [([-1, 25, 'TCP', '.A.RS.', -1, -1], 0.8452645371809101), ([-1, 25, 'TCP', '.A.RS.', -1, -1], 0.8452645371809101), ([-1, 25, 'TCP', '...R..', 6, 552], 0.0), ([-1, 25, 'TCP', '.A.RS.', -1, -1], 0.8452645371809101), ([-1, 25, 'TCP', -1, 4, 290], 0.0), ([-1, 25, 'TCP', '.A.RS.', -1, -1], 0.8452645371809101), ([-1, 25, 'TCP', '.A.RS.', -1, -1], 0.8452645371809101), ([-1, 25, 'TCP', '.A.RS.', -1, -1], 0.8452645371809101), ([-1, 25, 'TCP', '.A.RS.', -1, -1], 0.8452645371809101), ([-1, 25, 'TCP', '.A.RS.', -1, -1], 0.8452645371809101), ([-1, 25, 'TCP', '...R..', 5, 268], 0.0), ([-1, 25, 'TCP', '.A.RS.', -1, -1], 0.8452645371809101), ([-1, 25, 'TCP', '.A.RS.', -1, -1], 0.8452645371809101), ([-1, 25, 'TCP', '.A.RS.', -1, -1], 0.8452645371809101), ([-1, 25, 'TCP', '.A.RS.', -1, -1], 0.8452645371809101), ([-1, 25, 'TCP', '.A.RS.', -1, -1], 0.8452645371809101), ([-1, 25, 'TCP', '.A.RS.', -1, -1], 0.8452645371809101), ([-1, 25, 'TCP', '.A.RS.', -1, -1], 0.8452645371809101), ([-1, 25, 'TCP', '.A.RS.', -1, -1], 0.8452645371809101), ([-1, 25, 'TCP', '.A.RS.', -1, -1], 0.8452645371809101)] \n",
      "\n",
      "[[-1, 25, 'TCP', '.A.RS.', -1, -1], [-1, 25, 'TCP', '.A.RS.', -1, -1], [-1, 25, 'TCP', '.A.RS.', -1, -1], [-1, 25, 'TCP', '.A.RS.', -1, -1], [-1, 25, 'TCP', '.A.RS.', -1, -1], [-1, 25, 'TCP', '.A.RS.', -1, -1], [-1, 25, 'TCP', '.AP.SF', 1, 460], [-1, 25, 'TCP', '.A.RS.', -1, -1], [-1, 25, 'TCP', '.A.RS.', -1, -1], [-1, 25, 'TCP', '.A.RS.', -1, -1], [-1, 25, 'TCP', '.A.RS.', 7, 216], [-1, 25, 'TCP', '.A.RS.', -1, -1], [-1, 25, 'TCP', '.A.RS.', -1, -1], [-1, 25, 'TCP', '.A.RS.', -1, -1], [-1, 25, 'TCP', '.A.RS.', -1, -1], [-1, 25, 'TCP', '.A.RS.', -1, -1], [-1, 25, 'TCP', '.A.RS.', -1, -1], [-1, 25, 'TCP', '.A.RS.', -1, -1], [-1, 25, 'TCP', '.A.RS.', -1, -1], [-1, 25, 'TCP', '.A.RS.', -1, -1]]\n",
      "Generation id:40 MaxValue: 0.8452645371809101\n",
      "\n",
      " generation 40 population and fitness values \n",
      "\" [([-1, 25, 'TCP', '.A.RS.', -1, -1], 0.8452645371809101), ([-1, 25, 'TCP', '.A.RS.', -1, -1], 0.8452645371809101), ([-1, 25, 'TCP', '.A.RS.', -1, -1], 0.8452645371809101), ([-1, 25, 'TCP', '.A.RS.', -1, -1], 0.8452645371809101), ([-1, 25, 'TCP', '.A.RS.', -1, -1], 0.8452645371809101), ([-1, 25, 'TCP', '.A.RS.', -1, -1], 0.8452645371809101), ([-1, 25, 'TCP', '.AP.SF', 1, 460], 0.0), ([-1, 25, 'TCP', '.A.RS.', -1, -1], 0.8452645371809101), ([-1, 25, 'TCP', '.A.RS.', -1, -1], 0.8452645371809101), ([-1, 25, 'TCP', '.A.RS.', -1, -1], 0.8452645371809101), ([-1, 25, 'TCP', '.A.RS.', 7, 216], 0.0), ([-1, 25, 'TCP', '.A.RS.', -1, -1], 0.8452645371809101), ([-1, 25, 'TCP', '.A.RS.', -1, -1], 0.8452645371809101), ([-1, 25, 'TCP', '.A.RS.', -1, -1], 0.8452645371809101), ([-1, 25, 'TCP', '.A.RS.', -1, -1], 0.8452645371809101), ([-1, 25, 'TCP', '.A.RS.', -1, -1], 0.8452645371809101), ([-1, 25, 'TCP', '.A.RS.', -1, -1], 0.8452645371809101), ([-1, 25, 'TCP', '.A.RS.', -1, -1], 0.8452645371809101), ([-1, 25, 'TCP', '.A.RS.', -1, -1], 0.8452645371809101), ([-1, 25, 'TCP', '.A.RS.', -1, -1], 0.8452645371809101)] \n",
      "\n",
      "[[-1, 25, 'TCP', '.A.RS.', -1, -1], [-1, 25, 'TCP', '.A.RS.', -1, -1], [-1, 25, 'TCP', '.AP.SF', 6, 230], [-1, 25, 'TCP', '.A.RS.', -1, -1], [-1, 25, 'TCP', '...R..', 9, 290], [-1, 25, 'TCP', '.A.RS.', -1, -1], [-1, 25, 'TCP', '.A.RS.', -1, -1], [-1, 25, 'TCP', '.A.RS.', -1, -1], [-1, 25, 'TCP', '.A.RS.', -1, -1], [-1, 25, 'TCP', '.A.RS.', -1, -1], [-1, 25, 'TCP', -1, -1, -1], [-1, 25, 'TCP', '.A.RS.', -1, -1], [-1, 25, 'TCP', '.A.RS.', -1, -1], [-1, 25, 'TCP', '.A.RS.', -1, -1], [-1, 25, 'TCP', '.A.RS.', 6, 276], [-1, 25, 'TCP', '.A.RS.', -1, -1], [-1, 25, 'TCP', -1, 9, -1], [-1, 25, 'TCP', '.A.RS.', -1, -1], [-1, 25, 'TCP', '.A.RS.', -1, -1], [-1, 25, 'TCP', '.A.RS.', -1, -1]]\n",
      "Generation id:41 MaxValue: 0.8452645371809101\n",
      "\n",
      " generation 41 population and fitness values \n",
      "\" [([-1, 25, 'TCP', '.A.RS.', -1, -1], 0.8452645371809101), ([-1, 25, 'TCP', '.A.RS.', -1, -1], 0.8452645371809101), ([-1, 25, 'TCP', '.AP.SF', 6, 230], 0.0), ([-1, 25, 'TCP', '.A.RS.', -1, -1], 0.8452645371809101), ([-1, 25, 'TCP', '...R..', 9, 290], 0.0), ([-1, 25, 'TCP', '.A.RS.', -1, -1], 0.8452645371809101), ([-1, 25, 'TCP', '.A.RS.', -1, -1], 0.8452645371809101), ([-1, 25, 'TCP', '.A.RS.', -1, -1], 0.8452645371809101), ([-1, 25, 'TCP', '.A.RS.', -1, -1], 0.8452645371809101), ([-1, 25, 'TCP', '.A.RS.', -1, -1], 0.8452645371809101), ([-1, 25, 'TCP', -1, -1, -1], 0.8355405889208298), ([-1, 25, 'TCP', '.A.RS.', -1, -1], 0.8452645371809101), ([-1, 25, 'TCP', '.A.RS.', -1, -1], 0.8452645371809101), ([-1, 25, 'TCP', '.A.RS.', -1, -1], 0.8452645371809101), ([-1, 25, 'TCP', '.A.RS.', 6, 276], 0.0), ([-1, 25, 'TCP', '.A.RS.', -1, -1], 0.8452645371809101), ([-1, 25, 'TCP', -1, 9, -1], 0.0), ([-1, 25, 'TCP', '.A.RS.', -1, -1], 0.8452645371809101), ([-1, 25, 'TCP', '.A.RS.', -1, -1], 0.8452645371809101), ([-1, 25, 'TCP', '.A.RS.', -1, -1], 0.8452645371809101)] \n",
      "\n",
      "[[-1, 25, 'TCP', '...R..', 7, 216], [-1, 25, 'TCP', '.A.RS.', -1, -1], [-1, 25, 'TCP', '...R..', 8, 216], [-1, 25, 'TCP', -1, -1, -1], [-1, 25, 'TCP', '.A.RS.', 6, -1], [-1, 25, 'TCP', '.A.RS.', -1, -1], [-1, 25, 'TCP', '.A.RS.', -1, -1], [-1, 25, 'TCP', '.A.RS.', -1, -1], [-1, 25, 'TCP', '.A.RS.', -1, -1], [-1, 25, 'TCP', '.A.RS.', -1, -1], [-1, 25, 'TCP', '.A.RS.', -1, -1], [-1, 25, 'TCP', '.A.RS.', -1, -1], [-1, 25, 'TCP', -1, -1, -1], [-1, 25, 'TCP', '.A.RS.', -1, -1], [-1, 25, 'TCP', '.A.RS.', -1, -1], [-1, 25, 'TCP', '.A.RS.', -1, -1], [-1, 25, 'TCP', '.A.RS.', 1, -1], [-1, 25, 'TCP', '.A.RS.', -1, -1], [-1, 25, 'TCP', '...R..', 4, 290], [-1, 25, 'TCP', '.A.RS.', -1, -1]]\n",
      "Generation id:42 MaxValue: 0.8452645371809101\n",
      "\n",
      " generation 42 population and fitness values \n",
      "\" [([-1, 25, 'TCP', '...R..', 7, 216], 0.0), ([-1, 25, 'TCP', '.A.RS.', -1, -1], 0.8452645371809101), ([-1, 25, 'TCP', '...R..', 8, 216], 0.0), ([-1, 25, 'TCP', -1, -1, -1], 0.8355405889208298), ([-1, 25, 'TCP', '.A.RS.', 6, -1], 0.800004), ([-1, 25, 'TCP', '.A.RS.', -1, -1], 0.8452645371809101), ([-1, 25, 'TCP', '.A.RS.', -1, -1], 0.8452645371809101), ([-1, 25, 'TCP', '.A.RS.', -1, -1], 0.8452645371809101), ([-1, 25, 'TCP', '.A.RS.', -1, -1], 0.8452645371809101), ([-1, 25, 'TCP', '.A.RS.', -1, -1], 0.8452645371809101), ([-1, 25, 'TCP', '.A.RS.', -1, -1], 0.8452645371809101), ([-1, 25, 'TCP', '.A.RS.', -1, -1], 0.8452645371809101), ([-1, 25, 'TCP', -1, -1, -1], 0.8355405889208298), ([-1, 25, 'TCP', '.A.RS.', -1, -1], 0.8452645371809101), ([-1, 25, 'TCP', '.A.RS.', -1, -1], 0.8452645371809101), ([-1, 25, 'TCP', '.A.RS.', -1, -1], 0.8452645371809101), ([-1, 25, 'TCP', '.A.RS.', 1, -1], 0.0), ([-1, 25, 'TCP', '.A.RS.', -1, -1], 0.8452645371809101), ([-1, 25, 'TCP', '...R..', 4, 290], 0.0), ([-1, 25, 'TCP', '.A.RS.', -1, -1], 0.8452645371809101)] \n",
      "\n",
      "[[-1, 25, 'TCP', -1, 4, 348], [-1, 25, 'TCP', '.A.RS.', -1, -1], [-1, 25, 'TCP', '.A.RS.', -1, -1], [-1, 25, 'TCP', '.A.RS.', -1, -1], [-1, 25, 'TCP', '...R..', 8, 552], [-1, 25, 'TCP', '.A.RS.', -1, -1], [-1, 25, 'TCP', '.A.RS.', -1, -1], [-1, 25, 'TCP', -1, -1, -1], [-1, 25, 'TCP', '.A.RS.', -1, -1], [-1, 25, 'TCP', '.A.RS.', -1, -1], [-1, 25, 'TCP', -1, 7, 268], [-1, 25, 'TCP', '.A.RS.', -1, -1], [-1, 25, 'TCP', '.A.RS.', 6, -1], [-1, 25, 'TCP', '.A.RS.', -1, -1], [-1, 25, 'TCP', '.A.RS.', -1, -1], [-1, 25, 'TCP', '.A.RS.', -1, -1], [-1, 25, 'TCP', '.A.RS.', -1, -1], [-1, 25, 'TCP', '.A.RS.', -1, -1], [-1, 25, 'TCP', '.A.RS.', -1, -1], [-1, 25, 'TCP', '.A.RS.', -1, -1]]\n",
      "Generation id:43 MaxValue: 0.8452645371809101\n",
      "\n",
      " generation 43 population and fitness values \n",
      "\" [([-1, 25, 'TCP', -1, 4, 348], 0.0), ([-1, 25, 'TCP', '.A.RS.', -1, -1], 0.8452645371809101), ([-1, 25, 'TCP', '.A.RS.', -1, -1], 0.8452645371809101), ([-1, 25, 'TCP', '.A.RS.', -1, -1], 0.8452645371809101), ([-1, 25, 'TCP', '...R..', 8, 552], 0.0), ([-1, 25, 'TCP', '.A.RS.', -1, -1], 0.8452645371809101), ([-1, 25, 'TCP', '.A.RS.', -1, -1], 0.8452645371809101), ([-1, 25, 'TCP', -1, -1, -1], 0.8355405889208298), ([-1, 25, 'TCP', '.A.RS.', -1, -1], 0.8452645371809101), ([-1, 25, 'TCP', '.A.RS.', -1, -1], 0.8452645371809101), ([-1, 25, 'TCP', -1, 7, 268], 0.0), ([-1, 25, 'TCP', '.A.RS.', -1, -1], 0.8452645371809101), ([-1, 25, 'TCP', '.A.RS.', 6, -1], 0.800004), ([-1, 25, 'TCP', '.A.RS.', -1, -1], 0.8452645371809101), ([-1, 25, 'TCP', '.A.RS.', -1, -1], 0.8452645371809101), ([-1, 25, 'TCP', '.A.RS.', -1, -1], 0.8452645371809101), ([-1, 25, 'TCP', '.A.RS.', -1, -1], 0.8452645371809101), ([-1, 25, 'TCP', '.A.RS.', -1, -1], 0.8452645371809101), ([-1, 25, 'TCP', '.A.RS.', -1, -1], 0.8452645371809101), ([-1, 25, 'TCP', '.A.RS.', -1, -1], 0.8452645371809101)] \n",
      "\n",
      "[[-1, 25, 'TCP', '.AP.SF', 3, 230], [-1, 25, 'TCP', -1, -1, -1], [-1, 25, 'TCP', '.A.RS.', -1, -1], [-1, 25, 'TCP', '.A.RS.', -1, -1], [-1, 25, 'TCP', -1, 4, 216], [-1, 25, 'TCP', '.A.RS.', -1, -1], [-1, 25, 'TCP', '.A.RS.', -1, -1], [-1, 25, 'TCP', '.A.RS.', -1, -1], [-1, 25, 'TCP', '.A.RS.', -1, -1], [-1, 25, 'TCP', '.A.RS.', -1, -1], [-1, 25, 'TCP', '.A.RS.', 10, 460], [-1, 25, 'TCP', '.A.RS.', -1, -1], [-1, 25, 'TCP', '.A.RS.', -1, -1], [-1, 25, 'TCP', '.A.RS.', -1, -1], [-1, 25, 'TCP', '.A.RS.', -1, -1], [-1, 25, 'TCP', '.A.RS.', -1, -1], [-1, 25, 'TCP', -1, 4, 552], [-1, 25, 'TCP', '.A.RS.', -1, -1], [-1, 25, 'TCP', '...R..', 5, 268], [-1, 25, 'TCP', '.A.RS.', -1, -1]]\n",
      "Generation id:44 MaxValue: 0.8452645371809101\n",
      "\n",
      " generation 44 population and fitness values \n",
      "\" [([-1, 25, 'TCP', '.AP.SF', 3, 230], 0.0), ([-1, 25, 'TCP', -1, -1, -1], 0.8355405889208298), ([-1, 25, 'TCP', '.A.RS.', -1, -1], 0.8452645371809101), ([-1, 25, 'TCP', '.A.RS.', -1, -1], 0.8452645371809101), ([-1, 25, 'TCP', -1, 4, 216], 0.8450206747986926), ([-1, 25, 'TCP', '.A.RS.', -1, -1], 0.8452645371809101), ([-1, 25, 'TCP', '.A.RS.', -1, -1], 0.8452645371809101), ([-1, 25, 'TCP', '.A.RS.', -1, -1], 0.8452645371809101), ([-1, 25, 'TCP', '.A.RS.', -1, -1], 0.8452645371809101), ([-1, 25, 'TCP', '.A.RS.', -1, -1], 0.8452645371809101), ([-1, 25, 'TCP', '.A.RS.', 10, 460], 0.0), ([-1, 25, 'TCP', '.A.RS.', -1, -1], 0.8452645371809101), ([-1, 25, 'TCP', '.A.RS.', -1, -1], 0.8452645371809101), ([-1, 25, 'TCP', '.A.RS.', -1, -1], 0.8452645371809101), ([-1, 25, 'TCP', '.A.RS.', -1, -1], 0.8452645371809101), ([-1, 25, 'TCP', '.A.RS.', -1, -1], 0.8452645371809101), ([-1, 25, 'TCP', -1, 4, 552], 0.0), ([-1, 25, 'TCP', '.A.RS.', -1, -1], 0.8452645371809101), ([-1, 25, 'TCP', '...R..', 5, 268], 0.0), ([-1, 25, 'TCP', '.A.RS.', -1, -1], 0.8452645371809101)] \n",
      "\n",
      "[[-1, 25, 'TCP', '.A.RS.', -1, -1], [-1, 25, 'TCP', '.A.RS.', -1, -1], [-1, 25, 'TCP', '.A.RS.', -1, 552], [-1, 25, 'TCP', '.A.RS.', -1, -1], [-1, 25, 'TCP', '.A.RS.', -1, -1], [-1, 25, 'TCP', '.A.RS.', -1, -1], [-1, 25, 'TCP', '.A.RS.', -1, -1], [-1, 25, 'TCP', -1, -1, -1], [-1, 25, 'TCP', '...R..', 5, 216], [-1, 25, 'TCP', '.A.RS.', -1, -1], [-1, 25, 'TCP', -1, -1, 216], [-1, 25, 'TCP', '.A.RS.', 4, -1], [-1, 25, 'TCP', '.A.RS.', 7, 40], [-1, 25, 'TCP', '.A.RS.', -1, -1], [-1, 25, 'TCP', '.A.RS.', -1, -1], [-1, 25, 'TCP', '.A.RS.', -1, -1], [-1, 25, 'TCP', '.A.RS.', 6, 268], [-1, 25, 'TCP', '.A.RS.', -1, -1], [-1, 25, 'TCP', -1, 4, 216], [-1, 25, 'TCP', '.A.RS.', -1, -1]]\n",
      "Generation id:45 MaxValue: 0.8452645371809101\n",
      "\n",
      " generation 45 population and fitness values \n",
      "\" [([-1, 25, 'TCP', '.A.RS.', -1, -1], 0.8452645371809101), ([-1, 25, 'TCP', '.A.RS.', -1, -1], 0.8452645371809101), ([-1, 25, 'TCP', '.A.RS.', -1, 552], 0.800064), ([-1, 25, 'TCP', '.A.RS.', -1, -1], 0.8452645371809101), ([-1, 25, 'TCP', '.A.RS.', -1, -1], 0.8452645371809101), ([-1, 25, 'TCP', '.A.RS.', -1, -1], 0.8452645371809101), ([-1, 25, 'TCP', '.A.RS.', -1, -1], 0.8452645371809101), ([-1, 25, 'TCP', -1, -1, -1], 0.8355405889208298), ([-1, 25, 'TCP', '...R..', 5, 216], 0.0), ([-1, 25, 'TCP', '.A.RS.', -1, -1], 0.8452645371809101), ([-1, 25, 'TCP', -1, -1, 216], 0.8450206747986926), ([-1, 25, 'TCP', '.A.RS.', 4, -1], 0.8450206747986926), ([-1, 25, 'TCP', '.A.RS.', 7, 40], 0.0), ([-1, 25, 'TCP', '.A.RS.', -1, -1], 0.8452645371809101), ([-1, 25, 'TCP', '.A.RS.', -1, -1], 0.8452645371809101), ([-1, 25, 'TCP', '.A.RS.', -1, -1], 0.8452645371809101), ([-1, 25, 'TCP', '.A.RS.', 6, 268], 0.0), ([-1, 25, 'TCP', '.A.RS.', -1, -1], 0.8452645371809101), ([-1, 25, 'TCP', -1, 4, 216], 0.8450206747986926), ([-1, 25, 'TCP', '.A.RS.', -1, -1], 0.8452645371809101)] \n",
      "\n",
      "[[-1, 25, 'TCP', '.A.RS.', -1, 552], [-1, 25, 'TCP', '.A.RS.', -1, -1], [-1, 25, 'TCP', '.A.RS.', -1, -1], [-1, 25, 'TCP', '.A.RS.', -1, -1], [-1, 25, 'TCP', '...R..', 5, 552], [-1, 25, 'TCP', '.A.RS.', -1, -1], [-1, 25, 'TCP', '.A.RS.', 3, 460], [-1, 25, 'TCP', '.A.RS.', -1, -1], [-1, 25, 'TCP', '.A.RS.', -1, 230], [-1, 25, 'TCP', '.A.RS.', -1, -1], [-1, 25, 'TCP', -1, 6, 348], [-1, 25, 'TCP', -1, -1, 216], [-1, 25, 'TCP', -1, 9, 552], [-1, 25, 'TCP', '.A.RS.', -1, -1], [-1, 25, 'TCP', -1, -1, -1], [-1, 25, 'TCP', -1, -1, -1], [-1, 25, 'TCP', '.AP.SF', 9, -1], [-1, 25, 'TCP', '.A.RS.', -1, -1], [-1, 25, 'TCP', '.A.RS.', -1, -1], [-1, 25, 'TCP', '.A.RS.', -1, -1]]\n",
      "Generation id:46 MaxValue: 0.8452645371809101\n",
      "\n",
      " generation 46 population and fitness values \n",
      "\" [([-1, 25, 'TCP', '.A.RS.', -1, 552], 0.800064), ([-1, 25, 'TCP', '.A.RS.', -1, -1], 0.8452645371809101), ([-1, 25, 'TCP', '.A.RS.', -1, -1], 0.8452645371809101), ([-1, 25, 'TCP', '.A.RS.', -1, -1], 0.8452645371809101), ([-1, 25, 'TCP', '...R..', 5, 552], 0.0), ([-1, 25, 'TCP', '.A.RS.', -1, -1], 0.8452645371809101), ([-1, 25, 'TCP', '.A.RS.', 3, 460], 0.0), ([-1, 25, 'TCP', '.A.RS.', -1, -1], 0.8452645371809101), ([-1, 25, 'TCP', '.A.RS.', -1, 230], 0.0), ([-1, 25, 'TCP', '.A.RS.', -1, -1], 0.8452645371809101), ([-1, 25, 'TCP', -1, 6, 348], 0.0), ([-1, 25, 'TCP', -1, -1, 216], 0.8450206747986926), ([-1, 25, 'TCP', -1, 9, 552], 0.0), ([-1, 25, 'TCP', '.A.RS.', -1, -1], 0.8452645371809101), ([-1, 25, 'TCP', -1, -1, -1], 0.8355405889208298), ([-1, 25, 'TCP', -1, -1, -1], 0.8355405889208298), ([-1, 25, 'TCP', '.AP.SF', 9, -1], 0.0), ([-1, 25, 'TCP', '.A.RS.', -1, -1], 0.8452645371809101), ([-1, 25, 'TCP', '.A.RS.', -1, -1], 0.8452645371809101), ([-1, 25, 'TCP', '.A.RS.', -1, -1], 0.8452645371809101)] \n",
      "\n",
      "[[-1, 25, 'TCP', '...R..', 5, 552], [-1, 25, 'TCP', '.A.RS.', -1, -1], [-1, 25, 'TCP', '.A.RS.', -1, -1], [-1, 25, 'TCP', '.A.RS.', -1, -1], [-1, 25, 'TCP', '.A.RS.', -1, 552], [-1, 25, 'TCP', '.A.RS.', -1, -1], [-1, 25, 'TCP', '.A.RS.', -1, -1], [-1, 25, 'TCP', '.A.RS.', -1, -1], [-1, 25, 'TCP', '.A.RS.', -1, -1], [-1, 25, 'TCP', '.A.RS.', -1, 552], [-1, 25, 'TCP', '.A.RS.', -1, 552], [-1, 25, 'TCP', '.A.RS.', -1, -1], [-1, 25, 'TCP', '.A.RS.', -1, -1], [-1, 25, 'TCP', '.A.RS.', -1, -1], [-1, 25, 'TCP', '.A.RS.', -1, -1], [-1, 25, 'TCP', '.A.RS.', -1, -1], [-1, 25, 'TCP', '.A.RS.', -1, -1], [-1, 25, 'TCP', '.A.RS.', -1, -1], [-1, 25, 'TCP', '.A.RS.', -1, 552], [-1, 25, 'TCP', '.A.RS.', -1, -1]]\n",
      "Generation id:47 MaxValue: 0.8452645371809101\n",
      "\n",
      " generation 47 population and fitness values \n",
      "\" [([-1, 25, 'TCP', '...R..', 5, 552], 0.0), ([-1, 25, 'TCP', '.A.RS.', -1, -1], 0.8452645371809101), ([-1, 25, 'TCP', '.A.RS.', -1, -1], 0.8452645371809101), ([-1, 25, 'TCP', '.A.RS.', -1, -1], 0.8452645371809101), ([-1, 25, 'TCP', '.A.RS.', -1, 552], 0.800064), ([-1, 25, 'TCP', '.A.RS.', -1, -1], 0.8452645371809101), ([-1, 25, 'TCP', '.A.RS.', -1, -1], 0.8452645371809101), ([-1, 25, 'TCP', '.A.RS.', -1, -1], 0.8452645371809101), ([-1, 25, 'TCP', '.A.RS.', -1, -1], 0.8452645371809101), ([-1, 25, 'TCP', '.A.RS.', -1, 552], 0.800064), ([-1, 25, 'TCP', '.A.RS.', -1, 552], 0.800064), ([-1, 25, 'TCP', '.A.RS.', -1, -1], 0.8452645371809101), ([-1, 25, 'TCP', '.A.RS.', -1, -1], 0.8452645371809101), ([-1, 25, 'TCP', '.A.RS.', -1, -1], 0.8452645371809101), ([-1, 25, 'TCP', '.A.RS.', -1, -1], 0.8452645371809101), ([-1, 25, 'TCP', '.A.RS.', -1, -1], 0.8452645371809101), ([-1, 25, 'TCP', '.A.RS.', -1, -1], 0.8452645371809101), ([-1, 25, 'TCP', '.A.RS.', -1, -1], 0.8452645371809101), ([-1, 25, 'TCP', '.A.RS.', -1, 552], 0.800064), ([-1, 25, 'TCP', '.A.RS.', -1, -1], 0.8452645371809101)] \n",
      "\n",
      "[[-1, 25, 'TCP', '.A.RS.', -1, 552], [-1, 25, 'TCP', '.A.RS.', -1, -1], [-1, 25, 'TCP', '.A.RS.', -1, -1], [-1, 25, 'TCP', '.A.RS.', -1, 552], [-1, 25, 'TCP', -1, 6, 460], [-1, 25, 'TCP', '.A.RS.', -1, -1], [-1, 25, 'TCP', '.A.RS.', -1, -1], [-1, 25, 'TCP', '.A.RS.', -1, 552], [-1, 25, 'TCP', '.A.RS.', -1, -1], [-1, 25, 'TCP', '.A.RS.', -1, -1], [-1, 25, 'TCP', '.A.RS.', -1, -1], [-1, 25, 'TCP', '.A.RS.', -1, -1], [-1, 25, 'TCP', '.A.RS.', -1, -1], [-1, 25, 'TCP', '.A.RS.', -1, -1], [-1, 25, 'TCP', '.A.RS.', -1, -1], [-1, 25, 'TCP', '.A.RS.', -1, 552], [-1, 25, 'TCP', '.A.RS.', -1, -1], [-1, 25, 'TCP', '.A.RS.', -1, -1], [-1, 25, 'TCP', '.A.RS.', -1, -1], [-1, 25, 'TCP', '.A.RS.', -1, 552]]\n",
      "Generation id:48 MaxValue: 0.8452645371809101\n",
      "\n",
      " generation 48 population and fitness values \n",
      "\" [([-1, 25, 'TCP', '.A.RS.', -1, 552], 0.800064), ([-1, 25, 'TCP', '.A.RS.', -1, -1], 0.8452645371809101), ([-1, 25, 'TCP', '.A.RS.', -1, -1], 0.8452645371809101), ([-1, 25, 'TCP', '.A.RS.', -1, 552], 0.800064), ([-1, 25, 'TCP', -1, 6, 460], 0.0), ([-1, 25, 'TCP', '.A.RS.', -1, -1], 0.8452645371809101), ([-1, 25, 'TCP', '.A.RS.', -1, -1], 0.8452645371809101), ([-1, 25, 'TCP', '.A.RS.', -1, 552], 0.800064), ([-1, 25, 'TCP', '.A.RS.', -1, -1], 0.8452645371809101), ([-1, 25, 'TCP', '.A.RS.', -1, -1], 0.8452645371809101), ([-1, 25, 'TCP', '.A.RS.', -1, -1], 0.8452645371809101), ([-1, 25, 'TCP', '.A.RS.', -1, -1], 0.8452645371809101), ([-1, 25, 'TCP', '.A.RS.', -1, -1], 0.8452645371809101), ([-1, 25, 'TCP', '.A.RS.', -1, -1], 0.8452645371809101), ([-1, 25, 'TCP', '.A.RS.', -1, -1], 0.8452645371809101), ([-1, 25, 'TCP', '.A.RS.', -1, 552], 0.800064), ([-1, 25, 'TCP', '.A.RS.', -1, -1], 0.8452645371809101), ([-1, 25, 'TCP', '.A.RS.', -1, -1], 0.8452645371809101), ([-1, 25, 'TCP', '.A.RS.', -1, -1], 0.8452645371809101), ([-1, 25, 'TCP', '.A.RS.', -1, 552], 0.800064)] \n",
      "\n",
      "[[-1, 25, 'TCP', '.A.RS.', -1, -1], [-1, 25, 'TCP', '.A.RS.', -1, -1], [-1, 25, 'TCP', '.A.RS.', -1, -1], [-1, 25, 'TCP', '.A.RS.', -1, 552], [-1, 25, 'TCP', -1, 4, 290], [-1, 25, 'TCP', '.A.RS.', -1, 552], [-1, 25, 'TCP', '.A.RS.', -1, -1], [-1, 25, 'TCP', '.A.RS.', -1, -1], [-1, 25, 'TCP', '.AP.SF', 2, 230], [-1, 25, 'TCP', '.A.RS.', -1, 552], [-1, 25, 'TCP', '.A.RS.', -1, -1], [-1, 25, 'TCP', '.A.RS.', -1, -1], [-1, 25, 'TCP', '.A.RS.', -1, -1], [-1, 25, 'TCP', '.A.RS.', -1, -1], [-1, 25, 'TCP', '.A.RS.', -1, -1], [-1, 25, 'TCP', '.A.RS.', -1, -1], [-1, 25, 'TCP', -1, -1, 40], [-1, 25, 'TCP', '.A.RS.', -1, -1], [-1, 25, 'TCP', '.A.RS.', -1, -1], [-1, 25, 'TCP', '.A.RS.', -1, -1]]\n",
      "Generation id:49 MaxValue: 0.8452645371809101\n",
      "\n",
      " generation 49 population and fitness values \n",
      "\" [([-1, 25, 'TCP', '.A.RS.', -1, -1], 0.8452645371809101), ([-1, 25, 'TCP', '.A.RS.', -1, -1], 0.8452645371809101), ([-1, 25, 'TCP', '.A.RS.', -1, -1], 0.8452645371809101), ([-1, 25, 'TCP', '.A.RS.', -1, 552], 0.800064), ([-1, 25, 'TCP', -1, 4, 290], 0.0), ([-1, 25, 'TCP', '.A.RS.', -1, 552], 0.800064), ([-1, 25, 'TCP', '.A.RS.', -1, -1], 0.8452645371809101), ([-1, 25, 'TCP', '.A.RS.', -1, -1], 0.8452645371809101), ([-1, 25, 'TCP', '.AP.SF', 2, 230], 0.0), ([-1, 25, 'TCP', '.A.RS.', -1, 552], 0.800064), ([-1, 25, 'TCP', '.A.RS.', -1, -1], 0.8452645371809101), ([-1, 25, 'TCP', '.A.RS.', -1, -1], 0.8452645371809101), ([-1, 25, 'TCP', '.A.RS.', -1, -1], 0.8452645371809101), ([-1, 25, 'TCP', '.A.RS.', -1, -1], 0.8452645371809101), ([-1, 25, 'TCP', '.A.RS.', -1, -1], 0.8452645371809101), ([-1, 25, 'TCP', '.A.RS.', -1, -1], 0.8452645371809101), ([-1, 25, 'TCP', -1, -1, 40], 0.7751048421052632), ([-1, 25, 'TCP', '.A.RS.', -1, -1], 0.8452645371809101), ([-1, 25, 'TCP', '.A.RS.', -1, -1], 0.8452645371809101), ([-1, 25, 'TCP', '.A.RS.', -1, -1], 0.8452645371809101)] \n",
      "\n",
      "[[-1, 25, 'TCP', '.A.RS.', 6, -1], [-1, 25, 'TCP', -1, -1, 40], [-1, 25, 'TCP', -1, 6, 290], [-1, 25, 'TCP', '.A.RS.', -1, -1], [-1, 25, 'TCP', '.A.RS.', -1, -1], [-1, 25, 'TCP', '.A.RS.', -1, -1], [-1, 25, 'TCP', '.A.RS.', -1, -1], [-1, 25, 'TCP', '.A.RS.', -1, -1], [-1, 25, 'TCP', -1, -1, 40], [-1, 25, 'TCP', '.A.RS.', -1, -1], [-1, 25, 'TCP', '.A.RS.', -1, -1], [-1, 25, 'TCP', '.A.RS.', -1, 552], [-1, 25, 'TCP', '.A.RS.', -1, -1], [-1, 25, 'TCP', '.A.RS.', -1, 552], [-1, 25, 'TCP', '.AP.SF', 10, 268], [-1, 25, 'TCP', '.A.RS.', -1, 552], [-1, 25, 'TCP', '...R..', 3, 276], [-1, 25, 'TCP', '.A.RS.', -1, 552], [-1, 25, 'TCP', '.A.RS.', -1, -1], [-1, 25, 'TCP', '.A.RS.', -1, -1]]\n",
      "Generation id:50 MaxValue: 0.8452645371809101\n",
      "\n",
      " generation 50 population and fitness values \n",
      "\" [([-1, 25, 'TCP', '.A.RS.', 6, -1], 0.800004), ([-1, 25, 'TCP', -1, -1, 40], 0.7751048421052632), ([-1, 25, 'TCP', -1, 6, 290], 0.0), ([-1, 25, 'TCP', '.A.RS.', -1, -1], 0.8452645371809101), ([-1, 25, 'TCP', '.A.RS.', -1, -1], 0.8452645371809101), ([-1, 25, 'TCP', '.A.RS.', -1, -1], 0.8452645371809101), ([-1, 25, 'TCP', '.A.RS.', -1, -1], 0.8452645371809101), ([-1, 25, 'TCP', '.A.RS.', -1, -1], 0.8452645371809101), ([-1, 25, 'TCP', -1, -1, 40], 0.7751048421052632), ([-1, 25, 'TCP', '.A.RS.', -1, -1], 0.8452645371809101), ([-1, 25, 'TCP', '.A.RS.', -1, -1], 0.8452645371809101), ([-1, 25, 'TCP', '.A.RS.', -1, 552], 0.800064), ([-1, 25, 'TCP', '.A.RS.', -1, -1], 0.8452645371809101), ([-1, 25, 'TCP', '.A.RS.', -1, 552], 0.800064), ([-1, 25, 'TCP', '.AP.SF', 10, 268], 0.0), ([-1, 25, 'TCP', '.A.RS.', -1, 552], 0.800064), ([-1, 25, 'TCP', '...R..', 3, 276], 0.0), ([-1, 25, 'TCP', '.A.RS.', -1, 552], 0.800064), ([-1, 25, 'TCP', '.A.RS.', -1, -1], 0.8452645371809101), ([-1, 25, 'TCP', '.A.RS.', -1, -1], 0.8452645371809101)] \n",
      "\n",
      "[[-1, 25, 'TCP', '.A.RS.', -1, -1], [-1, 25, 'TCP', '.A.RS.', -1, -1], [-1, 25, 'TCP', '.A.RS.', -1, -1], [-1, 25, 'TCP', '.A.RS.', -1, -1], [-1, 25, 'TCP', '...R..', 10, 276], [-1, 25, 'TCP', -1, -1, 40], [-1, 25, 'TCP', '.A.RS.', 6, 276], [-1, 25, 'TCP', '.A.RS.', 6, -1], [-1, 25, 'TCP', '...R..', 6, 268], [-1, 25, 'TCP', '.A.RS.', -1, -1], [-1, 25, 'TCP', '.A.RS.', -1, -1], [-1, 25, 'TCP', '.A.RS.', -1, 552], [-1, 25, 'TCP', '.AP.SF', 2, 348], [-1, 25, 'TCP', '.A.RS.', -1, 552], [-1, 25, 'TCP', -1, -1, -1], [-1, 25, 'TCP', '.A.RS.', -1, 40], [-1, 25, 'TCP', -1, -1, 552], [-1, 25, 'TCP', '.A.RS.', -1, 40], [-1, 25, 'TCP', '.A.RS.', -1, -1], [-1, 25, 'TCP', '.A.RS.', -1, 552]]\n",
      "Generation id:51 MaxValue: 0.8452645371809101\n",
      "\n",
      " generation 51 population and fitness values \n",
      "\" [([-1, 25, 'TCP', '.A.RS.', -1, -1], 0.8452645371809101), ([-1, 25, 'TCP', '.A.RS.', -1, -1], 0.8452645371809101), ([-1, 25, 'TCP', '.A.RS.', -1, -1], 0.8452645371809101), ([-1, 25, 'TCP', '.A.RS.', -1, -1], 0.8452645371809101), ([-1, 25, 'TCP', '...R..', 10, 276], 0.0), ([-1, 25, 'TCP', -1, -1, 40], 0.7751048421052632), ([-1, 25, 'TCP', '.A.RS.', 6, 276], 0.0), ([-1, 25, 'TCP', '.A.RS.', 6, -1], 0.800004), ([-1, 25, 'TCP', '...R..', 6, 268], 0.0), ([-1, 25, 'TCP', '.A.RS.', -1, -1], 0.8452645371809101), ([-1, 25, 'TCP', '.A.RS.', -1, -1], 0.8452645371809101), ([-1, 25, 'TCP', '.A.RS.', -1, 552], 0.800064), ([-1, 25, 'TCP', '.AP.SF', 2, 348], 0.0), ([-1, 25, 'TCP', '.A.RS.', -1, 552], 0.800064), ([-1, 25, 'TCP', -1, -1, -1], 0.8355405889208298), ([-1, 25, 'TCP', '.A.RS.', -1, 40], 0.0), ([-1, 25, 'TCP', -1, -1, 552], 0.800064), ([-1, 25, 'TCP', '.A.RS.', -1, 40], 0.0), ([-1, 25, 'TCP', '.A.RS.', -1, -1], 0.8452645371809101), ([-1, 25, 'TCP', '.A.RS.', -1, 552], 0.800064)] \n",
      "\n",
      "[[-1, 25, 'TCP', -1, 9, -1], [-1, 25, 'TCP', -1, -1, 552], [-1, 25, 'TCP', '.A.RS.', 6, 348], [-1, 25, 'TCP', '.A.RS.', -1, 552], [-1, 25, 'TCP', -1, 6, -1], [-1, 25, 'TCP', '.A.RS.', -1, 552], [-1, 25, 'TCP', '.AP.SF', 4, 216], [-1, 25, 'TCP', '.A.RS.', 6, -1], [-1, 25, 'TCP', '.A.RS.', -1, -1], [-1, 25, 'TCP', '.A.RS.', -1, -1], [-1, 25, 'TCP', '.A.RS.', -1, -1], [-1, 25, 'TCP', '.A.RS.', -1, 552], [-1, 25, 'TCP', '.A.RS.', -1, 552], [-1, 25, 'TCP', '.A.RS.', -1, -1], [-1, 25, 'TCP', -1, -1, 40], [-1, 25, 'TCP', '.A.RS.', -1, -1], [-1, 25, 'TCP', '...R..', 10, 276], [-1, 25, 'TCP', -1, -1, 552], [-1, 25, 'TCP', '...R..', 7, 348], [-1, 25, 'TCP', '.A.RS.', -1, 552]]\n",
      "Generation id:52 MaxValue: 0.8452645371809101\n",
      "\n",
      " generation 52 population and fitness values \n",
      "\" [([-1, 25, 'TCP', -1, 9, -1], 0.0), ([-1, 25, 'TCP', -1, -1, 552], 0.800064), ([-1, 25, 'TCP', '.A.RS.', 6, 348], 0.0), ([-1, 25, 'TCP', '.A.RS.', -1, 552], 0.800064), ([-1, 25, 'TCP', -1, 6, -1], 0.011271605633802818), ([-1, 25, 'TCP', '.A.RS.', -1, 552], 0.800064), ([-1, 25, 'TCP', '.AP.SF', 4, 216], 0.0), ([-1, 25, 'TCP', '.A.RS.', 6, -1], 0.800004), ([-1, 25, 'TCP', '.A.RS.', -1, -1], 0.8452645371809101), ([-1, 25, 'TCP', '.A.RS.', -1, -1], 0.8452645371809101), ([-1, 25, 'TCP', '.A.RS.', -1, -1], 0.8452645371809101), ([-1, 25, 'TCP', '.A.RS.', -1, 552], 0.800064), ([-1, 25, 'TCP', '.A.RS.', -1, 552], 0.800064), ([-1, 25, 'TCP', '.A.RS.', -1, -1], 0.8452645371809101), ([-1, 25, 'TCP', -1, -1, 40], 0.7751048421052632), ([-1, 25, 'TCP', '.A.RS.', -1, -1], 0.8452645371809101), ([-1, 25, 'TCP', '...R..', 10, 276], 0.0), ([-1, 25, 'TCP', -1, -1, 552], 0.800064), ([-1, 25, 'TCP', '...R..', 7, 348], 0.0), ([-1, 25, 'TCP', '.A.RS.', -1, 552], 0.800064)] \n",
      "\n",
      "[[-1, 25, 'TCP', -1, -1, 552], [-1, 25, 'TCP', '.A.RS.', -1, 40], [-1, 25, 'TCP', '.AP.SF', 6, 216], [-1, 25, 'TCP', '.A.RS.', -1, 552], [-1, 25, 'TCP', '.A.RS.', -1, -1], [-1, 25, 'TCP', '.A.RS.', -1, 552], [-1, 25, 'TCP', '...R..', 5, 40], [-1, 25, 'TCP', '.A.RS.', -1, 552], [-1, 25, 'TCP', '.A.RS.', -1, 552], [-1, 25, 'TCP', '.A.RS.', 6, -1], [-1, 25, 'TCP', '.A.RS.', -1, 552], [-1, 25, 'TCP', '.A.RS.', -1, -1], [-1, 25, 'TCP', '.A.RS.', -1, -1], [-1, 25, 'TCP', '.A.RS.', -1, 552], [-1, 25, 'TCP', '.A.RS.', -1, 552], [-1, 25, 'TCP', '.A.RS.', -1, 552], [-1, 25, 'TCP', '.AP.SF', 6, 40], [-1, 25, 'TCP', '.A.RS.', -1, 552], [-1, 25, 'TCP', '.A.RS.', -1, 552], [-1, 25, 'TCP', '.A.RS.', -1, -1]]\n",
      "Generation id:53 MaxValue: 0.8452645371809101\n",
      "\n",
      " generation 53 population and fitness values \n",
      "\" [([-1, 25, 'TCP', -1, -1, 552], 0.800064), ([-1, 25, 'TCP', '.A.RS.', -1, 40], 0.0), ([-1, 25, 'TCP', '.AP.SF', 6, 216], 0.0), ([-1, 25, 'TCP', '.A.RS.', -1, 552], 0.800064), ([-1, 25, 'TCP', '.A.RS.', -1, -1], 0.8452645371809101), ([-1, 25, 'TCP', '.A.RS.', -1, 552], 0.800064), ([-1, 25, 'TCP', '...R..', 5, 40], 0.0), ([-1, 25, 'TCP', '.A.RS.', -1, 552], 0.800064), ([-1, 25, 'TCP', '.A.RS.', -1, 552], 0.800064), ([-1, 25, 'TCP', '.A.RS.', 6, -1], 0.800004), ([-1, 25, 'TCP', '.A.RS.', -1, 552], 0.800064), ([-1, 25, 'TCP', '.A.RS.', -1, -1], 0.8452645371809101), ([-1, 25, 'TCP', '.A.RS.', -1, -1], 0.8452645371809101), ([-1, 25, 'TCP', '.A.RS.', -1, 552], 0.800064), ([-1, 25, 'TCP', '.A.RS.', -1, 552], 0.800064), ([-1, 25, 'TCP', '.A.RS.', -1, 552], 0.800064), ([-1, 25, 'TCP', '.AP.SF', 6, 40], 0.0), ([-1, 25, 'TCP', '.A.RS.', -1, 552], 0.800064), ([-1, 25, 'TCP', '.A.RS.', -1, 552], 0.800064), ([-1, 25, 'TCP', '.A.RS.', -1, -1], 0.8452645371809101)] \n",
      "\n",
      "[[-1, 25, 'TCP', '.A.RS.', -1, 552], [-1, 25, 'TCP', '.A.RS.', 6, -1], [-1, 25, 'TCP', '.A.RS.', 6, 290], [-1, 25, 'TCP', '.A.RS.', -1, 552], [-1, 25, 'TCP', -1, 7, 348], [-1, 25, 'TCP', '.A.RS.', -1, 552], [-1, 25, 'TCP', '.A.RS.', 1, 276], [-1, 25, 'TCP', '.A.RS.', -1, 552], [-1, 25, 'TCP', '.A.RS.', -1, 552], [-1, 25, 'TCP', '.A.RS.', -1, 552], [-1, 25, 'TCP', '.A.RS.', -1, 552], [-1, 25, 'TCP', '.A.RS.', 6, -1], [-1, 25, 'TCP', '.A.RS.', -1, -1], [-1, 25, 'TCP', '.A.RS.', -1, 552], [-1, 25, 'TCP', '.A.RS.', -1, 552], [-1, 25, 'TCP', '.A.RS.', -1, 552], [-1, 25, 'TCP', '...R..', 3, 40], [-1, 25, 'TCP', '.A.RS.', -1, 552], [-1, 25, 'TCP', '...R..', 2, 268], [-1, 25, 'TCP', '.A.RS.', -1, 552]]\n",
      "Generation id:54 MaxValue: 0.8452645371809101\n",
      "\n",
      " generation 54 population and fitness values \n",
      "\" [([-1, 25, 'TCP', '.A.RS.', -1, 552], 0.800064), ([-1, 25, 'TCP', '.A.RS.', 6, -1], 0.800004), ([-1, 25, 'TCP', '.A.RS.', 6, 290], 0.0), ([-1, 25, 'TCP', '.A.RS.', -1, 552], 0.800064), ([-1, 25, 'TCP', -1, 7, 348], 0.0), ([-1, 25, 'TCP', '.A.RS.', -1, 552], 0.800064), ([-1, 25, 'TCP', '.A.RS.', 1, 276], 0.0), ([-1, 25, 'TCP', '.A.RS.', -1, 552], 0.800064), ([-1, 25, 'TCP', '.A.RS.', -1, 552], 0.800064), ([-1, 25, 'TCP', '.A.RS.', -1, 552], 0.800064), ([-1, 25, 'TCP', '.A.RS.', -1, 552], 0.800064), ([-1, 25, 'TCP', '.A.RS.', 6, -1], 0.800004), ([-1, 25, 'TCP', '.A.RS.', -1, -1], 0.8452645371809101), ([-1, 25, 'TCP', '.A.RS.', -1, 552], 0.800064), ([-1, 25, 'TCP', '.A.RS.', -1, 552], 0.800064), ([-1, 25, 'TCP', '.A.RS.', -1, 552], 0.800064), ([-1, 25, 'TCP', '...R..', 3, 40], 0.0), ([-1, 25, 'TCP', '.A.RS.', -1, 552], 0.800064), ([-1, 25, 'TCP', '...R..', 2, 268], 0.0), ([-1, 25, 'TCP', '.A.RS.', -1, 552], 0.800064)] \n",
      "\n",
      "[[-1, 25, 'TCP', '.A.RS.', -1, 552], [-1, 25, 'TCP', '.A.RS.', -1, 552], [-1, 25, 'TCP', '...R..', 6, 348], [-1, 25, 'TCP', '.A.RS.', 6, -1], [-1, 25, 'TCP', -1, 3, 276], [-1, 25, 'TCP', '.A.RS.', -1, -1], [-1, 25, 'TCP', '.A.RS.', 4, 460], [-1, 25, 'TCP', '.A.RS.', 6, 552], [-1, 25, 'TCP', '.AP.SF', 8, 230], [-1, 25, 'TCP', '.A.RS.', -1, 552], [-1, 25, 'TCP', '.A.RS.', -1, 552], [-1, 25, 'TCP', '.A.RS.', -1, 552], [-1, 25, 'TCP', -1, 8, 216], [-1, 25, 'TCP', '.A.RS.', -1, -1], [-1, 25, 'TCP', '...R..', 8, 460], [-1, 25, 'TCP', '.A.RS.', 6, -1], [-1, 25, 'TCP', '.A.RS.', 6, -1], [-1, 25, 'TCP', '.A.RS.', -1, 552], [-1, 25, 'TCP', '...R..', 4, 268], [-1, 25, 'TCP', '.A.RS.', -1, 552]]\n",
      "Generation id:55 MaxValue: 0.8452645371809101\n",
      "\n",
      " generation 55 population and fitness values \n",
      "\" [([-1, 25, 'TCP', '.A.RS.', -1, 552], 0.800064), ([-1, 25, 'TCP', '.A.RS.', -1, 552], 0.800064), ([-1, 25, 'TCP', '...R..', 6, 348], 0.0), ([-1, 25, 'TCP', '.A.RS.', 6, -1], 0.800004), ([-1, 25, 'TCP', -1, 3, 276], 0.0), ([-1, 25, 'TCP', '.A.RS.', -1, -1], 0.8452645371809101), ([-1, 25, 'TCP', '.A.RS.', 4, 460], 0.0), ([-1, 25, 'TCP', '.A.RS.', 6, 552], 0.0), ([-1, 25, 'TCP', '.AP.SF', 8, 230], 0.0), ([-1, 25, 'TCP', '.A.RS.', -1, 552], 0.800064), ([-1, 25, 'TCP', '.A.RS.', -1, 552], 0.800064), ([-1, 25, 'TCP', '.A.RS.', -1, 552], 0.800064), ([-1, 25, 'TCP', -1, 8, 216], 0.0), ([-1, 25, 'TCP', '.A.RS.', -1, -1], 0.8452645371809101), ([-1, 25, 'TCP', '...R..', 8, 460], 0.0), ([-1, 25, 'TCP', '.A.RS.', 6, -1], 0.800004), ([-1, 25, 'TCP', '.A.RS.', 6, -1], 0.800004), ([-1, 25, 'TCP', '.A.RS.', -1, 552], 0.800064), ([-1, 25, 'TCP', '...R..', 4, 268], 0.0), ([-1, 25, 'TCP', '.A.RS.', -1, 552], 0.800064)] \n",
      "\n",
      "[[-1, 25, 'TCP', '.A.RS.', 5, 276], [-1, 25, 'TCP', '.A.RS.', -1, 552], [-1, 25, 'TCP', '.A.RS.', -1, 552], [-1, 25, 'TCP', '.A.RS.', -1, -1], [-1, 25, 'TCP', '.A.RS.', -1, 552], [-1, 25, 'TCP', '.A.RS.', -1, 552], [-1, 25, 'TCP', '.A.RS.', 6, -1], [-1, 25, 'TCP', '.A.RS.', -1, 552], [-1, 25, 'TCP', '.A.RS.', -1, 552], [-1, 25, 'TCP', '.A.RS.', -1, 552], [-1, 25, 'TCP', '.A.RS.', -1, -1], [-1, 25, 'TCP', '.A.RS.', -1, 552], [-1, 25, 'TCP', '.A.RS.', 6, -1], [-1, 25, 'TCP', '.A.RS.', -1, 552], [-1, 25, 'TCP', '...R..', 6, 40], [-1, 25, 'TCP', '.A.RS.', 6, -1], [-1, 25, 'TCP', '.A.RS.', -1, 552], [-1, 25, 'TCP', '.A.RS.', -1, 552], [-1, 25, 'TCP', '.AP.SF', 4, 268], [-1, 25, 'TCP', '.A.RS.', -1, 552]]\n",
      "Generation id:56 MaxValue: 0.8452645371809101\n",
      "\n",
      " generation 56 population and fitness values \n",
      "\" [([-1, 25, 'TCP', '.A.RS.', 5, 276], 0.800108), ([-1, 25, 'TCP', '.A.RS.', -1, 552], 0.800064), ([-1, 25, 'TCP', '.A.RS.', -1, 552], 0.800064), ([-1, 25, 'TCP', '.A.RS.', -1, -1], 0.8452645371809101), ([-1, 25, 'TCP', '.A.RS.', -1, 552], 0.800064), ([-1, 25, 'TCP', '.A.RS.', -1, 552], 0.800064), ([-1, 25, 'TCP', '.A.RS.', 6, -1], 0.800004), ([-1, 25, 'TCP', '.A.RS.', -1, 552], 0.800064), ([-1, 25, 'TCP', '.A.RS.', -1, 552], 0.800064), ([-1, 25, 'TCP', '.A.RS.', -1, 552], 0.800064), ([-1, 25, 'TCP', '.A.RS.', -1, -1], 0.8452645371809101), ([-1, 25, 'TCP', '.A.RS.', -1, 552], 0.800064), ([-1, 25, 'TCP', '.A.RS.', 6, -1], 0.800004), ([-1, 25, 'TCP', '.A.RS.', -1, 552], 0.800064), ([-1, 25, 'TCP', '...R..', 6, 40], 0.0), ([-1, 25, 'TCP', '.A.RS.', 6, -1], 0.800004), ([-1, 25, 'TCP', '.A.RS.', -1, 552], 0.800064), ([-1, 25, 'TCP', '.A.RS.', -1, 552], 0.800064), ([-1, 25, 'TCP', '.AP.SF', 4, 268], 0.0), ([-1, 25, 'TCP', '.A.RS.', -1, 552], 0.800064)] \n",
      "\n",
      "[[-1, 25, 'TCP', '.A.RS.', -1, 276], [-1, 25, 'TCP', '.A.RS.', 5, 552], [-1, 25, 'TCP', '.A.RS.', 6, -1], [-1, 25, 'TCP', '.A.RS.', 6, -1], [-1, 25, 'TCP', '.A.RS.', -1, -1], [-1, 25, 'TCP', '.A.RS.', -1, 552], [-1, 25, 'TCP', '.A.RS.', -1, 552], [-1, 25, 'TCP', '.A.RS.', -1, 552], [-1, 25, 'TCP', '.A.RS.', -1, 552], [-1, 25, 'TCP', '.A.RS.', -1, 552], [-1, 25, 'TCP', '.A.RS.', -1, 552], [-1, 25, 'TCP', '.A.RS.', -1, 552], [-1, 25, 'TCP', '.A.RS.', -1, -1], [-1, 25, 'TCP', '.A.RS.', -1, 552], [-1, 25, 'TCP', '.A.RS.', -1, -1], [-1, 25, 'TCP', '.A.RS.', 6, 552], [-1, 25, 'TCP', '.A.RS.', -1, 552], [-1, 25, 'TCP', '.A.RS.', -1, 552], [-1, 25, 'TCP', '.A.RS.', -1, 552], [-1, 25, 'TCP', '.A.RS.', -1, 552]]\n",
      "Generation id:57 MaxValue: 0.8452645371809101\n",
      "\n",
      " generation 57 population and fitness values \n",
      "\" [([-1, 25, 'TCP', '.A.RS.', -1, 276], 0.800108), ([-1, 25, 'TCP', '.A.RS.', 5, 552], 0.0), ([-1, 25, 'TCP', '.A.RS.', 6, -1], 0.800004), ([-1, 25, 'TCP', '.A.RS.', 6, -1], 0.800004), ([-1, 25, 'TCP', '.A.RS.', -1, -1], 0.8452645371809101), ([-1, 25, 'TCP', '.A.RS.', -1, 552], 0.800064), ([-1, 25, 'TCP', '.A.RS.', -1, 552], 0.800064), ([-1, 25, 'TCP', '.A.RS.', -1, 552], 0.800064), ([-1, 25, 'TCP', '.A.RS.', -1, 552], 0.800064), ([-1, 25, 'TCP', '.A.RS.', -1, 552], 0.800064), ([-1, 25, 'TCP', '.A.RS.', -1, 552], 0.800064), ([-1, 25, 'TCP', '.A.RS.', -1, 552], 0.800064), ([-1, 25, 'TCP', '.A.RS.', -1, -1], 0.8452645371809101), ([-1, 25, 'TCP', '.A.RS.', -1, 552], 0.800064), ([-1, 25, 'TCP', '.A.RS.', -1, -1], 0.8452645371809101), ([-1, 25, 'TCP', '.A.RS.', 6, 552], 0.0), ([-1, 25, 'TCP', '.A.RS.', -1, 552], 0.800064), ([-1, 25, 'TCP', '.A.RS.', -1, 552], 0.800064), ([-1, 25, 'TCP', '.A.RS.', -1, 552], 0.800064), ([-1, 25, 'TCP', '.A.RS.', -1, 552], 0.800064)] \n",
      "\n",
      "[[-1, 25, 'TCP', '.AP.SF', 8, 40], [-1, 25, 'TCP', '.A.RS.', -1, 552], [-1, 25, 'TCP', '.A.RS.', 2, 268], [-1, 25, 'TCP', '.A.RS.', -1, 552], [-1, 25, 'TCP', '.A.RS.', 4, 290], [-1, 25, 'TCP', '.A.RS.', -1, -1], [-1, 25, 'TCP', '.A.RS.', -1, 216], [-1, 25, 'TCP', '.A.RS.', -1, 552], [-1, 25, 'TCP', '.A.RS.', -1, 552], [-1, 25, 'TCP', '.A.RS.', -1, -1], [-1, 25, 'TCP', '.A.RS.', -1, 552], [-1, 25, 'TCP', '.A.RS.', -1, 552], [-1, 25, 'TCP', '.A.RS.', -1, -1], [-1, 25, 'TCP', '.A.RS.', -1, 552], [-1, 25, 'TCP', '.A.RS.', 6, -1], [-1, 25, 'TCP', '.A.RS.', 6, -1], [-1, 25, 'TCP', '.A.RS.', -1, 552], [-1, 25, 'TCP', '.A.RS.', -1, 552], [-1, 25, 'TCP', '.A.RS.', -1, 552], [-1, 25, 'TCP', '.A.RS.', -1, -1]]\n",
      "Generation id:58 MaxValue: 0.8452645371809101\n",
      "\n",
      " generation 58 population and fitness values \n",
      "\" [([-1, 25, 'TCP', '.AP.SF', 8, 40], 0.0), ([-1, 25, 'TCP', '.A.RS.', -1, 552], 0.800064), ([-1, 25, 'TCP', '.A.RS.', 2, 268], 0.0), ([-1, 25, 'TCP', '.A.RS.', -1, 552], 0.800064), ([-1, 25, 'TCP', '.A.RS.', 4, 290], 0.0), ([-1, 25, 'TCP', '.A.RS.', -1, -1], 0.8452645371809101), ([-1, 25, 'TCP', '.A.RS.', -1, 216], 0.8450206747986926), ([-1, 25, 'TCP', '.A.RS.', -1, 552], 0.800064), ([-1, 25, 'TCP', '.A.RS.', -1, 552], 0.800064), ([-1, 25, 'TCP', '.A.RS.', -1, -1], 0.8452645371809101), ([-1, 25, 'TCP', '.A.RS.', -1, 552], 0.800064), ([-1, 25, 'TCP', '.A.RS.', -1, 552], 0.800064), ([-1, 25, 'TCP', '.A.RS.', -1, -1], 0.8452645371809101), ([-1, 25, 'TCP', '.A.RS.', -1, 552], 0.800064), ([-1, 25, 'TCP', '.A.RS.', 6, -1], 0.800004), ([-1, 25, 'TCP', '.A.RS.', 6, -1], 0.800004), ([-1, 25, 'TCP', '.A.RS.', -1, 552], 0.800064), ([-1, 25, 'TCP', '.A.RS.', -1, 552], 0.800064), ([-1, 25, 'TCP', '.A.RS.', -1, 552], 0.800064), ([-1, 25, 'TCP', '.A.RS.', -1, -1], 0.8452645371809101)] \n",
      "\n",
      "[[-1, 25, 'TCP', '.A.RS.', -1, 552], [-1, 25, 'TCP', '.A.RS.', -1, -1], [-1, 25, 'TCP', '.AP.SF', 6, 460], [-1, 25, 'TCP', '.A.RS.', -1, -1], [-1, 25, 'TCP', '...R..', 10, 290], [-1, 25, 'TCP', '.A.RS.', -1, -1], [-1, 25, 'TCP', '.A.RS.', -1, 552], [-1, 25, 'TCP', '.A.RS.', 6, -1], [-1, 25, 'TCP', '.A.RS.', 7, 552], [-1, 25, 'TCP', '.A.RS.', -1, 552], [-1, 25, 'TCP', '.AP.SF', 9, 276], [-1, 25, 'TCP', '.A.RS.', -1, 552], [-1, 25, 'TCP', '.A.RS.', -1, 552], [-1, 25, 'TCP', '.A.RS.', -1, -1], [-1, 25, 'TCP', '.A.RS.', -1, -1], [-1, 25, 'TCP', '.A.RS.', -1, 552], [-1, 25, 'TCP', '.A.RS.', -1, 552], [-1, 25, 'TCP', '.A.RS.', -1, 552], [-1, 25, 'TCP', '.A.RS.', -1, 552], [-1, 25, 'TCP', '.A.RS.', -1, 552]]\n",
      "Generation id:59 MaxValue: 0.8452645371809101\n",
      "\n",
      " generation 59 population and fitness values \n",
      "\" [([-1, 25, 'TCP', '.A.RS.', -1, 552], 0.800064), ([-1, 25, 'TCP', '.A.RS.', -1, -1], 0.8452645371809101), ([-1, 25, 'TCP', '.AP.SF', 6, 460], 0.0), ([-1, 25, 'TCP', '.A.RS.', -1, -1], 0.8452645371809101), ([-1, 25, 'TCP', '...R..', 10, 290], 0.0), ([-1, 25, 'TCP', '.A.RS.', -1, -1], 0.8452645371809101), ([-1, 25, 'TCP', '.A.RS.', -1, 552], 0.800064), ([-1, 25, 'TCP', '.A.RS.', 6, -1], 0.800004), ([-1, 25, 'TCP', '.A.RS.', 7, 552], 0.0), ([-1, 25, 'TCP', '.A.RS.', -1, 552], 0.800064), ([-1, 25, 'TCP', '.AP.SF', 9, 276], 0.0), ([-1, 25, 'TCP', '.A.RS.', -1, 552], 0.800064), ([-1, 25, 'TCP', '.A.RS.', -1, 552], 0.800064), ([-1, 25, 'TCP', '.A.RS.', -1, -1], 0.8452645371809101), ([-1, 25, 'TCP', '.A.RS.', -1, -1], 0.8452645371809101), ([-1, 25, 'TCP', '.A.RS.', -1, 552], 0.800064), ([-1, 25, 'TCP', '.A.RS.', -1, 552], 0.800064), ([-1, 25, 'TCP', '.A.RS.', -1, 552], 0.800064), ([-1, 25, 'TCP', '.A.RS.', -1, 552], 0.800064), ([-1, 25, 'TCP', '.A.RS.', -1, 552], 0.800064)] \n",
      "\n",
      "[[-1, 25, 'TCP', '.A.RS.', 1, 268], [-1, 25, 'TCP', '.A.RS.', -1, 552], [-1, 25, 'TCP', '.A.RS.', -1, 552], [-1, 25, 'TCP', '.A.RS.', -1, -1], [-1, 25, 'TCP', '.A.RS.', -1, -1], [-1, 25, 'TCP', '.A.RS.', -1, 552], [-1, 25, 'TCP', -1, 2, 268], [-1, 25, 'TCP', '.A.RS.', -1, -1], [-1, 25, 'TCP', '.A.RS.', 6, -1], [-1, 25, 'TCP', '.A.RS.', 6, -1], [-1, 25, 'TCP', '.A.RS.', 10, 348], [-1, 25, 'TCP', '.A.RS.', -1, 552], [-1, 25, 'TCP', '.A.RS.', -1, 552], [-1, 25, 'TCP', '.A.RS.', -1, 552], [-1, 25, 'TCP', '.A.RS.', -1, 552], [-1, 25, 'TCP', '.A.RS.', -1, -1], [-1, 25, 'TCP', '.A.RS.', -1, 552], [-1, 25, 'TCP', '.A.RS.', -1, -1], [-1, 25, 'TCP', '.A.RS.', -1, 552], [-1, 25, 'TCP', '.A.RS.', -1, 552]]\n"
     ]
    },
    {
     "data": {
      "image/png": "[encoded data removed]",
      "text/plain": [
       "<Figure size 432x288 with 1 Axes>"
      ]
     },
     "metadata": {
      "needs_background": "light"
     },
     "output_type": "display_data"
    }
   ],
   "source": [
    "train_ga(60,20,0.9,0.4)"
   ]
  },
  {
   "cell_type": "code",
   "execution_count": 52,
   "id": "ba30c0b5",
   "metadata": {},
   "outputs": [],
   "source": [
    "#data_spam_train_1 = dataset_spam_train.drop(['td','class'],axis=1)"
   ]
  },
  {
   "cell_type": "code",
   "execution_count": 53,
   "id": "102f1ef4",
   "metadata": {},
   "outputs": [],
   "source": [
    "#data_normal_train_1 = dataset_normal_train.drop(['td','class'],axis=1)"
   ]
  },
  {
   "cell_type": "code",
   "execution_count": 54,
   "id": "23e2a5a0",
   "metadata": {},
   "outputs": [],
   "source": [
    "#data_spam_train_1.to_csv(r'd:\\matlab_files\\dataset_spam_train.csv',index=False)"
   ]
  },
  {
   "cell_type": "code",
   "execution_count": 55,
   "id": "074ee16f",
   "metadata": {},
   "outputs": [],
   "source": [
    "#data_normal_train_1.to_csv(r'd:\\matlab_files\\dataset_normal_train.csv',index=False)"
   ]
  },
  {
   "cell_type": "code",
   "execution_count": 56,
   "id": "238d9c7b",
   "metadata": {},
   "outputs": [],
   "source": [
    "#data_spam_test_1 = dataset_spam_test.drop(['td','class'],axis=1)"
   ]
  },
  {
   "cell_type": "code",
   "execution_count": 57,
   "id": "2bcea90a",
   "metadata": {},
   "outputs": [],
   "source": [
    "#data_normal_test_1 = dataset_normal_test.drop(['td','class'],axis=1)"
   ]
  },
  {
   "cell_type": "code",
   "execution_count": 58,
   "id": "7cec7b20",
   "metadata": {},
   "outputs": [],
   "source": [
    "#data_spam_test_1.to_csv(r'd:\\matlab_files\\dataset_spam_test.csv',index=False)"
   ]
  },
  {
   "cell_type": "code",
   "execution_count": 59,
   "id": "db8e2351",
   "metadata": {},
   "outputs": [],
   "source": [
    "#data_normal_test_1.to_csv(r'd:\\matlab_files\\dataset_normal_test.csv',index=False)"
   ]
  },
  {
   "cell_type": "code",
   "execution_count": null,
   "id": "cedf9a24",
   "metadata": {},
   "outputs": [],
   "source": []
  }
 ],
 "metadata": {
  "kernelspec": {
   "display_name": "Python 3 (ipykernel)",
   "language": "python",
   "name": "python3"
  },
  "language_info": {
   "codemirror_mode": {
    "name": "ipython",
    "version": 3
   },
   "file_extension": ".py",
   "mimetype": "text/x-python",
   "name": "python",
   "nbconvert_exporter": "python",
   "pygments_lexer": "ipython3",
   "version": "3.8.11"
  }
 },
 "nbformat": 4,
 "nbformat_minor": 5
}
